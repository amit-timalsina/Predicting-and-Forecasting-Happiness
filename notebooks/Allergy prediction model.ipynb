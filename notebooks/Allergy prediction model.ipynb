{
 "cells": [
  {
   "cell_type": "markdown",
   "id": "7f16b79b",
   "metadata": {},
   "source": [
    "## Setup"
   ]
  },
  {
   "cell_type": "code",
   "execution_count": 1,
   "id": "9e34fe1c",
   "metadata": {},
   "outputs": [],
   "source": [
    "# Python ≥3.5 is required\n",
    "import sys\n",
    "assert sys.version_info >= (3, 5)\n",
    "\n",
    "# Scikit-Learn ≥0.20 is required\n",
    "import sklearn\n",
    "assert sklearn.__version__ >= \"0.20\"\n",
    "\n",
    "# Common imports\n",
    "import numpy as np\n",
    "import os\n",
    "import pandas as pd\n",
    "\n",
    "# to make this notebook's output stable across runs\n",
    "np.random.seed(42)\n",
    "\n",
    "# To plot pretty figures\n",
    "%matplotlib inline\n",
    "import matplotlib as mpl\n",
    "import matplotlib.pyplot as plt\n",
    "import seaborn as sns\n",
    "mpl.rc('axes', labelsize=14)\n",
    "mpl.rc('xtick', labelsize=12)\n",
    "mpl.rc('ytick', labelsize=12)\n",
    "\n",
    "# Where to save the figures\n",
    "PROJECT_ROOT_DIR = \".\"\n",
    "IMAGES_PATH = os.path.join(PROJECT_ROOT_DIR, \"images\")\n",
    "os.makedirs(IMAGES_PATH, exist_ok=True)\n",
    "\n",
    "def save_fig(fig_id, tight_layout=True, fig_extension=\"png\", resolution=300):\n",
    "    path = os.path.join(IMAGES_PATH, fig_id + \".\" + fig_extension)\n",
    "    print(\"Saving figure\", fig_id)\n",
    "    if tight_layout:\n",
    "        plt.tight_layout()\n",
    "    plt.savefig(path, format=fig_extension, dpi=resolution)"
   ]
  },
  {
   "cell_type": "markdown",
   "id": "973bd243",
   "metadata": {},
   "source": [
    "## Get the data"
   ]
  },
  {
   "cell_type": "code",
   "execution_count": 2,
   "id": "30ef73f0",
   "metadata": {},
   "outputs": [
    {
     "data": {
      "text/html": [
       "<div>\n",
       "<style scoped>\n",
       "    .dataframe tbody tr th:only-of-type {\n",
       "        vertical-align: middle;\n",
       "    }\n",
       "\n",
       "    .dataframe tbody tr th {\n",
       "        vertical-align: top;\n",
       "    }\n",
       "\n",
       "    .dataframe thead th {\n",
       "        text-align: right;\n",
       "    }\n",
       "</style>\n",
       "<table border=\"1\" class=\"dataframe\">\n",
       "  <thead>\n",
       "    <tr style=\"text-align: right;\">\n",
       "      <th></th>\n",
       "      <th>timestamp</th>\n",
       "      <th>lat</th>\n",
       "      <th>lon</th>\n",
       "      <th>temperature</th>\n",
       "      <th>atpressure</th>\n",
       "      <th>cloudiness</th>\n",
       "      <th>rain</th>\n",
       "      <th>windspeed</th>\n",
       "      <th>Relationship</th>\n",
       "      <th>job</th>\n",
       "      <th>...</th>\n",
       "      <th>Previous 10 days</th>\n",
       "      <th>Total Sleep (minutes)</th>\n",
       "      <th>Min of heartRate</th>\n",
       "      <th>Max of heartRate</th>\n",
       "      <th>Average of heartRate</th>\n",
       "      <th>steps</th>\n",
       "      <th>distance</th>\n",
       "      <th>runDistance</th>\n",
       "      <th>calories</th>\n",
       "      <th>TARGET (Happiness)</th>\n",
       "    </tr>\n",
       "  </thead>\n",
       "  <tbody>\n",
       "    <tr>\n",
       "      <th>0</th>\n",
       "      <td>5/12/21 0:36</td>\n",
       "      <td>38.924006</td>\n",
       "      <td>1.455704</td>\n",
       "      <td>17.42</td>\n",
       "      <td>1020</td>\n",
       "      <td>0</td>\n",
       "      <td>NaN</td>\n",
       "      <td>7.00</td>\n",
       "      <td>5</td>\n",
       "      <td>NaN</td>\n",
       "      <td>...</td>\n",
       "      <td>4.40</td>\n",
       "      <td>NaN</td>\n",
       "      <td>NaN</td>\n",
       "      <td>NaN</td>\n",
       "      <td>NaN</td>\n",
       "      <td>NaN</td>\n",
       "      <td>NaN</td>\n",
       "      <td>NaN</td>\n",
       "      <td>NaN</td>\n",
       "      <td>5</td>\n",
       "    </tr>\n",
       "    <tr>\n",
       "      <th>1</th>\n",
       "      <td>5/12/21 11:42</td>\n",
       "      <td>38.916601</td>\n",
       "      <td>1.420973</td>\n",
       "      <td>20.35</td>\n",
       "      <td>1017</td>\n",
       "      <td>0</td>\n",
       "      <td>NaN</td>\n",
       "      <td>7.20</td>\n",
       "      <td>3</td>\n",
       "      <td>NaN</td>\n",
       "      <td>...</td>\n",
       "      <td>4.40</td>\n",
       "      <td>NaN</td>\n",
       "      <td>NaN</td>\n",
       "      <td>NaN</td>\n",
       "      <td>NaN</td>\n",
       "      <td>NaN</td>\n",
       "      <td>NaN</td>\n",
       "      <td>NaN</td>\n",
       "      <td>NaN</td>\n",
       "      <td>4</td>\n",
       "    </tr>\n",
       "    <tr>\n",
       "      <th>2</th>\n",
       "      <td>5/12/21 14:47</td>\n",
       "      <td>38.922613</td>\n",
       "      <td>1.461175</td>\n",
       "      <td>21.33</td>\n",
       "      <td>1016</td>\n",
       "      <td>0</td>\n",
       "      <td>NaN</td>\n",
       "      <td>6.17</td>\n",
       "      <td>4</td>\n",
       "      <td>NaN</td>\n",
       "      <td>...</td>\n",
       "      <td>4.40</td>\n",
       "      <td>NaN</td>\n",
       "      <td>NaN</td>\n",
       "      <td>NaN</td>\n",
       "      <td>NaN</td>\n",
       "      <td>NaN</td>\n",
       "      <td>NaN</td>\n",
       "      <td>NaN</td>\n",
       "      <td>NaN</td>\n",
       "      <td>4</td>\n",
       "    </tr>\n",
       "    <tr>\n",
       "      <th>3</th>\n",
       "      <td>5/12/21 17:48</td>\n",
       "      <td>38.922609</td>\n",
       "      <td>1.461175</td>\n",
       "      <td>19.80</td>\n",
       "      <td>1014</td>\n",
       "      <td>20</td>\n",
       "      <td>NaN</td>\n",
       "      <td>5.36</td>\n",
       "      <td>4</td>\n",
       "      <td>NaN</td>\n",
       "      <td>...</td>\n",
       "      <td>4.40</td>\n",
       "      <td>NaN</td>\n",
       "      <td>NaN</td>\n",
       "      <td>NaN</td>\n",
       "      <td>NaN</td>\n",
       "      <td>NaN</td>\n",
       "      <td>NaN</td>\n",
       "      <td>NaN</td>\n",
       "      <td>NaN</td>\n",
       "      <td>5</td>\n",
       "    </tr>\n",
       "    <tr>\n",
       "      <th>4</th>\n",
       "      <td>5/12/21 20:54</td>\n",
       "      <td>38.922606</td>\n",
       "      <td>1.461176</td>\n",
       "      <td>18.06</td>\n",
       "      <td>1014</td>\n",
       "      <td>20</td>\n",
       "      <td>NaN</td>\n",
       "      <td>4.47</td>\n",
       "      <td>5</td>\n",
       "      <td>NaN</td>\n",
       "      <td>...</td>\n",
       "      <td>4.40</td>\n",
       "      <td>NaN</td>\n",
       "      <td>NaN</td>\n",
       "      <td>NaN</td>\n",
       "      <td>NaN</td>\n",
       "      <td>NaN</td>\n",
       "      <td>NaN</td>\n",
       "      <td>NaN</td>\n",
       "      <td>NaN</td>\n",
       "      <td>4</td>\n",
       "    </tr>\n",
       "  </tbody>\n",
       "</table>\n",
       "<p>5 rows × 30 columns</p>\n",
       "</div>"
      ],
      "text/plain": [
       "       timestamp        lat       lon  temperature  atpressure  cloudiness  \\\n",
       "0   5/12/21 0:36  38.924006  1.455704        17.42        1020           0   \n",
       "1  5/12/21 11:42  38.916601  1.420973        20.35        1017           0   \n",
       "2  5/12/21 14:47  38.922613  1.461175        21.33        1016           0   \n",
       "3  5/12/21 17:48  38.922609  1.461175        19.80        1014          20   \n",
       "4  5/12/21 20:54  38.922606  1.461176        18.06        1014          20   \n",
       "\n",
       "   rain  windspeed  Relationship  job  ...   Previous 10 days  \\\n",
       "0   NaN       7.00             5  NaN  ...              4.40    \n",
       "1   NaN       7.20             3  NaN  ...              4.40    \n",
       "2   NaN       6.17             4  NaN  ...              4.40    \n",
       "3   NaN       5.36             4  NaN  ...              4.40    \n",
       "4   NaN       4.47             5  NaN  ...              4.40    \n",
       "\n",
       "   Total Sleep (minutes) Min of heartRate Max of heartRate  \\\n",
       "0                    NaN              NaN              NaN   \n",
       "1                    NaN              NaN              NaN   \n",
       "2                    NaN              NaN              NaN   \n",
       "3                    NaN              NaN              NaN   \n",
       "4                    NaN              NaN              NaN   \n",
       "\n",
       "   Average of heartRate  steps  distance  runDistance  calories  \\\n",
       "0                   NaN    NaN       NaN          NaN       NaN   \n",
       "1                   NaN    NaN       NaN          NaN       NaN   \n",
       "2                   NaN    NaN       NaN          NaN       NaN   \n",
       "3                   NaN    NaN       NaN          NaN       NaN   \n",
       "4                   NaN    NaN       NaN          NaN       NaN   \n",
       "\n",
       "  TARGET (Happiness)  \n",
       "0                  5  \n",
       "1                  4  \n",
       "2                  4  \n",
       "3                  5  \n",
       "4                  4  \n",
       "\n",
       "[5 rows x 30 columns]"
      ]
     },
     "execution_count": 2,
     "metadata": {},
     "output_type": "execute_result"
    }
   ],
   "source": [
    "df = pd.read_csv('Prod dataset 20210728.xlsx - Raw data.csv')\n",
    "df.head()"
   ]
  },
  {
   "cell_type": "code",
   "execution_count": 3,
   "id": "04cdfd27",
   "metadata": {
    "scrolled": false
   },
   "outputs": [
    {
     "name": "stdout",
     "output_type": "stream",
     "text": [
      "<class 'pandas.core.frame.DataFrame'>\n",
      "RangeIndex: 403 entries, 0 to 402\n",
      "Data columns (total 30 columns):\n",
      " #   Column                 Non-Null Count  Dtype  \n",
      "---  ------                 --------------  -----  \n",
      " 0   timestamp              403 non-null    object \n",
      " 1   lat                    403 non-null    float64\n",
      " 2   lon                    403 non-null    float64\n",
      " 3   temperature            403 non-null    float64\n",
      " 4   atpressure             403 non-null    int64  \n",
      " 5   cloudiness             403 non-null    int64  \n",
      " 6   rain                   0 non-null      float64\n",
      " 7   windspeed              403 non-null    float64\n",
      " 8   Relationship           403 non-null    int64  \n",
      " 9   job                    182 non-null    float64\n",
      " 10  social                 403 non-null    int64  \n",
      " 11  Refresh                398 non-null    float64\n",
      " 12  dow                    403 non-null    object \n",
      " 13  date                   403 non-null    object \n",
      " 14  day slot               403 non-null    object \n",
      " 15  Province               403 non-null    object \n",
      " 16  District               403 non-null    object \n",
      " 17   Previous 1 days       301 non-null    object \n",
      " 18   Previous 3 days       301 non-null    object \n",
      " 19   Previous 6 days       301 non-null    object \n",
      " 20   Previous 10 days      301 non-null    object \n",
      " 21  Total Sleep (minutes)  115 non-null    float64\n",
      " 22  Min of heartRate       123 non-null    float64\n",
      " 23  Max of heartRate       123 non-null    float64\n",
      " 24   Average of heartRate  123 non-null    float64\n",
      " 25   steps                 123 non-null    float64\n",
      " 26   distance              123 non-null    float64\n",
      " 27   runDistance           123 non-null    float64\n",
      " 28   calories              123 non-null    float64\n",
      " 29  TARGET (Happiness)     403 non-null    int64  \n",
      "dtypes: float64(15), int64(5), object(10)\n",
      "memory usage: 94.6+ KB\n"
     ]
    }
   ],
   "source": [
    "df.info()"
   ]
  },
  {
   "cell_type": "code",
   "execution_count": 6,
   "id": "3e9ecce4",
   "metadata": {},
   "outputs": [
    {
     "data": {
      "text/plain": [
       "Index(['timestamp', 'lat', 'lon', 'temperature', 'atpressure', 'cloudiness',\n",
       "       'rain', 'windspeed', 'Relationship', 'job', 'social', 'Refresh', 'dow',\n",
       "       'date', 'day slot', 'Province', 'District', ' Previous 1 days',\n",
       "       ' Previous 3 days', ' Previous 6 days', ' Previous 10 days',\n",
       "       'TARGET (Happiness)'],\n",
       "      dtype='object')"
      ]
     },
     "execution_count": 6,
     "metadata": {},
     "output_type": "execute_result"
    }
   ],
   "source": [
    "df.columns"
   ]
  },
  {
   "cell_type": "code",
   "execution_count": 8,
   "id": "9268a3ed",
   "metadata": {},
   "outputs": [
    {
     "data": {
      "text/plain": [
       "(403, 30)"
      ]
     },
     "execution_count": 8,
     "metadata": {},
     "output_type": "execute_result"
    }
   ],
   "source": [
    "df.shape"
   ]
  },
  {
   "cell_type": "code",
   "execution_count": 9,
   "id": "89241123",
   "metadata": {
    "scrolled": false
   },
   "outputs": [
    {
     "data": {
      "text/html": [
       "<div>\n",
       "<style scoped>\n",
       "    .dataframe tbody tr th:only-of-type {\n",
       "        vertical-align: middle;\n",
       "    }\n",
       "\n",
       "    .dataframe tbody tr th {\n",
       "        vertical-align: top;\n",
       "    }\n",
       "\n",
       "    .dataframe thead th {\n",
       "        text-align: right;\n",
       "    }\n",
       "</style>\n",
       "<table border=\"1\" class=\"dataframe\">\n",
       "  <thead>\n",
       "    <tr style=\"text-align: right;\">\n",
       "      <th></th>\n",
       "      <th>lat</th>\n",
       "      <th>lon</th>\n",
       "      <th>temperature</th>\n",
       "      <th>atpressure</th>\n",
       "      <th>cloudiness</th>\n",
       "      <th>rain</th>\n",
       "      <th>windspeed</th>\n",
       "      <th>Relationship</th>\n",
       "      <th>job</th>\n",
       "      <th>social</th>\n",
       "      <th>Refresh</th>\n",
       "      <th>Total Sleep (minutes)</th>\n",
       "      <th>Min of heartRate</th>\n",
       "      <th>Max of heartRate</th>\n",
       "      <th>Average of heartRate</th>\n",
       "      <th>steps</th>\n",
       "      <th>distance</th>\n",
       "      <th>runDistance</th>\n",
       "      <th>calories</th>\n",
       "      <th>TARGET (Happiness)</th>\n",
       "    </tr>\n",
       "  </thead>\n",
       "  <tbody>\n",
       "    <tr>\n",
       "      <th>count</th>\n",
       "      <td>403.000000</td>\n",
       "      <td>403.000000</td>\n",
       "      <td>403.000000</td>\n",
       "      <td>403.000000</td>\n",
       "      <td>403.000000</td>\n",
       "      <td>0.0</td>\n",
       "      <td>403.000000</td>\n",
       "      <td>403.000000</td>\n",
       "      <td>182.000000</td>\n",
       "      <td>403.000000</td>\n",
       "      <td>398.000000</td>\n",
       "      <td>115.000000</td>\n",
       "      <td>123.000000</td>\n",
       "      <td>123.000000</td>\n",
       "      <td>123.000000</td>\n",
       "      <td>123.000000</td>\n",
       "      <td>123.000000</td>\n",
       "      <td>123.000000</td>\n",
       "      <td>123.000000</td>\n",
       "      <td>403.000000</td>\n",
       "    </tr>\n",
       "    <tr>\n",
       "      <th>mean</th>\n",
       "      <td>39.697781</td>\n",
       "      <td>-0.951085</td>\n",
       "      <td>23.244268</td>\n",
       "      <td>1015.461538</td>\n",
       "      <td>20.362283</td>\n",
       "      <td>NaN</td>\n",
       "      <td>2.715980</td>\n",
       "      <td>3.565757</td>\n",
       "      <td>2.939560</td>\n",
       "      <td>2.945409</td>\n",
       "      <td>2.798995</td>\n",
       "      <td>379.808696</td>\n",
       "      <td>47.422764</td>\n",
       "      <td>114.252033</td>\n",
       "      <td>72.704878</td>\n",
       "      <td>4468.186992</td>\n",
       "      <td>3111.682927</td>\n",
       "      <td>304.634146</td>\n",
       "      <td>111.056911</td>\n",
       "      <td>3.560794</td>\n",
       "    </tr>\n",
       "    <tr>\n",
       "      <th>std</th>\n",
       "      <td>0.976254</td>\n",
       "      <td>2.810598</td>\n",
       "      <td>4.111788</td>\n",
       "      <td>4.528559</td>\n",
       "      <td>26.858812</td>\n",
       "      <td>NaN</td>\n",
       "      <td>1.644889</td>\n",
       "      <td>1.147144</td>\n",
       "      <td>0.435542</td>\n",
       "      <td>0.616520</td>\n",
       "      <td>0.941513</td>\n",
       "      <td>121.393004</td>\n",
       "      <td>3.454643</td>\n",
       "      <td>5.745409</td>\n",
       "      <td>5.039871</td>\n",
       "      <td>1817.656911</td>\n",
       "      <td>1288.903991</td>\n",
       "      <td>132.164966</td>\n",
       "      <td>42.570732</td>\n",
       "      <td>0.848265</td>\n",
       "    </tr>\n",
       "    <tr>\n",
       "      <th>min</th>\n",
       "      <td>38.875838</td>\n",
       "      <td>-8.221469</td>\n",
       "      <td>10.460000</td>\n",
       "      <td>993.000000</td>\n",
       "      <td>0.000000</td>\n",
       "      <td>NaN</td>\n",
       "      <td>0.000000</td>\n",
       "      <td>1.000000</td>\n",
       "      <td>1.000000</td>\n",
       "      <td>2.000000</td>\n",
       "      <td>1.000000</td>\n",
       "      <td>76.000000</td>\n",
       "      <td>41.000000</td>\n",
       "      <td>104.000000</td>\n",
       "      <td>61.700000</td>\n",
       "      <td>1598.000000</td>\n",
       "      <td>1095.000000</td>\n",
       "      <td>92.000000</td>\n",
       "      <td>39.000000</td>\n",
       "      <td>1.000000</td>\n",
       "    </tr>\n",
       "    <tr>\n",
       "      <th>25%</th>\n",
       "      <td>38.922611</td>\n",
       "      <td>-3.696655</td>\n",
       "      <td>20.580000</td>\n",
       "      <td>1013.000000</td>\n",
       "      <td>0.000000</td>\n",
       "      <td>NaN</td>\n",
       "      <td>1.340000</td>\n",
       "      <td>3.000000</td>\n",
       "      <td>3.000000</td>\n",
       "      <td>3.000000</td>\n",
       "      <td>2.000000</td>\n",
       "      <td>338.500000</td>\n",
       "      <td>46.000000</td>\n",
       "      <td>111.000000</td>\n",
       "      <td>68.300000</td>\n",
       "      <td>3132.000000</td>\n",
       "      <td>2134.000000</td>\n",
       "      <td>222.000000</td>\n",
       "      <td>76.000000</td>\n",
       "      <td>3.000000</td>\n",
       "    </tr>\n",
       "    <tr>\n",
       "      <th>50%</th>\n",
       "      <td>38.970934</td>\n",
       "      <td>1.422942</td>\n",
       "      <td>23.770000</td>\n",
       "      <td>1016.000000</td>\n",
       "      <td>14.000000</td>\n",
       "      <td>NaN</td>\n",
       "      <td>2.680000</td>\n",
       "      <td>4.000000</td>\n",
       "      <td>3.000000</td>\n",
       "      <td>3.000000</td>\n",
       "      <td>3.000000</td>\n",
       "      <td>379.000000</td>\n",
       "      <td>47.000000</td>\n",
       "      <td>113.000000</td>\n",
       "      <td>72.400000</td>\n",
       "      <td>4282.000000</td>\n",
       "      <td>2982.000000</td>\n",
       "      <td>288.000000</td>\n",
       "      <td>107.000000</td>\n",
       "      <td>4.000000</td>\n",
       "    </tr>\n",
       "    <tr>\n",
       "      <th>75%</th>\n",
       "      <td>40.478944</td>\n",
       "      <td>1.461167</td>\n",
       "      <td>25.980000</td>\n",
       "      <td>1018.000000</td>\n",
       "      <td>20.000000</td>\n",
       "      <td>NaN</td>\n",
       "      <td>3.580000</td>\n",
       "      <td>4.000000</td>\n",
       "      <td>3.000000</td>\n",
       "      <td>3.000000</td>\n",
       "      <td>3.000000</td>\n",
       "      <td>464.000000</td>\n",
       "      <td>48.000000</td>\n",
       "      <td>115.000000</td>\n",
       "      <td>76.600000</td>\n",
       "      <td>5389.000000</td>\n",
       "      <td>3761.000000</td>\n",
       "      <td>387.000000</td>\n",
       "      <td>131.000000</td>\n",
       "      <td>4.000000</td>\n",
       "    </tr>\n",
       "    <tr>\n",
       "      <th>max</th>\n",
       "      <td>43.280962</td>\n",
       "      <td>1.581316</td>\n",
       "      <td>33.090000</td>\n",
       "      <td>1026.000000</td>\n",
       "      <td>100.000000</td>\n",
       "      <td>NaN</td>\n",
       "      <td>11.550000</td>\n",
       "      <td>5.000000</td>\n",
       "      <td>4.000000</td>\n",
       "      <td>4.000000</td>\n",
       "      <td>5.000000</td>\n",
       "      <td>559.000000</td>\n",
       "      <td>56.000000</td>\n",
       "      <td>127.000000</td>\n",
       "      <td>80.700000</td>\n",
       "      <td>8603.000000</td>\n",
       "      <td>6024.000000</td>\n",
       "      <td>724.000000</td>\n",
       "      <td>205.000000</td>\n",
       "      <td>5.000000</td>\n",
       "    </tr>\n",
       "  </tbody>\n",
       "</table>\n",
       "</div>"
      ],
      "text/plain": [
       "              lat         lon  temperature   atpressure  cloudiness  rain  \\\n",
       "count  403.000000  403.000000   403.000000   403.000000  403.000000   0.0   \n",
       "mean    39.697781   -0.951085    23.244268  1015.461538   20.362283   NaN   \n",
       "std      0.976254    2.810598     4.111788     4.528559   26.858812   NaN   \n",
       "min     38.875838   -8.221469    10.460000   993.000000    0.000000   NaN   \n",
       "25%     38.922611   -3.696655    20.580000  1013.000000    0.000000   NaN   \n",
       "50%     38.970934    1.422942    23.770000  1016.000000   14.000000   NaN   \n",
       "75%     40.478944    1.461167    25.980000  1018.000000   20.000000   NaN   \n",
       "max     43.280962    1.581316    33.090000  1026.000000  100.000000   NaN   \n",
       "\n",
       "        windspeed  Relationship         job      social     Refresh  \\\n",
       "count  403.000000    403.000000  182.000000  403.000000  398.000000   \n",
       "mean     2.715980      3.565757    2.939560    2.945409    2.798995   \n",
       "std      1.644889      1.147144    0.435542    0.616520    0.941513   \n",
       "min      0.000000      1.000000    1.000000    2.000000    1.000000   \n",
       "25%      1.340000      3.000000    3.000000    3.000000    2.000000   \n",
       "50%      2.680000      4.000000    3.000000    3.000000    3.000000   \n",
       "75%      3.580000      4.000000    3.000000    3.000000    3.000000   \n",
       "max     11.550000      5.000000    4.000000    4.000000    5.000000   \n",
       "\n",
       "       Total Sleep (minutes)  Min of heartRate  Max of heartRate  \\\n",
       "count             115.000000        123.000000        123.000000   \n",
       "mean              379.808696         47.422764        114.252033   \n",
       "std               121.393004          3.454643          5.745409   \n",
       "min                76.000000         41.000000        104.000000   \n",
       "25%               338.500000         46.000000        111.000000   \n",
       "50%               379.000000         47.000000        113.000000   \n",
       "75%               464.000000         48.000000        115.000000   \n",
       "max               559.000000         56.000000        127.000000   \n",
       "\n",
       "        Average of heartRate        steps     distance   runDistance  \\\n",
       "count             123.000000   123.000000   123.000000    123.000000   \n",
       "mean               72.704878  4468.186992  3111.682927    304.634146   \n",
       "std                 5.039871  1817.656911  1288.903991    132.164966   \n",
       "min                61.700000  1598.000000  1095.000000     92.000000   \n",
       "25%                68.300000  3132.000000  2134.000000    222.000000   \n",
       "50%                72.400000  4282.000000  2982.000000    288.000000   \n",
       "75%                76.600000  5389.000000  3761.000000    387.000000   \n",
       "max                80.700000  8603.000000  6024.000000    724.000000   \n",
       "\n",
       "         calories  TARGET (Happiness)  \n",
       "count  123.000000          403.000000  \n",
       "mean   111.056911            3.560794  \n",
       "std     42.570732            0.848265  \n",
       "min     39.000000            1.000000  \n",
       "25%     76.000000            3.000000  \n",
       "50%    107.000000            4.000000  \n",
       "75%    131.000000            4.000000  \n",
       "max    205.000000            5.000000  "
      ]
     },
     "execution_count": 9,
     "metadata": {},
     "output_type": "execute_result"
    }
   ],
   "source": [
    "df.describe()"
   ]
  },
  {
   "cell_type": "code",
   "execution_count": 10,
   "id": "09c7176e",
   "metadata": {},
   "outputs": [],
   "source": [
    "df.rename(columns={'TARGET (Happiness)': 'target', 'Refresh': 'refresh'}, inplace=True)"
   ]
  },
  {
   "cell_type": "code",
   "execution_count": 11,
   "id": "8243e39b",
   "metadata": {},
   "outputs": [
    {
     "data": {
      "text/plain": [
       "3.0"
      ]
     },
     "execution_count": 11,
     "metadata": {},
     "output_type": "execute_result"
    }
   ],
   "source": [
    "df['refresh'].median()"
   ]
  },
  {
   "cell_type": "code",
   "execution_count": 12,
   "id": "afb9efab",
   "metadata": {
    "scrolled": true
   },
   "outputs": [],
   "source": [
    "df['refresh'].fillna(3, inplace=True)"
   ]
  },
  {
   "cell_type": "code",
   "execution_count": 13,
   "id": "a0201ea8",
   "metadata": {},
   "outputs": [],
   "source": [
    "df['refresh'] = df['refresh'].astype(int)"
   ]
  },
  {
   "cell_type": "markdown",
   "id": "79d56f0d",
   "metadata": {},
   "source": [
    "# Let's work on personal traits and TARGET"
   ]
  },
  {
   "cell_type": "code",
   "execution_count": 14,
   "id": "f240539a",
   "metadata": {},
   "outputs": [
    {
     "data": {
      "text/plain": [
       "Index(['timestamp', 'lat', 'lon', 'temperature', 'atpressure', 'cloudiness',\n",
       "       'rain', 'windspeed', 'Relationship', 'job', 'social', 'refresh', 'dow',\n",
       "       'date', 'day slot', 'Province', 'District', ' Previous 1 days',\n",
       "       ' Previous 3 days', ' Previous 6 days', ' Previous 10 days',\n",
       "       'Total Sleep (minutes)', 'Min of heartRate', 'Max of heartRate',\n",
       "       ' Average of heartRate', ' steps', ' distance', ' runDistance',\n",
       "       ' calories', 'target'],\n",
       "      dtype='object')"
      ]
     },
     "execution_count": 14,
     "metadata": {},
     "output_type": "execute_result"
    }
   ],
   "source": [
    "df.columns"
   ]
  },
  {
   "cell_type": "code",
   "execution_count": 15,
   "id": "855d004b",
   "metadata": {
    "scrolled": true
   },
   "outputs": [
    {
     "data": {
      "text/plain": [
       "array([nan,  2.,  3.,  4.,  1.])"
      ]
     },
     "execution_count": 15,
     "metadata": {},
     "output_type": "execute_result"
    }
   ],
   "source": [
    "df['job'].unique()"
   ]
  },
  {
   "cell_type": "code",
   "execution_count": 16,
   "id": "fc091e62",
   "metadata": {},
   "outputs": [],
   "source": [
    "df['job'].fillna(0, inplace=True)"
   ]
  },
  {
   "cell_type": "code",
   "execution_count": 17,
   "id": "98a9424f",
   "metadata": {},
   "outputs": [],
   "source": [
    "df['job'] = df['job'].astype(int)"
   ]
  },
  {
   "cell_type": "markdown",
   "id": "c8a4321f",
   "metadata": {},
   "source": [
    "Job column doesn't seem to yield better results as it has a lot of NULL values."
   ]
  },
  {
   "cell_type": "code",
   "execution_count": 18,
   "id": "ef9774ea",
   "metadata": {},
   "outputs": [],
   "source": [
    "df_numerical = df[['timestamp', 'Relationship', 'social', 'refresh', 'target', 'atpressure']].copy()"
   ]
  },
  {
   "cell_type": "code",
   "execution_count": 19,
   "id": "6a1c382d",
   "metadata": {
    "scrolled": false
   },
   "outputs": [
    {
     "data": {
      "text/html": [
       "<div>\n",
       "<style scoped>\n",
       "    .dataframe tbody tr th:only-of-type {\n",
       "        vertical-align: middle;\n",
       "    }\n",
       "\n",
       "    .dataframe tbody tr th {\n",
       "        vertical-align: top;\n",
       "    }\n",
       "\n",
       "    .dataframe thead th {\n",
       "        text-align: right;\n",
       "    }\n",
       "</style>\n",
       "<table border=\"1\" class=\"dataframe\">\n",
       "  <thead>\n",
       "    <tr style=\"text-align: right;\">\n",
       "      <th></th>\n",
       "      <th>timestamp</th>\n",
       "      <th>Relationship</th>\n",
       "      <th>social</th>\n",
       "      <th>refresh</th>\n",
       "      <th>target</th>\n",
       "      <th>atpressure</th>\n",
       "    </tr>\n",
       "  </thead>\n",
       "  <tbody>\n",
       "    <tr>\n",
       "      <th>0</th>\n",
       "      <td>5/12/21 0:36</td>\n",
       "      <td>5</td>\n",
       "      <td>2</td>\n",
       "      <td>3</td>\n",
       "      <td>5</td>\n",
       "      <td>1020</td>\n",
       "    </tr>\n",
       "    <tr>\n",
       "      <th>1</th>\n",
       "      <td>5/12/21 11:42</td>\n",
       "      <td>3</td>\n",
       "      <td>3</td>\n",
       "      <td>3</td>\n",
       "      <td>4</td>\n",
       "      <td>1017</td>\n",
       "    </tr>\n",
       "    <tr>\n",
       "      <th>2</th>\n",
       "      <td>5/12/21 14:47</td>\n",
       "      <td>4</td>\n",
       "      <td>2</td>\n",
       "      <td>3</td>\n",
       "      <td>4</td>\n",
       "      <td>1016</td>\n",
       "    </tr>\n",
       "    <tr>\n",
       "      <th>3</th>\n",
       "      <td>5/12/21 17:48</td>\n",
       "      <td>4</td>\n",
       "      <td>3</td>\n",
       "      <td>3</td>\n",
       "      <td>5</td>\n",
       "      <td>1014</td>\n",
       "    </tr>\n",
       "    <tr>\n",
       "      <th>4</th>\n",
       "      <td>5/12/21 20:54</td>\n",
       "      <td>5</td>\n",
       "      <td>3</td>\n",
       "      <td>3</td>\n",
       "      <td>4</td>\n",
       "      <td>1014</td>\n",
       "    </tr>\n",
       "  </tbody>\n",
       "</table>\n",
       "</div>"
      ],
      "text/plain": [
       "       timestamp  Relationship  social  refresh  target  atpressure\n",
       "0   5/12/21 0:36             5       2        3       5        1020\n",
       "1  5/12/21 11:42             3       3        3       4        1017\n",
       "2  5/12/21 14:47             4       2        3       4        1016\n",
       "3  5/12/21 17:48             4       3        3       5        1014\n",
       "4  5/12/21 20:54             5       3        3       4        1014"
      ]
     },
     "execution_count": 19,
     "metadata": {},
     "output_type": "execute_result"
    }
   ],
   "source": [
    "df_numerical.head()"
   ]
  },
  {
   "cell_type": "code",
   "execution_count": 20,
   "id": "f8b22d7c",
   "metadata": {
    "scrolled": false
   },
   "outputs": [
    {
     "data": {
      "text/plain": [
       "timestamp       0\n",
       "Relationship    0\n",
       "social          0\n",
       "refresh         0\n",
       "target          0\n",
       "atpressure      0\n",
       "dtype: int64"
      ]
     },
     "execution_count": 20,
     "metadata": {},
     "output_type": "execute_result"
    }
   ],
   "source": [
    "df_numerical.isnull().sum()"
   ]
  },
  {
   "cell_type": "code",
   "execution_count": 21,
   "id": "3d4fc7b9",
   "metadata": {},
   "outputs": [
    {
     "data": {
      "text/plain": [
       "0      2\n",
       "1      3\n",
       "2      2\n",
       "3      3\n",
       "4      3\n",
       "      ..\n",
       "398    4\n",
       "399    4\n",
       "400    4\n",
       "401    4\n",
       "402    4\n",
       "Name: social, Length: 403, dtype: int64"
      ]
     },
     "execution_count": 21,
     "metadata": {},
     "output_type": "execute_result"
    }
   ],
   "source": [
    "df_numerical['social']"
   ]
  },
  {
   "cell_type": "code",
   "execution_count": 22,
   "id": "9aea9ab8",
   "metadata": {},
   "outputs": [
    {
     "data": {
      "text/html": [
       "<div>\n",
       "<style scoped>\n",
       "    .dataframe tbody tr th:only-of-type {\n",
       "        vertical-align: middle;\n",
       "    }\n",
       "\n",
       "    .dataframe tbody tr th {\n",
       "        vertical-align: top;\n",
       "    }\n",
       "\n",
       "    .dataframe thead th {\n",
       "        text-align: right;\n",
       "    }\n",
       "</style>\n",
       "<table border=\"1\" class=\"dataframe\">\n",
       "  <thead>\n",
       "    <tr style=\"text-align: right;\">\n",
       "      <th></th>\n",
       "      <th>timestamp</th>\n",
       "      <th>Relationship</th>\n",
       "      <th>social</th>\n",
       "      <th>refresh</th>\n",
       "      <th>target</th>\n",
       "      <th>atpressure</th>\n",
       "    </tr>\n",
       "  </thead>\n",
       "  <tbody>\n",
       "    <tr>\n",
       "      <th>0</th>\n",
       "      <td>5/12/21 0:36</td>\n",
       "      <td>5</td>\n",
       "      <td>2</td>\n",
       "      <td>3</td>\n",
       "      <td>5</td>\n",
       "      <td>1020</td>\n",
       "    </tr>\n",
       "    <tr>\n",
       "      <th>1</th>\n",
       "      <td>5/12/21 11:42</td>\n",
       "      <td>3</td>\n",
       "      <td>3</td>\n",
       "      <td>3</td>\n",
       "      <td>4</td>\n",
       "      <td>1017</td>\n",
       "    </tr>\n",
       "    <tr>\n",
       "      <th>2</th>\n",
       "      <td>5/12/21 14:47</td>\n",
       "      <td>4</td>\n",
       "      <td>2</td>\n",
       "      <td>3</td>\n",
       "      <td>4</td>\n",
       "      <td>1016</td>\n",
       "    </tr>\n",
       "    <tr>\n",
       "      <th>3</th>\n",
       "      <td>5/12/21 17:48</td>\n",
       "      <td>4</td>\n",
       "      <td>3</td>\n",
       "      <td>3</td>\n",
       "      <td>5</td>\n",
       "      <td>1014</td>\n",
       "    </tr>\n",
       "    <tr>\n",
       "      <th>4</th>\n",
       "      <td>5/12/21 20:54</td>\n",
       "      <td>5</td>\n",
       "      <td>3</td>\n",
       "      <td>3</td>\n",
       "      <td>4</td>\n",
       "      <td>1014</td>\n",
       "    </tr>\n",
       "  </tbody>\n",
       "</table>\n",
       "</div>"
      ],
      "text/plain": [
       "       timestamp  Relationship  social  refresh  target  atpressure\n",
       "0   5/12/21 0:36             5       2        3       5        1020\n",
       "1  5/12/21 11:42             3       3        3       4        1017\n",
       "2  5/12/21 14:47             4       2        3       4        1016\n",
       "3  5/12/21 17:48             4       3        3       5        1014\n",
       "4  5/12/21 20:54             5       3        3       4        1014"
      ]
     },
     "execution_count": 22,
     "metadata": {},
     "output_type": "execute_result"
    }
   ],
   "source": [
    "df_numerical.head()"
   ]
  },
  {
   "cell_type": "code",
   "execution_count": 23,
   "id": "9961a7e3",
   "metadata": {},
   "outputs": [
    {
     "data": {
      "text/plain": [
       "timestamp       0\n",
       "Relationship    0\n",
       "social          0\n",
       "refresh         0\n",
       "target          0\n",
       "atpressure      0\n",
       "dtype: int64"
      ]
     },
     "execution_count": 23,
     "metadata": {},
     "output_type": "execute_result"
    }
   ],
   "source": [
    "df_numerical.isnull().sum()"
   ]
  },
  {
   "cell_type": "code",
   "execution_count": 24,
   "id": "d06df212",
   "metadata": {},
   "outputs": [
    {
     "data": {
      "text/plain": [
       "timestamp       object\n",
       "Relationship     int64\n",
       "social           int64\n",
       "refresh          int64\n",
       "target           int64\n",
       "atpressure       int64\n",
       "dtype: object"
      ]
     },
     "execution_count": 24,
     "metadata": {},
     "output_type": "execute_result"
    }
   ],
   "source": [
    "df_numerical.dtypes"
   ]
  },
  {
   "cell_type": "code",
   "execution_count": 25,
   "id": "86d03527",
   "metadata": {
    "scrolled": false
   },
   "outputs": [
    {
     "data": {
      "image/png": "[encoded data removed]",
      "text/plain": [
       "<Figure size 1440x360 with 5 Axes>"
      ]
     },
     "metadata": {
      "needs_background": "light"
     },
     "output_type": "display_data"
    }
   ],
   "source": [
    "plt.figure(1, figsize=(20, 5))\n",
    "n = 0\n",
    "for x in df_numerical.columns[1:]:\n",
    "    n += 1\n",
    "    plt.subplot(1, 5, n)\n",
    "    sns.histplot(df_numerical[x])\n",
    "    plt.title('Histplot of {}'.format(x), fontsize=14)\n",
    "plt.subplots_adjust(wspace=0.3)\n",
    "plt.show()"
   ]
  },
  {
   "cell_type": "code",
   "execution_count": 26,
   "id": "75c79ba4",
   "metadata": {},
   "outputs": [
    {
     "name": "stdout",
     "output_type": "stream",
     "text": [
      "Saving figure histplot of features\n"
     ]
    },
    {
     "data": {
      "image/png": "[encoded data removed]",
      "text/plain": [
       "<Figure size 1440x360 with 5 Axes>"
      ]
     },
     "metadata": {
      "needs_background": "light"
     },
     "output_type": "display_data"
    }
   ],
   "source": [
    "plt.figure(1, figsize=(20, 5))\n",
    "n = 0\n",
    "for x in df_numerical.columns[1:]:\n",
    "    n += 1\n",
    "    plt.subplot(1, 5, n)\n",
    "    sns.histplot(df_numerical[x], kde=True)\n",
    "    plt.title('Histplot of {}'.format(x), fontsize=14)\n",
    "plt.subplots_adjust(wspace=0.3)\n",
    "save_fig('histplot of features')\n",
    "plt.show()"
   ]
  },
  {
   "cell_type": "code",
   "execution_count": 27,
   "id": "12110fc2",
   "metadata": {
    "scrolled": true
   },
   "outputs": [
    {
     "data": {
      "text/plain": [
       "Index(['timestamp', 'Relationship', 'social', 'refresh', 'target',\n",
       "       'atpressure'],\n",
       "      dtype='object')"
      ]
     },
     "execution_count": 27,
     "metadata": {},
     "output_type": "execute_result"
    }
   ],
   "source": [
    "df_numerical.columns"
   ]
  },
  {
   "cell_type": "code",
   "execution_count": 28,
   "id": "e75997f7",
   "metadata": {},
   "outputs": [
    {
     "data": {
      "text/plain": [
       "4    202\n",
       "3    110\n",
       "2     50\n",
       "5     39\n",
       "1      2\n",
       "Name: target, dtype: int64"
      ]
     },
     "execution_count": 28,
     "metadata": {},
     "output_type": "execute_result"
    }
   ],
   "source": [
    "df_numerical['target'].value_counts()"
   ]
  },
  {
   "cell_type": "markdown",
   "id": "fbe30c64",
   "metadata": {},
   "source": [
    "Creating exponentially weighted moving average:"
   ]
  },
  {
   "cell_type": "code",
   "execution_count": 29,
   "id": "52694117",
   "metadata": {},
   "outputs": [
    {
     "data": {
      "text/html": [
       "<div>\n",
       "<style scoped>\n",
       "    .dataframe tbody tr th:only-of-type {\n",
       "        vertical-align: middle;\n",
       "    }\n",
       "\n",
       "    .dataframe tbody tr th {\n",
       "        vertical-align: top;\n",
       "    }\n",
       "\n",
       "    .dataframe thead th {\n",
       "        text-align: right;\n",
       "    }\n",
       "</style>\n",
       "<table border=\"1\" class=\"dataframe\">\n",
       "  <thead>\n",
       "    <tr style=\"text-align: right;\">\n",
       "      <th></th>\n",
       "      <th>timestamp</th>\n",
       "      <th>Relationship</th>\n",
       "      <th>social</th>\n",
       "      <th>refresh</th>\n",
       "      <th>target</th>\n",
       "      <th>atpressure</th>\n",
       "    </tr>\n",
       "  </thead>\n",
       "  <tbody>\n",
       "    <tr>\n",
       "      <th>0</th>\n",
       "      <td>5/12/21 0:36</td>\n",
       "      <td>5</td>\n",
       "      <td>2</td>\n",
       "      <td>3</td>\n",
       "      <td>5</td>\n",
       "      <td>1020</td>\n",
       "    </tr>\n",
       "    <tr>\n",
       "      <th>1</th>\n",
       "      <td>5/12/21 11:42</td>\n",
       "      <td>3</td>\n",
       "      <td>3</td>\n",
       "      <td>3</td>\n",
       "      <td>4</td>\n",
       "      <td>1017</td>\n",
       "    </tr>\n",
       "    <tr>\n",
       "      <th>2</th>\n",
       "      <td>5/12/21 14:47</td>\n",
       "      <td>4</td>\n",
       "      <td>2</td>\n",
       "      <td>3</td>\n",
       "      <td>4</td>\n",
       "      <td>1016</td>\n",
       "    </tr>\n",
       "    <tr>\n",
       "      <th>3</th>\n",
       "      <td>5/12/21 17:48</td>\n",
       "      <td>4</td>\n",
       "      <td>3</td>\n",
       "      <td>3</td>\n",
       "      <td>5</td>\n",
       "      <td>1014</td>\n",
       "    </tr>\n",
       "    <tr>\n",
       "      <th>4</th>\n",
       "      <td>5/12/21 20:54</td>\n",
       "      <td>5</td>\n",
       "      <td>3</td>\n",
       "      <td>3</td>\n",
       "      <td>4</td>\n",
       "      <td>1014</td>\n",
       "    </tr>\n",
       "  </tbody>\n",
       "</table>\n",
       "</div>"
      ],
      "text/plain": [
       "       timestamp  Relationship  social  refresh  target  atpressure\n",
       "0   5/12/21 0:36             5       2        3       5        1020\n",
       "1  5/12/21 11:42             3       3        3       4        1017\n",
       "2  5/12/21 14:47             4       2        3       4        1016\n",
       "3  5/12/21 17:48             4       3        3       5        1014\n",
       "4  5/12/21 20:54             5       3        3       4        1014"
      ]
     },
     "execution_count": 29,
     "metadata": {},
     "output_type": "execute_result"
    }
   ],
   "source": [
    "smooth_df = df_numerical.copy()\n",
    "smooth_df.head()"
   ]
  },
  {
   "cell_type": "code",
   "execution_count": 30,
   "id": "7850752c",
   "metadata": {},
   "outputs": [],
   "source": [
    "vi = 0\n",
    "beta = 0.9\n",
    "for i in df_numerical.index:\n",
    "    vi = beta * vi + (1-beta) * df_numerical.iloc[i, 1:]\n",
    "    smooth_df.iloc[i, 1:] = vi / (1-beta**(i+1))"
   ]
  },
  {
   "cell_type": "code",
   "execution_count": 31,
   "id": "2bb0ca82",
   "metadata": {},
   "outputs": [
    {
     "data": {
      "text/html": [
       "<div>\n",
       "<style scoped>\n",
       "    .dataframe tbody tr th:only-of-type {\n",
       "        vertical-align: middle;\n",
       "    }\n",
       "\n",
       "    .dataframe tbody tr th {\n",
       "        vertical-align: top;\n",
       "    }\n",
       "\n",
       "    .dataframe thead th {\n",
       "        text-align: right;\n",
       "    }\n",
       "</style>\n",
       "<table border=\"1\" class=\"dataframe\">\n",
       "  <thead>\n",
       "    <tr style=\"text-align: right;\">\n",
       "      <th></th>\n",
       "      <th>timestamp</th>\n",
       "      <th>Relationship</th>\n",
       "      <th>social</th>\n",
       "      <th>refresh</th>\n",
       "      <th>target</th>\n",
       "      <th>atpressure</th>\n",
       "    </tr>\n",
       "  </thead>\n",
       "  <tbody>\n",
       "    <tr>\n",
       "      <th>0</th>\n",
       "      <td>5/12/21 0:36</td>\n",
       "      <td>5.000000</td>\n",
       "      <td>2.000000</td>\n",
       "      <td>3.000000</td>\n",
       "      <td>5.000000</td>\n",
       "      <td>1020.000000</td>\n",
       "    </tr>\n",
       "    <tr>\n",
       "      <th>1</th>\n",
       "      <td>5/12/21 11:42</td>\n",
       "      <td>3.947368</td>\n",
       "      <td>2.526316</td>\n",
       "      <td>3.000000</td>\n",
       "      <td>4.473684</td>\n",
       "      <td>1018.421053</td>\n",
       "    </tr>\n",
       "    <tr>\n",
       "      <th>2</th>\n",
       "      <td>5/12/21 14:47</td>\n",
       "      <td>3.966790</td>\n",
       "      <td>2.332103</td>\n",
       "      <td>3.000000</td>\n",
       "      <td>4.298893</td>\n",
       "      <td>1017.527675</td>\n",
       "    </tr>\n",
       "    <tr>\n",
       "      <th>3</th>\n",
       "      <td>5/12/21 17:48</td>\n",
       "      <td>3.976447</td>\n",
       "      <td>2.526316</td>\n",
       "      <td>3.000000</td>\n",
       "      <td>4.502762</td>\n",
       "      <td>1016.501890</td>\n",
       "    </tr>\n",
       "    <tr>\n",
       "      <th>4</th>\n",
       "      <td>5/12/21 20:54</td>\n",
       "      <td>4.226393</td>\n",
       "      <td>2.641987</td>\n",
       "      <td>3.000000</td>\n",
       "      <td>4.379991</td>\n",
       "      <td>1015.890943</td>\n",
       "    </tr>\n",
       "    <tr>\n",
       "      <th>...</th>\n",
       "      <td>...</td>\n",
       "      <td>...</td>\n",
       "      <td>...</td>\n",
       "      <td>...</td>\n",
       "      <td>...</td>\n",
       "      <td>...</td>\n",
       "    </tr>\n",
       "    <tr>\n",
       "      <th>398</th>\n",
       "      <td>7/26/21 10:30</td>\n",
       "      <td>4.260958</td>\n",
       "      <td>3.827288</td>\n",
       "      <td>2.596362</td>\n",
       "      <td>3.913472</td>\n",
       "      <td>1012.410225</td>\n",
       "    </tr>\n",
       "    <tr>\n",
       "      <th>399</th>\n",
       "      <td>7/26/21 12:24</td>\n",
       "      <td>4.334862</td>\n",
       "      <td>3.844559</td>\n",
       "      <td>2.736726</td>\n",
       "      <td>4.022125</td>\n",
       "      <td>1012.769202</td>\n",
       "    </tr>\n",
       "    <tr>\n",
       "      <th>400</th>\n",
       "      <td>7/26/21 14:09</td>\n",
       "      <td>4.401376</td>\n",
       "      <td>3.860103</td>\n",
       "      <td>2.863053</td>\n",
       "      <td>4.119912</td>\n",
       "      <td>1013.092282</td>\n",
       "    </tr>\n",
       "    <tr>\n",
       "      <th>401</th>\n",
       "      <td>7/26/21 16:29</td>\n",
       "      <td>4.461238</td>\n",
       "      <td>3.874093</td>\n",
       "      <td>3.076748</td>\n",
       "      <td>4.107921</td>\n",
       "      <td>1013.383054</td>\n",
       "    </tr>\n",
       "    <tr>\n",
       "      <th>402</th>\n",
       "      <td>7/26/21 18:36</td>\n",
       "      <td>4.415115</td>\n",
       "      <td>3.886683</td>\n",
       "      <td>2.969073</td>\n",
       "      <td>3.897129</td>\n",
       "      <td>1012.044749</td>\n",
       "    </tr>\n",
       "  </tbody>\n",
       "</table>\n",
       "<p>403 rows × 6 columns</p>\n",
       "</div>"
      ],
      "text/plain": [
       "         timestamp  Relationship    social   refresh    target   atpressure\n",
       "0     5/12/21 0:36      5.000000  2.000000  3.000000  5.000000  1020.000000\n",
       "1    5/12/21 11:42      3.947368  2.526316  3.000000  4.473684  1018.421053\n",
       "2    5/12/21 14:47      3.966790  2.332103  3.000000  4.298893  1017.527675\n",
       "3    5/12/21 17:48      3.976447  2.526316  3.000000  4.502762  1016.501890\n",
       "4    5/12/21 20:54      4.226393  2.641987  3.000000  4.379991  1015.890943\n",
       "..             ...           ...       ...       ...       ...          ...\n",
       "398  7/26/21 10:30      4.260958  3.827288  2.596362  3.913472  1012.410225\n",
       "399  7/26/21 12:24      4.334862  3.844559  2.736726  4.022125  1012.769202\n",
       "400  7/26/21 14:09      4.401376  3.860103  2.863053  4.119912  1013.092282\n",
       "401  7/26/21 16:29      4.461238  3.874093  3.076748  4.107921  1013.383054\n",
       "402  7/26/21 18:36      4.415115  3.886683  2.969073  3.897129  1012.044749\n",
       "\n",
       "[403 rows x 6 columns]"
      ]
     },
     "execution_count": 31,
     "metadata": {},
     "output_type": "execute_result"
    }
   ],
   "source": [
    "smooth_df"
   ]
  },
  {
   "cell_type": "code",
   "execution_count": 32,
   "id": "9259b1c6",
   "metadata": {},
   "outputs": [
    {
     "name": "stdout",
     "output_type": "stream",
     "text": [
      "Saving figure Exponentially weighted average of features\n"
     ]
    },
    {
     "data": {
      "image/png": "[encoded data removed]",
      "text/plain": [
       "<Figure size 1080x360 with 1 Axes>"
      ]
     },
     "metadata": {
      "needs_background": "light"
     },
     "output_type": "display_data"
    }
   ],
   "source": [
    "smooth_df.plot('timestamp', ['Relationship', 'social', 'refresh', 'target'], figsize=(15, 5))\n",
    "save_fig('Exponentially weighted average of features')\n",
    "plt.show()"
   ]
  },
  {
   "cell_type": "markdown",
   "id": "c33f5b99",
   "metadata": {},
   "source": [
    "Trying to smooth this plot by using exponentially weighted moving averages:"
   ]
  },
  {
   "cell_type": "code",
   "execution_count": 33,
   "id": "77e2cf7f",
   "metadata": {},
   "outputs": [],
   "source": [
    "# from datetime import datetime\n",
    "# df['timestamp'] = [datetime.strptime(df.timestamp[0], '%m/%d/%y %H:%M') for x in df['timestamp']]"
   ]
  },
  {
   "cell_type": "code",
   "execution_count": 34,
   "id": "0d99028f",
   "metadata": {},
   "outputs": [
    {
     "data": {
      "image/png": "[encoded data removed]",
      "text/plain": [
       "<Figure size 1080x360 with 1 Axes>"
      ]
     },
     "metadata": {
      "needs_background": "light"
     },
     "output_type": "display_data"
    }
   ],
   "source": [
    "smooth_df.plot('timestamp', ['Relationship', 'target'], figsize=(15, 5))\n",
    "plt.show()"
   ]
  },
  {
   "cell_type": "code",
   "execution_count": 35,
   "id": "4e4dfce8",
   "metadata": {},
   "outputs": [
    {
     "data": {
      "image/png": "[encoded data removed]",
      "text/plain": [
       "<Figure size 1080x360 with 1 Axes>"
      ]
     },
     "metadata": {
      "needs_background": "light"
     },
     "output_type": "display_data"
    }
   ],
   "source": [
    "smooth_df.plot('timestamp', ['refresh', 'social', 'target'], figsize=(15, 5))\n",
    "plt.show()"
   ]
  },
  {
   "cell_type": "code",
   "execution_count": 36,
   "id": "6d010da4",
   "metadata": {},
   "outputs": [],
   "source": [
    "#Let's split the data into train and test set before doing further analysis\n",
    "from sklearn.model_selection import train_test_split\n",
    "train_set, test_set = train_test_split(df, random_state = 42, test_size=0.1)"
   ]
  },
  {
   "cell_type": "code",
   "execution_count": 37,
   "id": "c59455ef",
   "metadata": {},
   "outputs": [],
   "source": [
    "df_numerical = train_set[['timestamp', 'Relationship', 'social', 'refresh', 'atpressure', 'target']].copy()"
   ]
  },
  {
   "cell_type": "code",
   "execution_count": 38,
   "id": "61cd4c72",
   "metadata": {},
   "outputs": [
    {
     "data": {
      "text/plain": [
       "target          1.000000\n",
       "Relationship    0.727232\n",
       "refresh         0.320728\n",
       "social          0.184670\n",
       "atpressure      0.166847\n",
       "Name: target, dtype: float64"
      ]
     },
     "execution_count": 38,
     "metadata": {},
     "output_type": "execute_result"
    }
   ],
   "source": [
    "corr_matrix = df_numerical.corr()\n",
    "corr_matrix['target'].sort_values(ascending=False)"
   ]
  },
  {
   "cell_type": "code",
   "execution_count": 39,
   "id": "1ce5199b",
   "metadata": {},
   "outputs": [
    {
     "data": {
      "text/html": [
       "<div>\n",
       "<style scoped>\n",
       "    .dataframe tbody tr th:only-of-type {\n",
       "        vertical-align: middle;\n",
       "    }\n",
       "\n",
       "    .dataframe tbody tr th {\n",
       "        vertical-align: top;\n",
       "    }\n",
       "\n",
       "    .dataframe thead th {\n",
       "        text-align: right;\n",
       "    }\n",
       "</style>\n",
       "<table border=\"1\" class=\"dataframe\">\n",
       "  <thead>\n",
       "    <tr style=\"text-align: right;\">\n",
       "      <th></th>\n",
       "      <th>Relationship</th>\n",
       "      <th>social</th>\n",
       "      <th>refresh</th>\n",
       "      <th>atpressure</th>\n",
       "      <th>target</th>\n",
       "    </tr>\n",
       "  </thead>\n",
       "  <tbody>\n",
       "    <tr>\n",
       "      <th>target</th>\n",
       "      <td>0.727232</td>\n",
       "      <td>0.18467</td>\n",
       "      <td>0.320728</td>\n",
       "      <td>0.166847</td>\n",
       "      <td>1.0</td>\n",
       "    </tr>\n",
       "  </tbody>\n",
       "</table>\n",
       "</div>"
      ],
      "text/plain": [
       "        Relationship   social   refresh  atpressure  target\n",
       "target      0.727232  0.18467  0.320728    0.166847     1.0"
      ]
     },
     "execution_count": 39,
     "metadata": {},
     "output_type": "execute_result"
    }
   ],
   "source": [
    "corr_target = corr_matrix.loc[['target']]\n",
    "corr_target"
   ]
  },
  {
   "cell_type": "code",
   "execution_count": 40,
   "id": "1ccd8f65",
   "metadata": {
    "scrolled": true
   },
   "outputs": [
    {
     "name": "stdout",
     "output_type": "stream",
     "text": [
      "Saving figure correlation_of_features\n"
     ]
    },
    {
     "data": {
      "image/png": "[encoded data removed]",
      "text/plain": [
       "<Figure size 432x288 with 2 Axes>"
      ]
     },
     "metadata": {
      "needs_background": "light"
     },
     "output_type": "display_data"
    }
   ],
   "source": [
    "sns.heatmap(corr_target)\n",
    "save_fig(('correlation_of_features'))\n",
    "plt.show()"
   ]
  },
  {
   "cell_type": "code",
   "execution_count": 41,
   "id": "6e53a945",
   "metadata": {},
   "outputs": [
    {
     "data": {
      "image/png": "[encoded data removed]",
      "text/plain": [
       "<Figure size 432x288 with 2 Axes>"
      ]
     },
     "metadata": {
      "needs_background": "light"
     },
     "output_type": "display_data"
    }
   ],
   "source": [
    "sns.heatmap(df[['Relationship', 'social', 'refresh', 'target']].corr())\n",
    "plt.show()"
   ]
  },
  {
   "cell_type": "code",
   "execution_count": 42,
   "id": "462b5385",
   "metadata": {},
   "outputs": [
    {
     "data": {
      "text/plain": [
       "4    202\n",
       "3    110\n",
       "2     50\n",
       "5     39\n",
       "1      2\n",
       "Name: target, dtype: int64"
      ]
     },
     "execution_count": 42,
     "metadata": {},
     "output_type": "execute_result"
    }
   ],
   "source": [
    "df['target'].value_counts()"
   ]
  },
  {
   "cell_type": "markdown",
   "id": "568cb398",
   "metadata": {},
   "source": [
    "## Preparing the data for machine learning algorithms"
   ]
  },
  {
   "cell_type": "code",
   "execution_count": 57,
   "id": "e45bcd6f",
   "metadata": {},
   "outputs": [
    {
     "data": {
      "text/plain": [
       "(1, 4)"
      ]
     },
     "execution_count": 57,
     "metadata": {},
     "output_type": "execute_result"
    }
   ],
   "source": [
    "np.array([[1, 3, 4, 1004]]).shape"
   ]
  },
  {
   "cell_type": "code",
   "execution_count": 58,
   "id": "fb7b33c2",
   "metadata": {},
   "outputs": [],
   "source": [
    "X_train, X_test = np.asanyarray(train_set[['Relationship', 'social', 'refresh', 'atpressure']]), np.asanyarray(test_set[['Relationship', 'social', 'refresh', 'atpressure']])\n",
    "y_train, y_test = np.asanyarray(train_set['target']), np.asanyarray(test_set['target'])"
   ]
  },
  {
   "cell_type": "code",
   "execution_count": 44,
   "id": "3d90f3f7",
   "metadata": {},
   "outputs": [],
   "source": [
    "from sklearn.pipeline import Pipeline\n",
    "from sklearn.preprocessing import StandardScaler\n",
    "\n",
    "pipeline = Pipeline([\n",
    "    ('std_scaler', StandardScaler())\n",
    "])\n",
    "\n",
    "X_train_prepared = pipeline.fit_transform(X_train)"
   ]
  },
  {
   "cell_type": "code",
   "execution_count": 45,
   "id": "66811fd6",
   "metadata": {},
   "outputs": [
    {
     "data": {
      "text/plain": [
       "(362, 4)"
      ]
     },
     "execution_count": 45,
     "metadata": {},
     "output_type": "execute_result"
    }
   ],
   "source": [
    "X_train_prepared.shape"
   ]
  },
  {
   "cell_type": "code",
   "execution_count": 46,
   "id": "4b7b62bc",
   "metadata": {
    "scrolled": true
   },
   "outputs": [
    {
     "data": {
      "text/plain": [
       "array([ 1.26190357,  0.07656027, -0.85409932, -0.34430804])"
      ]
     },
     "execution_count": 46,
     "metadata": {},
     "output_type": "execute_result"
    }
   ],
   "source": [
    "X_train_prepared[0]"
   ]
  },
  {
   "cell_type": "code",
   "execution_count": 47,
   "id": "58572e71",
   "metadata": {},
   "outputs": [],
   "source": [
    "X_test_prepared = pipeline.transform(X_test)"
   ]
  },
  {
   "cell_type": "markdown",
   "id": "34332d44",
   "metadata": {},
   "source": [
    "## Select and Train a model"
   ]
  },
  {
   "cell_type": "code",
   "execution_count": 44,
   "id": "f7bda5f2",
   "metadata": {},
   "outputs": [
    {
     "data": {
      "text/plain": [
       "LinearRegression()"
      ]
     },
     "execution_count": 44,
     "metadata": {},
     "output_type": "execute_result"
    }
   ],
   "source": [
    "from sklearn.linear_model import LinearRegression\n",
    "\n",
    "lin_reg = LinearRegression()\n",
    "lin_reg.fit(X_train_prepared, y_train)"
   ]
  },
  {
   "cell_type": "code",
   "execution_count": 45,
   "id": "cda77789",
   "metadata": {
    "scrolled": true
   },
   "outputs": [
    {
     "name": "stdout",
     "output_type": "stream",
     "text": [
      "Predictions [4.0493523  3.4169718  4.07788013 3.00828193 2.58134906]\n"
     ]
    }
   ],
   "source": [
    "#let's trying predicting some `target` values using the model\n",
    "some_data = X_train_prepared[:5]\n",
    "some_labels = y_train[:5]\n",
    "print(\"Predictions\", lin_reg.predict(some_data))"
   ]
  },
  {
   "cell_type": "markdown",
   "id": "c5a93839",
   "metadata": {},
   "source": [
    "Compare against the actual values:"
   ]
  },
  {
   "cell_type": "code",
   "execution_count": 46,
   "id": "15e2360b",
   "metadata": {},
   "outputs": [
    {
     "data": {
      "text/plain": [
       "[4, 2, 4, 3, 3]"
      ]
     },
     "execution_count": 46,
     "metadata": {},
     "output_type": "execute_result"
    }
   ],
   "source": [
    "list(some_labels)"
   ]
  },
  {
   "cell_type": "code",
   "execution_count": 47,
   "id": "fb4a8cb2",
   "metadata": {},
   "outputs": [
    {
     "name": "stdout",
     "output_type": "stream",
     "text": [
      "0.5211827377492533\n",
      "0.6096109758020144\n"
     ]
    }
   ],
   "source": [
    "from sklearn.metrics import mean_squared_error\n",
    "from sklearn.metrics import r2_score\n",
    "\n",
    "y_pred = lin_reg.predict(X_train_prepared)\n",
    "lin_rmse = mean_squared_error(y_train, y_pred, squared=False)\n",
    "print(lin_rmse)\n",
    "print(r2_score(y_train, y_pred))"
   ]
  },
  {
   "cell_type": "code",
   "execution_count": 48,
   "id": "e1a2fd21",
   "metadata": {},
   "outputs": [
    {
     "data": {
      "text/plain": [
       "LogisticRegression(max_iter=2000, multi_class='multinomial')"
      ]
     },
     "execution_count": 48,
     "metadata": {},
     "output_type": "execute_result"
    }
   ],
   "source": [
    "from sklearn.linear_model import LogisticRegression\n",
    "\n",
    "log_clf = LogisticRegression(multi_class='multinomial', max_iter=2000)\n",
    "log_clf.fit(X_train_prepared, y_train)"
   ]
  },
  {
   "cell_type": "code",
   "execution_count": 49,
   "id": "436f9e2f",
   "metadata": {},
   "outputs": [
    {
     "name": "stdout",
     "output_type": "stream",
     "text": [
      "Predictions [4 3 4 3 2 3 3 4 4 4]\n"
     ]
    }
   ],
   "source": [
    "#let's trying predicting some `target` values using the model\n",
    "some_data = X_train_prepared[:10]\n",
    "some_labels = y_train[:10]\n",
    "print(\"Predictions\", log_clf.predict(some_data))"
   ]
  },
  {
   "cell_type": "code",
   "execution_count": 50,
   "id": "f3eb29fd",
   "metadata": {},
   "outputs": [
    {
     "data": {
      "text/plain": [
       "[4, 2, 4, 3, 3, 3, 3, 3, 5, 4]"
      ]
     },
     "execution_count": 50,
     "metadata": {},
     "output_type": "execute_result"
    }
   ],
   "source": [
    "#compare against the actual values\n",
    "list(some_labels)"
   ]
  },
  {
   "cell_type": "code",
   "execution_count": 51,
   "id": "0f596625",
   "metadata": {},
   "outputs": [],
   "source": [
    "performance = {}\n",
    "performance['log_clf'] = log_clf.score(X_train_prepared, y_train)"
   ]
  },
  {
   "cell_type": "code",
   "execution_count": 52,
   "id": "f39af683",
   "metadata": {},
   "outputs": [],
   "source": [
    "performance_test = {}\n",
    "performance_test['log_clf'] = log_clf.score(X_test_prepared, y_test)"
   ]
  },
  {
   "cell_type": "code",
   "execution_count": 53,
   "id": "4f17620a",
   "metadata": {},
   "outputs": [
    {
     "data": {
      "text/plain": [
       "0.32320441988950277"
      ]
     },
     "execution_count": 53,
     "metadata": {},
     "output_type": "execute_result"
    }
   ],
   "source": [
    "from sklearn.metrics import mean_absolute_error\n",
    "\n",
    "y_pred = log_clf.predict(X_train_prepared)\n",
    "log_mae = mean_absolute_error(y_train, y_pred)\n",
    "log_mae"
   ]
  },
  {
   "cell_type": "markdown",
   "id": "e3874334",
   "metadata": {},
   "source": [
    "### Decision Tree Classifier"
   ]
  },
  {
   "cell_type": "code",
   "execution_count": 54,
   "id": "34bdcbed",
   "metadata": {},
   "outputs": [
    {
     "data": {
      "text/plain": [
       "{'max_depth': 6, 'max_features': 3}"
      ]
     },
     "execution_count": 54,
     "metadata": {},
     "output_type": "execute_result"
    }
   ],
   "source": [
    "{'max_depth': 6, 'max_features': 3}"
   ]
  },
  {
   "cell_type": "code",
   "execution_count": 55,
   "id": "6ca05d48",
   "metadata": {},
   "outputs": [
    {
     "data": {
      "text/plain": [
       "DecisionTreeClassifier(max_depth=6, max_features=3)"
      ]
     },
     "execution_count": 55,
     "metadata": {},
     "output_type": "execute_result"
    }
   ],
   "source": [
    "#Classifier\n",
    "from sklearn.tree import DecisionTreeClassifier\n",
    "\n",
    "tree_clf = DecisionTreeClassifier(max_features=3, max_depth=6)\n",
    "tree_clf.fit(X_train_prepared, y_train)"
   ]
  },
  {
   "cell_type": "code",
   "execution_count": 56,
   "id": "9c9c7735",
   "metadata": {},
   "outputs": [
    {
     "name": "stdout",
     "output_type": "stream",
     "text": [
      "Predictions [4 2 4 3 3 3 3 4 4 4 4 3 1 4 4 4 4 2 3 3]\n"
     ]
    }
   ],
   "source": [
    "#let's trying predicting some `target` values using the model\n",
    "some_data = X_train_prepared[:20]\n",
    "some_labels = y_train[:20]\n",
    "print(\"Predictions\", tree_clf.predict(some_data))"
   ]
  },
  {
   "cell_type": "code",
   "execution_count": 57,
   "id": "35bb0b5b",
   "metadata": {},
   "outputs": [
    {
     "data": {
      "text/plain": [
       "[4, 2, 4, 3, 3, 3, 3, 3, 5, 4, 3, 3, 2, 3, 4, 5, 3, 4, 3, 3]"
      ]
     },
     "execution_count": 57,
     "metadata": {},
     "output_type": "execute_result"
    }
   ],
   "source": [
    "#compare against the actual values\n",
    "list(some_labels)"
   ]
  },
  {
   "cell_type": "code",
   "execution_count": 58,
   "id": "aed3270d",
   "metadata": {},
   "outputs": [
    {
     "data": {
      "text/plain": [
       "0.2513812154696133"
      ]
     },
     "execution_count": 58,
     "metadata": {},
     "output_type": "execute_result"
    }
   ],
   "source": [
    "from sklearn.metrics import mean_absolute_error\n",
    "\n",
    "y_pred = tree_clf.predict(X_train_prepared)\n",
    "tree_mae = mean_absolute_error(y_train, y_pred)\n",
    "tree_mae"
   ]
  },
  {
   "cell_type": "code",
   "execution_count": 59,
   "id": "749cdca3",
   "metadata": {},
   "outputs": [],
   "source": [
    "performance['decision_tree'] = tree_clf.score(X_train_prepared, y_train)"
   ]
  },
  {
   "cell_type": "code",
   "execution_count": 60,
   "id": "7b23c6c8",
   "metadata": {},
   "outputs": [
    {
     "data": {
      "text/plain": [
       "0.7510749972018301"
      ]
     },
     "execution_count": 60,
     "metadata": {},
     "output_type": "execute_result"
    }
   ],
   "source": [
    "from sklearn.metrics import f1_score\n",
    "\n",
    "tree_f1 = f1_score(y_train, y_pred, average='weighted')\n",
    "tree_f1"
   ]
  },
  {
   "cell_type": "code",
   "execution_count": 61,
   "id": "0304df47",
   "metadata": {},
   "outputs": [
    {
     "data": {
      "text/plain": [
       "6"
      ]
     },
     "execution_count": 61,
     "metadata": {},
     "output_type": "execute_result"
    }
   ],
   "source": [
    "tree_clf.get_depth()"
   ]
  },
  {
   "cell_type": "code",
   "execution_count": 62,
   "id": "14fcf0f3",
   "metadata": {},
   "outputs": [],
   "source": [
    "from sklearn.tree import export_graphviz\n",
    "\n",
    "export_graphviz(\n",
    "    tree_clf,\n",
    "    out_file=os.path.join(IMAGES_PATH, 'tree.dot'),\n",
    "    feature_names=df_numerical.columns[1:5],\n",
    "    rounded=True,\n",
    "    filled=True\n",
    ")"
   ]
  },
  {
   "cell_type": "code",
   "execution_count": 63,
   "id": "da6ead1d",
   "metadata": {
    "scrolled": true
   },
   "outputs": [
    {
     "data": {
      "image/svg+xml": [
       "<?xml version=\"1.0\" encoding=\"UTF-8\" standalone=\"no\"?>\n",
       "<!DOCTYPE svg PUBLIC \"-//W3C//DTD SVG 1.1//EN\"\n",
       " \"http://www.w3.org/Graphics/SVG/1.1/DTD/svg11.dtd\">\n",
       "<!-- Generated by graphviz version 2.47.1 (20210418.0311)\n",
       " -->\n",
       "<!-- Title: Tree Pages: 1 -->\n",
       "<svg width=\"6838pt\" height=\"685pt\"\n",
       " viewBox=\"0.00 0.00 6838.00 685.00\" xmlns=\"http://www.w3.org/2000/svg\" xmlns:xlink=\"http://www.w3.org/1999/xlink\">\n",
       "<g id=\"graph0\" class=\"graph\" transform=\"scale(1 1) rotate(0) translate(4 681)\">\n",
       "<title>Tree</title>\n",
       "<polygon fill=\"white\" stroke=\"transparent\" points=\"-4,4 -4,-681 6834,-681 6834,4 -4,4\"/>\n",
       "<!-- 0 -->\n",
       "<g id=\"node1\" class=\"node\">\n",
       "<title>0</title>\n",
       "<path fill=\"#c7c7f8\" stroke=\"black\" d=\"M3534.5,-677C3534.5,-677 3373.5,-677 3373.5,-677 3367.5,-677 3361.5,-671 3361.5,-665 3361.5,-665 3361.5,-621 3361.5,-621 3361.5,-615 3367.5,-609 3373.5,-609 3373.5,-609 3534.5,-609 3534.5,-609 3540.5,-609 3546.5,-615 3546.5,-621 3546.5,-621 3546.5,-665 3546.5,-665 3546.5,-671 3540.5,-677 3534.5,-677\"/>\n",
       "<text text-anchor=\"middle\" x=\"3454\" y=\"-661.8\" font-family=\"helvetica\" font-size=\"14.00\">Relationship &lt;= &#45;0.038</text>\n",
       "<text text-anchor=\"middle\" x=\"3454\" y=\"-646.8\" font-family=\"helvetica\" font-size=\"14.00\">gini = 0.648</text>\n",
       "<text text-anchor=\"middle\" x=\"3454\" y=\"-631.8\" font-family=\"helvetica\" font-size=\"14.00\">samples = 362</text>\n",
       "<text text-anchor=\"middle\" x=\"3454\" y=\"-616.8\" font-family=\"helvetica\" font-size=\"14.00\">value = [2, 43, 106, 179, 32]</text>\n",
       "</g>\n",
       "<!-- 1 -->\n",
       "<g id=\"node2\" class=\"node\">\n",
       "<title>1</title>\n",
       "<path fill=\"#caf8ef\" stroke=\"black\" d=\"M2240,-573C2240,-573 2102,-573 2102,-573 2096,-573 2090,-567 2090,-561 2090,-561 2090,-517 2090,-517 2090,-511 2096,-505 2102,-505 2102,-505 2240,-505 2240,-505 2246,-505 2252,-511 2252,-517 2252,-517 2252,-561 2252,-561 2252,-567 2246,-573 2240,-573\"/>\n",
       "<text text-anchor=\"middle\" x=\"2171\" y=\"-557.8\" font-family=\"helvetica\" font-size=\"14.00\">Relationship &lt;= &#45;0.905</text>\n",
       "<text text-anchor=\"middle\" x=\"2171\" y=\"-542.8\" font-family=\"helvetica\" font-size=\"14.00\">gini = 0.645</text>\n",
       "<text text-anchor=\"middle\" x=\"2171\" y=\"-527.8\" font-family=\"helvetica\" font-size=\"14.00\">samples = 145</text>\n",
       "<text text-anchor=\"middle\" x=\"2171\" y=\"-512.8\" font-family=\"helvetica\" font-size=\"14.00\">value = [2, 41, 69, 32, 1]</text>\n",
       "</g>\n",
       "<!-- 0&#45;&gt;1 -->\n",
       "<g id=\"edge1\" class=\"edge\">\n",
       "<title>0&#45;&gt;1</title>\n",
       "<path fill=\"none\" stroke=\"black\" d=\"M3361.47,-634.64C3124.61,-615.81 2498.44,-566.03 2262.6,-547.28\"/>\n",
       "<polygon fill=\"black\" stroke=\"black\" points=\"2262.58,-543.77 2252.34,-546.47 2262.03,-550.75 2262.58,-543.77\"/>\n",
       "<text text-anchor=\"middle\" x=\"2268.56\" y=\"-561.79\" font-family=\"helvetica\" font-size=\"14.00\">True</text>\n",
       "</g>\n",
       "<!-- 50 -->\n",
       "<g id=\"node51\" class=\"node\">\n",
       "<title>50</title>\n",
       "<path fill=\"#8886ef\" stroke=\"black\" d=\"M4286,-573C4286,-573 4140,-573 4140,-573 4134,-573 4128,-567 4128,-561 4128,-561 4128,-517 4128,-517 4128,-511 4134,-505 4140,-505 4140,-505 4286,-505 4286,-505 4292,-505 4298,-511 4298,-517 4298,-517 4298,-561 4298,-561 4298,-567 4292,-573 4286,-573\"/>\n",
       "<text text-anchor=\"middle\" x=\"4213\" y=\"-557.8\" font-family=\"helvetica\" font-size=\"14.00\">refresh &lt;= 0.751</text>\n",
       "<text text-anchor=\"middle\" x=\"4213\" y=\"-542.8\" font-family=\"helvetica\" font-size=\"14.00\">gini = 0.492</text>\n",
       "<text text-anchor=\"middle\" x=\"4213\" y=\"-527.8\" font-family=\"helvetica\" font-size=\"14.00\">samples = 217</text>\n",
       "<text text-anchor=\"middle\" x=\"4213\" y=\"-512.8\" font-family=\"helvetica\" font-size=\"14.00\">value = [0, 2, 37, 147, 31]</text>\n",
       "</g>\n",
       "<!-- 0&#45;&gt;50 -->\n",
       "<g id=\"edge50\" class=\"edge\">\n",
       "<title>0&#45;&gt;50</title>\n",
       "<path fill=\"none\" stroke=\"black\" d=\"M3546.69,-629.54C3691.7,-610.06 3970.78,-572.55 4117.51,-552.83\"/>\n",
       "<polygon fill=\"black\" stroke=\"black\" points=\"4118.39,-556.25 4127.84,-551.44 4117.46,-549.31 4118.39,-556.25\"/>\n",
       "<text text-anchor=\"middle\" x=\"4112.67\" y=\"-567.62\" font-family=\"helvetica\" font-size=\"14.00\">False</text>\n",
       "</g>\n",
       "<!-- 2 -->\n",
       "<g id=\"node3\" class=\"node\">\n",
       "<title>2</title>\n",
       "<path fill=\"#e5fad8\" stroke=\"black\" d=\"M1125.5,-469C1125.5,-469 994.5,-469 994.5,-469 988.5,-469 982.5,-463 982.5,-457 982.5,-457 982.5,-413 982.5,-413 982.5,-407 988.5,-401 994.5,-401 994.5,-401 1125.5,-401 1125.5,-401 1131.5,-401 1137.5,-407 1137.5,-413 1137.5,-413 1137.5,-457 1137.5,-457 1137.5,-463 1131.5,-469 1125.5,-469\"/>\n",
       "<text text-anchor=\"middle\" x=\"1060\" y=\"-453.8\" font-family=\"helvetica\" font-size=\"14.00\">social &lt;= &#45;0.739</text>\n",
       "<text text-anchor=\"middle\" x=\"1060\" y=\"-438.8\" font-family=\"helvetica\" font-size=\"14.00\">gini = 0.588</text>\n",
       "<text text-anchor=\"middle\" x=\"1060\" y=\"-423.8\" font-family=\"helvetica\" font-size=\"14.00\">samples = 75</text>\n",
       "<text text-anchor=\"middle\" x=\"1060\" y=\"-408.8\" font-family=\"helvetica\" font-size=\"14.00\">value = [2, 38, 29, 5, 1]</text>\n",
       "</g>\n",
       "<!-- 1&#45;&gt;2 -->\n",
       "<g id=\"edge2\" class=\"edge\">\n",
       "<title>1&#45;&gt;2</title>\n",
       "<path fill=\"none\" stroke=\"black\" d=\"M2089.76,-530.54C1886.61,-511.89 1357.89,-463.35 1147.87,-444.07\"/>\n",
       "<polygon fill=\"black\" stroke=\"black\" points=\"1148.09,-440.57 1137.81,-443.14 1147.45,-447.54 1148.09,-440.57\"/>\n",
       "</g>\n",
       "<!-- 25 -->\n",
       "<g id=\"node26\" class=\"node\">\n",
       "<title>25</title>\n",
       "<path fill=\"#c3f7ed\" stroke=\"black\" d=\"M2236.5,-469C2236.5,-469 2105.5,-469 2105.5,-469 2099.5,-469 2093.5,-463 2093.5,-457 2093.5,-457 2093.5,-413 2093.5,-413 2093.5,-407 2099.5,-401 2105.5,-401 2105.5,-401 2236.5,-401 2236.5,-401 2242.5,-401 2248.5,-407 2248.5,-413 2248.5,-413 2248.5,-457 2248.5,-457 2248.5,-463 2242.5,-469 2236.5,-469\"/>\n",
       "<text text-anchor=\"middle\" x=\"2171\" y=\"-453.8\" font-family=\"helvetica\" font-size=\"14.00\">refresh &lt;= &#45;0.319</text>\n",
       "<text text-anchor=\"middle\" x=\"2171\" y=\"-438.8\" font-family=\"helvetica\" font-size=\"14.00\">gini = 0.523</text>\n",
       "<text text-anchor=\"middle\" x=\"2171\" y=\"-423.8\" font-family=\"helvetica\" font-size=\"14.00\">samples = 70</text>\n",
       "<text text-anchor=\"middle\" x=\"2171\" y=\"-408.8\" font-family=\"helvetica\" font-size=\"14.00\">value = [0, 3, 40, 27, 0]</text>\n",
       "</g>\n",
       "<!-- 1&#45;&gt;25 -->\n",
       "<g id=\"edge25\" class=\"edge\">\n",
       "<title>1&#45;&gt;25</title>\n",
       "<path fill=\"none\" stroke=\"black\" d=\"M2171,-504.88C2171,-496.78 2171,-487.98 2171,-479.47\"/>\n",
       "<polygon fill=\"black\" stroke=\"black\" points=\"2174.5,-479.3 2171,-469.3 2167.5,-479.3 2174.5,-479.3\"/>\n",
       "</g>\n",
       "<!-- 3 -->\n",
       "<g id=\"node4\" class=\"node\">\n",
       "<title>3</title>\n",
       "<path fill=\"#9cec6a\" stroke=\"black\" d=\"M868.5,-365C868.5,-365 745.5,-365 745.5,-365 739.5,-365 733.5,-359 733.5,-353 733.5,-353 733.5,-309 733.5,-309 733.5,-303 739.5,-297 745.5,-297 745.5,-297 868.5,-297 868.5,-297 874.5,-297 880.5,-303 880.5,-309 880.5,-309 880.5,-353 880.5,-353 880.5,-359 874.5,-365 868.5,-365\"/>\n",
       "<text text-anchor=\"middle\" x=\"807\" y=\"-349.8\" font-family=\"helvetica\" font-size=\"14.00\">atpressure &lt;= 1.236</text>\n",
       "<text text-anchor=\"middle\" x=\"807\" y=\"-334.8\" font-family=\"helvetica\" font-size=\"14.00\">gini = 0.349</text>\n",
       "<text text-anchor=\"middle\" x=\"807\" y=\"-319.8\" font-family=\"helvetica\" font-size=\"14.00\">samples = 19</text>\n",
       "<text text-anchor=\"middle\" x=\"807\" y=\"-304.8\" font-family=\"helvetica\" font-size=\"14.00\">value = [0, 15, 3, 0, 1]</text>\n",
       "</g>\n",
       "<!-- 2&#45;&gt;3 -->\n",
       "<g id=\"edge3\" class=\"edge\">\n",
       "<title>2&#45;&gt;3</title>\n",
       "<path fill=\"none\" stroke=\"black\" d=\"M982.37,-402.7C953.14,-390.92 919.8,-377.48 890.09,-365.5\"/>\n",
       "<polygon fill=\"black\" stroke=\"black\" points=\"891.17,-362.16 880.59,-361.67 888.55,-368.65 891.17,-362.16\"/>\n",
       "</g>\n",
       "<!-- 12 -->\n",
       "<g id=\"node13\" class=\"node\">\n",
       "<title>12</title>\n",
       "<path fill=\"#edfdfa\" stroke=\"black\" d=\"M1125.5,-365C1125.5,-365 994.5,-365 994.5,-365 988.5,-365 982.5,-359 982.5,-353 982.5,-353 982.5,-309 982.5,-309 982.5,-303 988.5,-297 994.5,-297 994.5,-297 1125.5,-297 1125.5,-297 1131.5,-297 1137.5,-303 1137.5,-309 1137.5,-309 1137.5,-353 1137.5,-353 1137.5,-359 1131.5,-365 1125.5,-365\"/>\n",
       "<text text-anchor=\"middle\" x=\"1060\" y=\"-349.8\" font-family=\"helvetica\" font-size=\"14.00\">refresh &lt;= &#45;1.389</text>\n",
       "<text text-anchor=\"middle\" x=\"1060\" y=\"-334.8\" font-family=\"helvetica\" font-size=\"14.00\">gini = 0.607</text>\n",
       "<text text-anchor=\"middle\" x=\"1060\" y=\"-319.8\" font-family=\"helvetica\" font-size=\"14.00\">samples = 56</text>\n",
       "<text text-anchor=\"middle\" x=\"1060\" y=\"-304.8\" font-family=\"helvetica\" font-size=\"14.00\">value = [2, 23, 26, 5, 0]</text>\n",
       "</g>\n",
       "<!-- 2&#45;&gt;12 -->\n",
       "<g id=\"edge12\" class=\"edge\">\n",
       "<title>2&#45;&gt;12</title>\n",
       "<path fill=\"none\" stroke=\"black\" d=\"M1060,-400.88C1060,-392.78 1060,-383.98 1060,-375.47\"/>\n",
       "<polygon fill=\"black\" stroke=\"black\" points=\"1063.5,-375.3 1060,-365.3 1056.5,-375.3 1063.5,-375.3\"/>\n",
       "</g>\n",
       "<!-- 4 -->\n",
       "<g id=\"node5\" class=\"node\">\n",
       "<title>4</title>\n",
       "<path fill=\"#94ea5e\" stroke=\"black\" d=\"M528.5,-261C528.5,-261 405.5,-261 405.5,-261 399.5,-261 393.5,-255 393.5,-249 393.5,-249 393.5,-205 393.5,-205 393.5,-199 399.5,-193 405.5,-193 405.5,-193 528.5,-193 528.5,-193 534.5,-193 540.5,-199 540.5,-205 540.5,-205 540.5,-249 540.5,-249 540.5,-255 534.5,-261 528.5,-261\"/>\n",
       "<text text-anchor=\"middle\" x=\"467\" y=\"-245.8\" font-family=\"helvetica\" font-size=\"14.00\">atpressure &lt;= 0.22</text>\n",
       "<text text-anchor=\"middle\" x=\"467\" y=\"-230.8\" font-family=\"helvetica\" font-size=\"14.00\">gini = 0.29</text>\n",
       "<text text-anchor=\"middle\" x=\"467\" y=\"-215.8\" font-family=\"helvetica\" font-size=\"14.00\">samples = 18</text>\n",
       "<text text-anchor=\"middle\" x=\"467\" y=\"-200.8\" font-family=\"helvetica\" font-size=\"14.00\">value = [0, 15, 2, 0, 1]</text>\n",
       "</g>\n",
       "<!-- 3&#45;&gt;4 -->\n",
       "<g id=\"edge4\" class=\"edge\">\n",
       "<title>3&#45;&gt;4</title>\n",
       "<path fill=\"none\" stroke=\"black\" d=\"M733.23,-307.87C679.43,-291.73 606.46,-269.84 550.52,-253.05\"/>\n",
       "<polygon fill=\"black\" stroke=\"black\" points=\"551.21,-249.61 540.63,-250.09 549.2,-256.32 551.21,-249.61\"/>\n",
       "</g>\n",
       "<!-- 11 -->\n",
       "<g id=\"node12\" class=\"node\">\n",
       "<title>11</title>\n",
       "<path fill=\"#39e5c5\" stroke=\"black\" d=\"M865,-253.5C865,-253.5 749,-253.5 749,-253.5 743,-253.5 737,-247.5 737,-241.5 737,-241.5 737,-212.5 737,-212.5 737,-206.5 743,-200.5 749,-200.5 749,-200.5 865,-200.5 865,-200.5 871,-200.5 877,-206.5 877,-212.5 877,-212.5 877,-241.5 877,-241.5 877,-247.5 871,-253.5 865,-253.5\"/>\n",
       "<text text-anchor=\"middle\" x=\"807\" y=\"-238.3\" font-family=\"helvetica\" font-size=\"14.00\">gini = 0.0</text>\n",
       "<text text-anchor=\"middle\" x=\"807\" y=\"-223.3\" font-family=\"helvetica\" font-size=\"14.00\">samples = 1</text>\n",
       "<text text-anchor=\"middle\" x=\"807\" y=\"-208.3\" font-family=\"helvetica\" font-size=\"14.00\">value = [0, 0, 1, 0, 0]</text>\n",
       "</g>\n",
       "<!-- 3&#45;&gt;11 -->\n",
       "<g id=\"edge11\" class=\"edge\">\n",
       "<title>3&#45;&gt;11</title>\n",
       "<path fill=\"none\" stroke=\"black\" d=\"M807,-296.88C807,-286.33 807,-274.6 807,-263.85\"/>\n",
       "<polygon fill=\"black\" stroke=\"black\" points=\"810.5,-263.52 807,-253.52 803.5,-263.52 810.5,-263.52\"/>\n",
       "</g>\n",
       "<!-- 5 -->\n",
       "<g id=\"node6\" class=\"node\">\n",
       "<title>5</title>\n",
       "<path fill=\"#8fe957\" stroke=\"black\" d=\"M289.5,-157C289.5,-157 166.5,-157 166.5,-157 160.5,-157 154.5,-151 154.5,-145 154.5,-145 154.5,-101 154.5,-101 154.5,-95 160.5,-89 166.5,-89 166.5,-89 289.5,-89 289.5,-89 295.5,-89 301.5,-95 301.5,-101 301.5,-101 301.5,-145 301.5,-145 301.5,-151 295.5,-157 289.5,-157\"/>\n",
       "<text text-anchor=\"middle\" x=\"228\" y=\"-141.8\" font-family=\"helvetica\" font-size=\"14.00\">atpressure &lt;= &#45;0.457</text>\n",
       "<text text-anchor=\"middle\" x=\"228\" y=\"-126.8\" font-family=\"helvetica\" font-size=\"14.00\">gini = 0.231</text>\n",
       "<text text-anchor=\"middle\" x=\"228\" y=\"-111.8\" font-family=\"helvetica\" font-size=\"14.00\">samples = 15</text>\n",
       "<text text-anchor=\"middle\" x=\"228\" y=\"-96.8\" font-family=\"helvetica\" font-size=\"14.00\">value = [0, 13, 2, 0, 0]</text>\n",
       "</g>\n",
       "<!-- 4&#45;&gt;5 -->\n",
       "<g id=\"edge5\" class=\"edge\">\n",
       "<title>4&#45;&gt;5</title>\n",
       "<path fill=\"none\" stroke=\"black\" d=\"M393.34,-194.56C367.33,-183.46 337.91,-170.91 311.16,-159.49\"/>\n",
       "<polygon fill=\"black\" stroke=\"black\" points=\"312.4,-156.21 301.83,-155.51 309.65,-162.65 312.4,-156.21\"/>\n",
       "</g>\n",
       "<!-- 8 -->\n",
       "<g id=\"node9\" class=\"node\">\n",
       "<title>8</title>\n",
       "<path fill=\"#bdf29c\" stroke=\"black\" d=\"M525,-157C525,-157 409,-157 409,-157 403,-157 397,-151 397,-145 397,-145 397,-101 397,-101 397,-95 403,-89 409,-89 409,-89 525,-89 525,-89 531,-89 537,-95 537,-101 537,-101 537,-145 537,-145 537,-151 531,-157 525,-157\"/>\n",
       "<text text-anchor=\"middle\" x=\"467\" y=\"-141.8\" font-family=\"helvetica\" font-size=\"14.00\">refresh &lt;= 0.216</text>\n",
       "<text text-anchor=\"middle\" x=\"467\" y=\"-126.8\" font-family=\"helvetica\" font-size=\"14.00\">gini = 0.444</text>\n",
       "<text text-anchor=\"middle\" x=\"467\" y=\"-111.8\" font-family=\"helvetica\" font-size=\"14.00\">samples = 3</text>\n",
       "<text text-anchor=\"middle\" x=\"467\" y=\"-96.8\" font-family=\"helvetica\" font-size=\"14.00\">value = [0, 2, 0, 0, 1]</text>\n",
       "</g>\n",
       "<!-- 4&#45;&gt;8 -->\n",
       "<g id=\"edge8\" class=\"edge\">\n",
       "<title>4&#45;&gt;8</title>\n",
       "<path fill=\"none\" stroke=\"black\" d=\"M467,-192.88C467,-184.78 467,-175.98 467,-167.47\"/>\n",
       "<polygon fill=\"black\" stroke=\"black\" points=\"470.5,-167.3 467,-157.3 463.5,-167.3 470.5,-167.3\"/>\n",
       "</g>\n",
       "<!-- 6 -->\n",
       "<g id=\"node7\" class=\"node\">\n",
       "<title>6</title>\n",
       "<path fill=\"#a1ec72\" stroke=\"black\" d=\"M128,-53C128,-53 12,-53 12,-53 6,-53 0,-47 0,-41 0,-41 0,-12 0,-12 0,-6 6,0 12,0 12,0 128,0 128,0 134,0 140,-6 140,-12 140,-12 140,-41 140,-41 140,-47 134,-53 128,-53\"/>\n",
       "<text text-anchor=\"middle\" x=\"70\" y=\"-37.8\" font-family=\"helvetica\" font-size=\"14.00\">gini = 0.346</text>\n",
       "<text text-anchor=\"middle\" x=\"70\" y=\"-22.8\" font-family=\"helvetica\" font-size=\"14.00\">samples = 9</text>\n",
       "<text text-anchor=\"middle\" x=\"70\" y=\"-7.8\" font-family=\"helvetica\" font-size=\"14.00\">value = [0, 7, 2, 0, 0]</text>\n",
       "</g>\n",
       "<!-- 5&#45;&gt;6 -->\n",
       "<g id=\"edge6\" class=\"edge\">\n",
       "<title>5&#45;&gt;6</title>\n",
       "<path fill=\"none\" stroke=\"black\" d=\"M172.74,-88.95C156.15,-79.02 138.01,-68.18 121.66,-58.4\"/>\n",
       "<polygon fill=\"black\" stroke=\"black\" points=\"123.16,-55.22 112.78,-53.09 119.57,-61.22 123.16,-55.22\"/>\n",
       "</g>\n",
       "<!-- 7 -->\n",
       "<g id=\"node8\" class=\"node\">\n",
       "<title>7</title>\n",
       "<path fill=\"#7be539\" stroke=\"black\" d=\"M286,-53C286,-53 170,-53 170,-53 164,-53 158,-47 158,-41 158,-41 158,-12 158,-12 158,-6 164,0 170,0 170,0 286,0 286,0 292,0 298,-6 298,-12 298,-12 298,-41 298,-41 298,-47 292,-53 286,-53\"/>\n",
       "<text text-anchor=\"middle\" x=\"228\" y=\"-37.8\" font-family=\"helvetica\" font-size=\"14.00\">gini = 0.0</text>\n",
       "<text text-anchor=\"middle\" x=\"228\" y=\"-22.8\" font-family=\"helvetica\" font-size=\"14.00\">samples = 6</text>\n",
       "<text text-anchor=\"middle\" x=\"228\" y=\"-7.8\" font-family=\"helvetica\" font-size=\"14.00\">value = [0, 6, 0, 0, 0]</text>\n",
       "</g>\n",
       "<!-- 5&#45;&gt;7 -->\n",
       "<g id=\"edge7\" class=\"edge\">\n",
       "<title>5&#45;&gt;7</title>\n",
       "<path fill=\"none\" stroke=\"black\" d=\"M228,-88.95C228,-80.72 228,-71.85 228,-63.48\"/>\n",
       "<polygon fill=\"black\" stroke=\"black\" points=\"231.5,-63.24 228,-53.24 224.5,-63.24 231.5,-63.24\"/>\n",
       "</g>\n",
       "<!-- 9 -->\n",
       "<g id=\"node10\" class=\"node\">\n",
       "<title>9</title>\n",
       "<path fill=\"#7be539\" stroke=\"black\" d=\"M444,-53C444,-53 328,-53 328,-53 322,-53 316,-47 316,-41 316,-41 316,-12 316,-12 316,-6 322,0 328,0 328,0 444,0 444,0 450,0 456,-6 456,-12 456,-12 456,-41 456,-41 456,-47 450,-53 444,-53\"/>\n",
       "<text text-anchor=\"middle\" x=\"386\" y=\"-37.8\" font-family=\"helvetica\" font-size=\"14.00\">gini = 0.0</text>\n",
       "<text text-anchor=\"middle\" x=\"386\" y=\"-22.8\" font-family=\"helvetica\" font-size=\"14.00\">samples = 2</text>\n",
       "<text text-anchor=\"middle\" x=\"386\" y=\"-7.8\" font-family=\"helvetica\" font-size=\"14.00\">value = [0, 2, 0, 0, 0]</text>\n",
       "</g>\n",
       "<!-- 8&#45;&gt;9 -->\n",
       "<g id=\"edge9\" class=\"edge\">\n",
       "<title>8&#45;&gt;9</title>\n",
       "<path fill=\"none\" stroke=\"black\" d=\"M438.67,-88.95C430.91,-79.89 422.49,-70.07 414.7,-60.99\"/>\n",
       "<polygon fill=\"black\" stroke=\"black\" points=\"417.23,-58.55 408.06,-53.24 411.91,-63.11 417.23,-58.55\"/>\n",
       "</g>\n",
       "<!-- 10 -->\n",
       "<g id=\"node11\" class=\"node\">\n",
       "<title>10</title>\n",
       "<path fill=\"#e539c0\" stroke=\"black\" d=\"M602,-53C602,-53 486,-53 486,-53 480,-53 474,-47 474,-41 474,-41 474,-12 474,-12 474,-6 480,0 486,0 486,0 602,0 602,0 608,0 614,-6 614,-12 614,-12 614,-41 614,-41 614,-47 608,-53 602,-53\"/>\n",
       "<text text-anchor=\"middle\" x=\"544\" y=\"-37.8\" font-family=\"helvetica\" font-size=\"14.00\">gini = 0.0</text>\n",
       "<text text-anchor=\"middle\" x=\"544\" y=\"-22.8\" font-family=\"helvetica\" font-size=\"14.00\">samples = 1</text>\n",
       "<text text-anchor=\"middle\" x=\"544\" y=\"-7.8\" font-family=\"helvetica\" font-size=\"14.00\">value = [0, 0, 0, 0, 1]</text>\n",
       "</g>\n",
       "<!-- 8&#45;&gt;10 -->\n",
       "<g id=\"edge10\" class=\"edge\">\n",
       "<title>8&#45;&gt;10</title>\n",
       "<path fill=\"none\" stroke=\"black\" d=\"M493.93,-88.95C501.24,-79.98 509.15,-70.27 516.49,-61.26\"/>\n",
       "<polygon fill=\"black\" stroke=\"black\" points=\"519.43,-63.2 523.03,-53.24 514,-58.78 519.43,-63.2\"/>\n",
       "</g>\n",
       "<!-- 13 -->\n",
       "<g id=\"node14\" class=\"node\">\n",
       "<title>13</title>\n",
       "<path fill=\"#b0ef88\" stroke=\"black\" d=\"M1080.5,-261C1080.5,-261 951.5,-261 951.5,-261 945.5,-261 939.5,-255 939.5,-249 939.5,-249 939.5,-205 939.5,-205 939.5,-199 945.5,-193 951.5,-193 951.5,-193 1080.5,-193 1080.5,-193 1086.5,-193 1092.5,-199 1092.5,-205 1092.5,-205 1092.5,-249 1092.5,-249 1092.5,-255 1086.5,-261 1080.5,-261\"/>\n",
       "<text text-anchor=\"middle\" x=\"1016\" y=\"-245.8\" font-family=\"helvetica\" font-size=\"14.00\">Relationship &lt;= &#45;1.772</text>\n",
       "<text text-anchor=\"middle\" x=\"1016\" y=\"-230.8\" font-family=\"helvetica\" font-size=\"14.00\">gini = 0.408</text>\n",
       "<text text-anchor=\"middle\" x=\"1016\" y=\"-215.8\" font-family=\"helvetica\" font-size=\"14.00\">samples = 7</text>\n",
       "<text text-anchor=\"middle\" x=\"1016\" y=\"-200.8\" font-family=\"helvetica\" font-size=\"14.00\">value = [2, 5, 0, 0, 0]</text>\n",
       "</g>\n",
       "<!-- 12&#45;&gt;13 -->\n",
       "<g id=\"edge13\" class=\"edge\">\n",
       "<title>12&#45;&gt;13</title>\n",
       "<path fill=\"none\" stroke=\"black\" d=\"M1045.71,-296.88C1042.1,-288.51 1038.17,-279.4 1034.39,-270.63\"/>\n",
       "<polygon fill=\"black\" stroke=\"black\" points=\"1037.54,-269.1 1030.36,-261.3 1031.11,-271.87 1037.54,-269.1\"/>\n",
       "</g>\n",
       "<!-- 18 -->\n",
       "<g id=\"node19\" class=\"node\">\n",
       "<title>18</title>\n",
       "<path fill=\"#ccf8f0\" stroke=\"black\" d=\"M1253.5,-261C1253.5,-261 1122.5,-261 1122.5,-261 1116.5,-261 1110.5,-255 1110.5,-249 1110.5,-249 1110.5,-205 1110.5,-205 1110.5,-199 1116.5,-193 1122.5,-193 1122.5,-193 1253.5,-193 1253.5,-193 1259.5,-193 1265.5,-199 1265.5,-205 1265.5,-205 1265.5,-249 1265.5,-249 1265.5,-255 1259.5,-261 1253.5,-261\"/>\n",
       "<text text-anchor=\"middle\" x=\"1188\" y=\"-245.8\" font-family=\"helvetica\" font-size=\"14.00\">atpressure &lt;= 1.575</text>\n",
       "<text text-anchor=\"middle\" x=\"1188\" y=\"-230.8\" font-family=\"helvetica\" font-size=\"14.00\">gini = 0.573</text>\n",
       "<text text-anchor=\"middle\" x=\"1188\" y=\"-215.8\" font-family=\"helvetica\" font-size=\"14.00\">samples = 49</text>\n",
       "<text text-anchor=\"middle\" x=\"1188\" y=\"-200.8\" font-family=\"helvetica\" font-size=\"14.00\">value = [0, 18, 26, 5, 0]</text>\n",
       "</g>\n",
       "<!-- 12&#45;&gt;18 -->\n",
       "<g id=\"edge18\" class=\"edge\">\n",
       "<title>12&#45;&gt;18</title>\n",
       "<path fill=\"none\" stroke=\"black\" d=\"M1101.56,-296.88C1113.29,-287.53 1126.18,-277.26 1138.35,-267.57\"/>\n",
       "<polygon fill=\"black\" stroke=\"black\" points=\"1140.57,-270.27 1146.21,-261.3 1136.21,-264.79 1140.57,-270.27\"/>\n",
       "</g>\n",
       "<!-- 14 -->\n",
       "<g id=\"node15\" class=\"node\">\n",
       "<title>14</title>\n",
       "<path fill=\"#ffffff\" stroke=\"black\" d=\"M918.5,-157C918.5,-157 799.5,-157 799.5,-157 793.5,-157 787.5,-151 787.5,-145 787.5,-145 787.5,-101 787.5,-101 787.5,-95 793.5,-89 799.5,-89 799.5,-89 918.5,-89 918.5,-89 924.5,-89 930.5,-95 930.5,-101 930.5,-101 930.5,-145 930.5,-145 930.5,-151 924.5,-157 918.5,-157\"/>\n",
       "<text text-anchor=\"middle\" x=\"859\" y=\"-141.8\" font-family=\"helvetica\" font-size=\"14.00\">atpressure &lt;= &#45;0.231</text>\n",
       "<text text-anchor=\"middle\" x=\"859\" y=\"-126.8\" font-family=\"helvetica\" font-size=\"14.00\">gini = 0.5</text>\n",
       "<text text-anchor=\"middle\" x=\"859\" y=\"-111.8\" font-family=\"helvetica\" font-size=\"14.00\">samples = 4</text>\n",
       "<text text-anchor=\"middle\" x=\"859\" y=\"-96.8\" font-family=\"helvetica\" font-size=\"14.00\">value = [2, 2, 0, 0, 0]</text>\n",
       "</g>\n",
       "<!-- 13&#45;&gt;14 -->\n",
       "<g id=\"edge14\" class=\"edge\">\n",
       "<title>13&#45;&gt;14</title>\n",
       "<path fill=\"none\" stroke=\"black\" d=\"M965.03,-192.88C950.14,-183.21 933.75,-172.56 918.39,-162.59\"/>\n",
       "<polygon fill=\"black\" stroke=\"black\" points=\"920.28,-159.64 909.99,-157.12 916.46,-165.51 920.28,-159.64\"/>\n",
       "</g>\n",
       "<!-- 17 -->\n",
       "<g id=\"node18\" class=\"node\">\n",
       "<title>17</title>\n",
       "<path fill=\"#7be539\" stroke=\"black\" d=\"M1077,-149.5C1077,-149.5 961,-149.5 961,-149.5 955,-149.5 949,-143.5 949,-137.5 949,-137.5 949,-108.5 949,-108.5 949,-102.5 955,-96.5 961,-96.5 961,-96.5 1077,-96.5 1077,-96.5 1083,-96.5 1089,-102.5 1089,-108.5 1089,-108.5 1089,-137.5 1089,-137.5 1089,-143.5 1083,-149.5 1077,-149.5\"/>\n",
       "<text text-anchor=\"middle\" x=\"1019\" y=\"-134.3\" font-family=\"helvetica\" font-size=\"14.00\">gini = 0.0</text>\n",
       "<text text-anchor=\"middle\" x=\"1019\" y=\"-119.3\" font-family=\"helvetica\" font-size=\"14.00\">samples = 3</text>\n",
       "<text text-anchor=\"middle\" x=\"1019\" y=\"-104.3\" font-family=\"helvetica\" font-size=\"14.00\">value = [0, 3, 0, 0, 0]</text>\n",
       "</g>\n",
       "<!-- 13&#45;&gt;17 -->\n",
       "<g id=\"edge17\" class=\"edge\">\n",
       "<title>13&#45;&gt;17</title>\n",
       "<path fill=\"none\" stroke=\"black\" d=\"M1016.97,-192.88C1017.29,-182.22 1017.64,-170.35 1017.96,-159.52\"/>\n",
       "<polygon fill=\"black\" stroke=\"black\" points=\"1021.45,-159.62 1018.25,-149.52 1014.46,-159.41 1021.45,-159.62\"/>\n",
       "</g>\n",
       "<!-- 15 -->\n",
       "<g id=\"node16\" class=\"node\">\n",
       "<title>15</title>\n",
       "<path fill=\"#7be539\" stroke=\"black\" d=\"M760,-53C760,-53 644,-53 644,-53 638,-53 632,-47 632,-41 632,-41 632,-12 632,-12 632,-6 638,0 644,0 644,0 760,0 760,0 766,0 772,-6 772,-12 772,-12 772,-41 772,-41 772,-47 766,-53 760,-53\"/>\n",
       "<text text-anchor=\"middle\" x=\"702\" y=\"-37.8\" font-family=\"helvetica\" font-size=\"14.00\">gini = 0.0</text>\n",
       "<text text-anchor=\"middle\" x=\"702\" y=\"-22.8\" font-family=\"helvetica\" font-size=\"14.00\">samples = 1</text>\n",
       "<text text-anchor=\"middle\" x=\"702\" y=\"-7.8\" font-family=\"helvetica\" font-size=\"14.00\">value = [0, 1, 0, 0, 0]</text>\n",
       "</g>\n",
       "<!-- 14&#45;&gt;15 -->\n",
       "<g id=\"edge15\" class=\"edge\">\n",
       "<title>14&#45;&gt;15</title>\n",
       "<path fill=\"none\" stroke=\"black\" d=\"M804.09,-88.95C787.67,-79.07 769.74,-68.28 753.55,-58.53\"/>\n",
       "<polygon fill=\"black\" stroke=\"black\" points=\"755.13,-55.4 744.76,-53.24 751.52,-61.39 755.13,-55.4\"/>\n",
       "</g>\n",
       "<!-- 16 -->\n",
       "<g id=\"node17\" class=\"node\">\n",
       "<title>16</title>\n",
       "<path fill=\"#f2c09c\" stroke=\"black\" d=\"M918,-53C918,-53 802,-53 802,-53 796,-53 790,-47 790,-41 790,-41 790,-12 790,-12 790,-6 796,0 802,0 802,0 918,0 918,0 924,0 930,-6 930,-12 930,-12 930,-41 930,-41 930,-47 924,-53 918,-53\"/>\n",
       "<text text-anchor=\"middle\" x=\"860\" y=\"-37.8\" font-family=\"helvetica\" font-size=\"14.00\">gini = 0.444</text>\n",
       "<text text-anchor=\"middle\" x=\"860\" y=\"-22.8\" font-family=\"helvetica\" font-size=\"14.00\">samples = 3</text>\n",
       "<text text-anchor=\"middle\" x=\"860\" y=\"-7.8\" font-family=\"helvetica\" font-size=\"14.00\">value = [2, 1, 0, 0, 0]</text>\n",
       "</g>\n",
       "<!-- 14&#45;&gt;16 -->\n",
       "<g id=\"edge16\" class=\"edge\">\n",
       "<title>14&#45;&gt;16</title>\n",
       "<path fill=\"none\" stroke=\"black\" d=\"M859.35,-88.95C859.44,-80.72 859.53,-71.85 859.62,-63.48\"/>\n",
       "<polygon fill=\"black\" stroke=\"black\" points=\"863.12,-63.27 859.73,-53.24 856.12,-63.2 863.12,-63.27\"/>\n",
       "</g>\n",
       "<!-- 19 -->\n",
       "<g id=\"node20\" class=\"node\">\n",
       "<title>19</title>\n",
       "<path fill=\"#b4f5e9\" stroke=\"black\" d=\"M1251.5,-157C1251.5,-157 1120.5,-157 1120.5,-157 1114.5,-157 1108.5,-151 1108.5,-145 1108.5,-145 1108.5,-101 1108.5,-101 1108.5,-95 1114.5,-89 1120.5,-89 1120.5,-89 1251.5,-89 1251.5,-89 1257.5,-89 1263.5,-95 1263.5,-101 1263.5,-101 1263.5,-145 1263.5,-145 1263.5,-151 1257.5,-157 1251.5,-157\"/>\n",
       "<text text-anchor=\"middle\" x=\"1186\" y=\"-141.8\" font-family=\"helvetica\" font-size=\"14.00\">atpressure &lt;= 0.672</text>\n",
       "<text text-anchor=\"middle\" x=\"1186\" y=\"-126.8\" font-family=\"helvetica\" font-size=\"14.00\">gini = 0.53</text>\n",
       "<text text-anchor=\"middle\" x=\"1186\" y=\"-111.8\" font-family=\"helvetica\" font-size=\"14.00\">samples = 44</text>\n",
       "<text text-anchor=\"middle\" x=\"1186\" y=\"-96.8\" font-family=\"helvetica\" font-size=\"14.00\">value = [0, 15, 26, 3, 0]</text>\n",
       "</g>\n",
       "<!-- 18&#45;&gt;19 -->\n",
       "<g id=\"edge19\" class=\"edge\">\n",
       "<title>18&#45;&gt;19</title>\n",
       "<path fill=\"none\" stroke=\"black\" d=\"M1187.35,-192.88C1187.19,-184.78 1187.02,-175.98 1186.85,-167.47\"/>\n",
       "<polygon fill=\"black\" stroke=\"black\" points=\"1190.35,-167.23 1186.65,-157.3 1183.35,-167.37 1190.35,-167.23\"/>\n",
       "</g>\n",
       "<!-- 22 -->\n",
       "<g id=\"node23\" class=\"node\">\n",
       "<title>22</title>\n",
       "<path fill=\"#d3f6bd\" stroke=\"black\" d=\"M1410,-157C1410,-157 1294,-157 1294,-157 1288,-157 1282,-151 1282,-145 1282,-145 1282,-101 1282,-101 1282,-95 1288,-89 1294,-89 1294,-89 1410,-89 1410,-89 1416,-89 1422,-95 1422,-101 1422,-101 1422,-145 1422,-145 1422,-151 1416,-157 1410,-157\"/>\n",
       "<text text-anchor=\"middle\" x=\"1352\" y=\"-141.8\" font-family=\"helvetica\" font-size=\"14.00\">atpressure &lt;= 1.801</text>\n",
       "<text text-anchor=\"middle\" x=\"1352\" y=\"-126.8\" font-family=\"helvetica\" font-size=\"14.00\">gini = 0.48</text>\n",
       "<text text-anchor=\"middle\" x=\"1352\" y=\"-111.8\" font-family=\"helvetica\" font-size=\"14.00\">samples = 5</text>\n",
       "<text text-anchor=\"middle\" x=\"1352\" y=\"-96.8\" font-family=\"helvetica\" font-size=\"14.00\">value = [0, 3, 0, 2, 0]</text>\n",
       "</g>\n",
       "<!-- 18&#45;&gt;22 -->\n",
       "<g id=\"edge22\" class=\"edge\">\n",
       "<title>18&#45;&gt;22</title>\n",
       "<path fill=\"none\" stroke=\"black\" d=\"M1241.25,-192.88C1256.79,-183.21 1273.92,-172.56 1289.96,-162.59\"/>\n",
       "<polygon fill=\"black\" stroke=\"black\" points=\"1292.1,-165.38 1298.74,-157.12 1288.4,-159.43 1292.1,-165.38\"/>\n",
       "</g>\n",
       "<!-- 20 -->\n",
       "<g id=\"node21\" class=\"node\">\n",
       "<title>20</title>\n",
       "<path fill=\"#defbf5\" stroke=\"black\" d=\"M1091.5,-53C1091.5,-53 960.5,-53 960.5,-53 954.5,-53 948.5,-47 948.5,-41 948.5,-41 948.5,-12 948.5,-12 948.5,-6 954.5,0 960.5,0 960.5,0 1091.5,0 1091.5,0 1097.5,0 1103.5,-6 1103.5,-12 1103.5,-12 1103.5,-41 1103.5,-41 1103.5,-47 1097.5,-53 1091.5,-53\"/>\n",
       "<text text-anchor=\"middle\" x=\"1026\" y=\"-37.8\" font-family=\"helvetica\" font-size=\"14.00\">gini = 0.496</text>\n",
       "<text text-anchor=\"middle\" x=\"1026\" y=\"-22.8\" font-family=\"helvetica\" font-size=\"14.00\">samples = 33</text>\n",
       "<text text-anchor=\"middle\" x=\"1026\" y=\"-7.8\" font-family=\"helvetica\" font-size=\"14.00\">value = [0, 15, 18, 0, 0]</text>\n",
       "</g>\n",
       "<!-- 19&#45;&gt;20 -->\n",
       "<g id=\"edge20\" class=\"edge\">\n",
       "<title>19&#45;&gt;20</title>\n",
       "<path fill=\"none\" stroke=\"black\" d=\"M1130.04,-88.95C1113.24,-79.02 1094.87,-68.18 1078.31,-58.4\"/>\n",
       "<polygon fill=\"black\" stroke=\"black\" points=\"1079.71,-55.16 1069.32,-53.09 1076.15,-61.19 1079.71,-55.16\"/>\n",
       "</g>\n",
       "<!-- 21 -->\n",
       "<g id=\"node22\" class=\"node\">\n",
       "<title>21</title>\n",
       "<path fill=\"#83efdb\" stroke=\"black\" d=\"M1250,-53C1250,-53 1134,-53 1134,-53 1128,-53 1122,-47 1122,-41 1122,-41 1122,-12 1122,-12 1122,-6 1128,0 1134,0 1134,0 1250,0 1250,0 1256,0 1262,-6 1262,-12 1262,-12 1262,-41 1262,-41 1262,-47 1256,-53 1250,-53\"/>\n",
       "<text text-anchor=\"middle\" x=\"1192\" y=\"-37.8\" font-family=\"helvetica\" font-size=\"14.00\">gini = 0.397</text>\n",
       "<text text-anchor=\"middle\" x=\"1192\" y=\"-22.8\" font-family=\"helvetica\" font-size=\"14.00\">samples = 11</text>\n",
       "<text text-anchor=\"middle\" x=\"1192\" y=\"-7.8\" font-family=\"helvetica\" font-size=\"14.00\">value = [0, 0, 8, 3, 0]</text>\n",
       "</g>\n",
       "<!-- 19&#45;&gt;21 -->\n",
       "<g id=\"edge21\" class=\"edge\">\n",
       "<title>19&#45;&gt;21</title>\n",
       "<path fill=\"none\" stroke=\"black\" d=\"M1188.1,-88.95C1188.62,-80.72 1189.18,-71.85 1189.72,-63.48\"/>\n",
       "<polygon fill=\"black\" stroke=\"black\" points=\"1193.23,-63.44 1190.37,-53.24 1186.24,-62.99 1193.23,-63.44\"/>\n",
       "</g>\n",
       "<!-- 23 -->\n",
       "<g id=\"node24\" class=\"node\">\n",
       "<title>23</title>\n",
       "<path fill=\"#7be539\" stroke=\"black\" d=\"M1408,-53C1408,-53 1292,-53 1292,-53 1286,-53 1280,-47 1280,-41 1280,-41 1280,-12 1280,-12 1280,-6 1286,0 1292,0 1292,0 1408,0 1408,0 1414,0 1420,-6 1420,-12 1420,-12 1420,-41 1420,-41 1420,-47 1414,-53 1408,-53\"/>\n",
       "<text text-anchor=\"middle\" x=\"1350\" y=\"-37.8\" font-family=\"helvetica\" font-size=\"14.00\">gini = 0.0</text>\n",
       "<text text-anchor=\"middle\" x=\"1350\" y=\"-22.8\" font-family=\"helvetica\" font-size=\"14.00\">samples = 1</text>\n",
       "<text text-anchor=\"middle\" x=\"1350\" y=\"-7.8\" font-family=\"helvetica\" font-size=\"14.00\">value = [0, 1, 0, 0, 0]</text>\n",
       "</g>\n",
       "<!-- 22&#45;&gt;23 -->\n",
       "<g id=\"edge23\" class=\"edge\">\n",
       "<title>22&#45;&gt;23</title>\n",
       "<path fill=\"none\" stroke=\"black\" d=\"M1351.3,-88.95C1351.13,-80.72 1350.94,-71.85 1350.76,-63.48\"/>\n",
       "<polygon fill=\"black\" stroke=\"black\" points=\"1354.26,-63.16 1350.54,-53.24 1347.26,-63.31 1354.26,-63.16\"/>\n",
       "</g>\n",
       "<!-- 24 -->\n",
       "<g id=\"node25\" class=\"node\">\n",
       "<title>24</title>\n",
       "<path fill=\"#ffffff\" stroke=\"black\" d=\"M1566,-53C1566,-53 1450,-53 1450,-53 1444,-53 1438,-47 1438,-41 1438,-41 1438,-12 1438,-12 1438,-6 1444,0 1450,0 1450,0 1566,0 1566,0 1572,0 1578,-6 1578,-12 1578,-12 1578,-41 1578,-41 1578,-47 1572,-53 1566,-53\"/>\n",
       "<text text-anchor=\"middle\" x=\"1508\" y=\"-37.8\" font-family=\"helvetica\" font-size=\"14.00\">gini = 0.5</text>\n",
       "<text text-anchor=\"middle\" x=\"1508\" y=\"-22.8\" font-family=\"helvetica\" font-size=\"14.00\">samples = 4</text>\n",
       "<text text-anchor=\"middle\" x=\"1508\" y=\"-7.8\" font-family=\"helvetica\" font-size=\"14.00\">value = [0, 2, 0, 2, 0]</text>\n",
       "</g>\n",
       "<!-- 22&#45;&gt;24 -->\n",
       "<g id=\"edge24\" class=\"edge\">\n",
       "<title>22&#45;&gt;24</title>\n",
       "<path fill=\"none\" stroke=\"black\" d=\"M1406.56,-88.95C1422.87,-79.07 1440.69,-68.28 1456.78,-58.53\"/>\n",
       "<polygon fill=\"black\" stroke=\"black\" points=\"1458.77,-61.41 1465.51,-53.24 1455.15,-55.42 1458.77,-61.41\"/>\n",
       "</g>\n",
       "<!-- 26 -->\n",
       "<g id=\"node27\" class=\"node\">\n",
       "<title>26</title>\n",
       "<path fill=\"#62ead1\" stroke=\"black\" d=\"M2110.5,-365C2110.5,-365 1987.5,-365 1987.5,-365 1981.5,-365 1975.5,-359 1975.5,-353 1975.5,-353 1975.5,-309 1975.5,-309 1975.5,-303 1981.5,-297 1987.5,-297 1987.5,-297 2110.5,-297 2110.5,-297 2116.5,-297 2122.5,-303 2122.5,-309 2122.5,-309 2122.5,-353 2122.5,-353 2122.5,-359 2116.5,-365 2110.5,-365\"/>\n",
       "<text text-anchor=\"middle\" x=\"2049\" y=\"-349.8\" font-family=\"helvetica\" font-size=\"14.00\">social &lt;= &#45;0.739</text>\n",
       "<text text-anchor=\"middle\" x=\"2049\" y=\"-334.8\" font-family=\"helvetica\" font-size=\"14.00\">gini = 0.304</text>\n",
       "<text text-anchor=\"middle\" x=\"2049\" y=\"-319.8\" font-family=\"helvetica\" font-size=\"14.00\">samples = 28</text>\n",
       "<text text-anchor=\"middle\" x=\"2049\" y=\"-304.8\" font-family=\"helvetica\" font-size=\"14.00\">value = [0, 1, 23, 4, 0]</text>\n",
       "</g>\n",
       "<!-- 25&#45;&gt;26 -->\n",
       "<g id=\"edge26\" class=\"edge\">\n",
       "<title>25&#45;&gt;26</title>\n",
       "<path fill=\"none\" stroke=\"black\" d=\"M2131.39,-400.88C2120.31,-391.62 2108.15,-381.45 2096.66,-371.85\"/>\n",
       "<polygon fill=\"black\" stroke=\"black\" points=\"2098.75,-369.03 2088.83,-365.3 2094.26,-374.4 2098.75,-369.03\"/>\n",
       "</g>\n",
       "<!-- 37 -->\n",
       "<g id=\"node38\" class=\"node\">\n",
       "<title>37</title>\n",
       "<path fill=\"#d0cff9\" stroke=\"black\" d=\"M2440.5,-365C2440.5,-365 2309.5,-365 2309.5,-365 2303.5,-365 2297.5,-359 2297.5,-353 2297.5,-353 2297.5,-309 2297.5,-309 2297.5,-303 2303.5,-297 2309.5,-297 2309.5,-297 2440.5,-297 2440.5,-297 2446.5,-297 2452.5,-303 2452.5,-309 2452.5,-309 2452.5,-353 2452.5,-353 2452.5,-359 2446.5,-365 2440.5,-365\"/>\n",
       "<text text-anchor=\"middle\" x=\"2375\" y=\"-349.8\" font-family=\"helvetica\" font-size=\"14.00\">atpressure &lt;= &#45;0.457</text>\n",
       "<text text-anchor=\"middle\" x=\"2375\" y=\"-334.8\" font-family=\"helvetica\" font-size=\"14.00\">gini = 0.534</text>\n",
       "<text text-anchor=\"middle\" x=\"2375\" y=\"-319.8\" font-family=\"helvetica\" font-size=\"14.00\">samples = 42</text>\n",
       "<text text-anchor=\"middle\" x=\"2375\" y=\"-304.8\" font-family=\"helvetica\" font-size=\"14.00\">value = [0, 2, 17, 23, 0]</text>\n",
       "</g>\n",
       "<!-- 25&#45;&gt;37 -->\n",
       "<g id=\"edge37\" class=\"edge\">\n",
       "<title>25&#45;&gt;37</title>\n",
       "<path fill=\"none\" stroke=\"black\" d=\"M2237.23,-400.88C2257.2,-390.9 2279.26,-379.87 2299.76,-369.62\"/>\n",
       "<polygon fill=\"black\" stroke=\"black\" points=\"2301.37,-372.73 2308.75,-365.12 2298.24,-366.47 2301.37,-372.73\"/>\n",
       "</g>\n",
       "<!-- 27 -->\n",
       "<g id=\"node28\" class=\"node\">\n",
       "<title>27</title>\n",
       "<path fill=\"#ffffff\" stroke=\"black\" d=\"M1870,-261C1870,-261 1754,-261 1754,-261 1748,-261 1742,-255 1742,-249 1742,-249 1742,-205 1742,-205 1742,-199 1748,-193 1754,-193 1754,-193 1870,-193 1870,-193 1876,-193 1882,-199 1882,-205 1882,-205 1882,-249 1882,-249 1882,-255 1876,-261 1870,-261\"/>\n",
       "<text text-anchor=\"middle\" x=\"1812\" y=\"-245.8\" font-family=\"helvetica\" font-size=\"14.00\">atpressure &lt;= &#45;0.57</text>\n",
       "<text text-anchor=\"middle\" x=\"1812\" y=\"-230.8\" font-family=\"helvetica\" font-size=\"14.00\">gini = 0.667</text>\n",
       "<text text-anchor=\"middle\" x=\"1812\" y=\"-215.8\" font-family=\"helvetica\" font-size=\"14.00\">samples = 3</text>\n",
       "<text text-anchor=\"middle\" x=\"1812\" y=\"-200.8\" font-family=\"helvetica\" font-size=\"14.00\">value = [0, 1, 1, 1, 0]</text>\n",
       "</g>\n",
       "<!-- 26&#45;&gt;27 -->\n",
       "<g id=\"edge27\" class=\"edge\">\n",
       "<title>26&#45;&gt;27</title>\n",
       "<path fill=\"none\" stroke=\"black\" d=\"M1975.31,-298.29C1948.81,-286.88 1918.81,-273.97 1891.81,-262.35\"/>\n",
       "<polygon fill=\"black\" stroke=\"black\" points=\"1892.97,-259.04 1882.4,-258.3 1890.2,-265.47 1892.97,-259.04\"/>\n",
       "</g>\n",
       "<!-- 32 -->\n",
       "<g id=\"node33\" class=\"node\">\n",
       "<title>32</title>\n",
       "<path fill=\"#54e9cd\" stroke=\"black\" d=\"M2110.5,-261C2110.5,-261 1987.5,-261 1987.5,-261 1981.5,-261 1975.5,-255 1975.5,-249 1975.5,-249 1975.5,-205 1975.5,-205 1975.5,-199 1981.5,-193 1987.5,-193 1987.5,-193 2110.5,-193 2110.5,-193 2116.5,-193 2122.5,-199 2122.5,-205 2122.5,-205 2122.5,-249 2122.5,-249 2122.5,-255 2116.5,-261 2110.5,-261\"/>\n",
       "<text text-anchor=\"middle\" x=\"2049\" y=\"-245.8\" font-family=\"helvetica\" font-size=\"14.00\">atpressure &lt;= 0.446</text>\n",
       "<text text-anchor=\"middle\" x=\"2049\" y=\"-230.8\" font-family=\"helvetica\" font-size=\"14.00\">gini = 0.211</text>\n",
       "<text text-anchor=\"middle\" x=\"2049\" y=\"-215.8\" font-family=\"helvetica\" font-size=\"14.00\">samples = 25</text>\n",
       "<text text-anchor=\"middle\" x=\"2049\" y=\"-200.8\" font-family=\"helvetica\" font-size=\"14.00\">value = [0, 0, 22, 3, 0]</text>\n",
       "</g>\n",
       "<!-- 26&#45;&gt;32 -->\n",
       "<g id=\"edge32\" class=\"edge\">\n",
       "<title>26&#45;&gt;32</title>\n",
       "<path fill=\"none\" stroke=\"black\" d=\"M2049,-296.88C2049,-288.78 2049,-279.98 2049,-271.47\"/>\n",
       "<polygon fill=\"black\" stroke=\"black\" points=\"2052.5,-271.3 2049,-261.3 2045.5,-271.3 2052.5,-271.3\"/>\n",
       "</g>\n",
       "<!-- 28 -->\n",
       "<g id=\"node29\" class=\"node\">\n",
       "<title>28</title>\n",
       "<path fill=\"#7be539\" stroke=\"black\" d=\"M1712,-149.5C1712,-149.5 1596,-149.5 1596,-149.5 1590,-149.5 1584,-143.5 1584,-137.5 1584,-137.5 1584,-108.5 1584,-108.5 1584,-102.5 1590,-96.5 1596,-96.5 1596,-96.5 1712,-96.5 1712,-96.5 1718,-96.5 1724,-102.5 1724,-108.5 1724,-108.5 1724,-137.5 1724,-137.5 1724,-143.5 1718,-149.5 1712,-149.5\"/>\n",
       "<text text-anchor=\"middle\" x=\"1654\" y=\"-134.3\" font-family=\"helvetica\" font-size=\"14.00\">gini = 0.0</text>\n",
       "<text text-anchor=\"middle\" x=\"1654\" y=\"-119.3\" font-family=\"helvetica\" font-size=\"14.00\">samples = 1</text>\n",
       "<text text-anchor=\"middle\" x=\"1654\" y=\"-104.3\" font-family=\"helvetica\" font-size=\"14.00\">value = [0, 1, 0, 0, 0]</text>\n",
       "</g>\n",
       "<!-- 27&#45;&gt;28 -->\n",
       "<g id=\"edge28\" class=\"edge\">\n",
       "<title>27&#45;&gt;28</title>\n",
       "<path fill=\"none\" stroke=\"black\" d=\"M1760.7,-192.88C1741.88,-180.73 1720.65,-167.03 1702.11,-155.06\"/>\n",
       "<polygon fill=\"black\" stroke=\"black\" points=\"1703.83,-152 1693.53,-149.52 1700.03,-157.88 1703.83,-152\"/>\n",
       "</g>\n",
       "<!-- 29 -->\n",
       "<g id=\"node30\" class=\"node\">\n",
       "<title>29</title>\n",
       "<path fill=\"#ffffff\" stroke=\"black\" d=\"M1870,-157C1870,-157 1754,-157 1754,-157 1748,-157 1742,-151 1742,-145 1742,-145 1742,-101 1742,-101 1742,-95 1748,-89 1754,-89 1754,-89 1870,-89 1870,-89 1876,-89 1882,-95 1882,-101 1882,-101 1882,-145 1882,-145 1882,-151 1876,-157 1870,-157\"/>\n",
       "<text text-anchor=\"middle\" x=\"1812\" y=\"-141.8\" font-family=\"helvetica\" font-size=\"14.00\">atpressure &lt;= 0.446</text>\n",
       "<text text-anchor=\"middle\" x=\"1812\" y=\"-126.8\" font-family=\"helvetica\" font-size=\"14.00\">gini = 0.5</text>\n",
       "<text text-anchor=\"middle\" x=\"1812\" y=\"-111.8\" font-family=\"helvetica\" font-size=\"14.00\">samples = 2</text>\n",
       "<text text-anchor=\"middle\" x=\"1812\" y=\"-96.8\" font-family=\"helvetica\" font-size=\"14.00\">value = [0, 0, 1, 1, 0]</text>\n",
       "</g>\n",
       "<!-- 27&#45;&gt;29 -->\n",
       "<g id=\"edge29\" class=\"edge\">\n",
       "<title>27&#45;&gt;29</title>\n",
       "<path fill=\"none\" stroke=\"black\" d=\"M1812,-192.88C1812,-184.78 1812,-175.98 1812,-167.47\"/>\n",
       "<polygon fill=\"black\" stroke=\"black\" points=\"1815.5,-167.3 1812,-157.3 1808.5,-167.3 1815.5,-167.3\"/>\n",
       "</g>\n",
       "<!-- 30 -->\n",
       "<g id=\"node31\" class=\"node\">\n",
       "<title>30</title>\n",
       "<path fill=\"#3c39e5\" stroke=\"black\" d=\"M1724,-53C1724,-53 1608,-53 1608,-53 1602,-53 1596,-47 1596,-41 1596,-41 1596,-12 1596,-12 1596,-6 1602,0 1608,0 1608,0 1724,0 1724,0 1730,0 1736,-6 1736,-12 1736,-12 1736,-41 1736,-41 1736,-47 1730,-53 1724,-53\"/>\n",
       "<text text-anchor=\"middle\" x=\"1666\" y=\"-37.8\" font-family=\"helvetica\" font-size=\"14.00\">gini = 0.0</text>\n",
       "<text text-anchor=\"middle\" x=\"1666\" y=\"-22.8\" font-family=\"helvetica\" font-size=\"14.00\">samples = 1</text>\n",
       "<text text-anchor=\"middle\" x=\"1666\" y=\"-7.8\" font-family=\"helvetica\" font-size=\"14.00\">value = [0, 0, 0, 1, 0]</text>\n",
       "</g>\n",
       "<!-- 29&#45;&gt;30 -->\n",
       "<g id=\"edge30\" class=\"edge\">\n",
       "<title>29&#45;&gt;30</title>\n",
       "<path fill=\"none\" stroke=\"black\" d=\"M1760.94,-88.95C1745.81,-79.16 1729.31,-68.48 1714.36,-58.8\"/>\n",
       "<polygon fill=\"black\" stroke=\"black\" points=\"1716.06,-55.73 1705.76,-53.24 1712.26,-61.61 1716.06,-55.73\"/>\n",
       "</g>\n",
       "<!-- 31 -->\n",
       "<g id=\"node32\" class=\"node\">\n",
       "<title>31</title>\n",
       "<path fill=\"#39e5c5\" stroke=\"black\" d=\"M1882,-53C1882,-53 1766,-53 1766,-53 1760,-53 1754,-47 1754,-41 1754,-41 1754,-12 1754,-12 1754,-6 1760,0 1766,0 1766,0 1882,0 1882,0 1888,0 1894,-6 1894,-12 1894,-12 1894,-41 1894,-41 1894,-47 1888,-53 1882,-53\"/>\n",
       "<text text-anchor=\"middle\" x=\"1824\" y=\"-37.8\" font-family=\"helvetica\" font-size=\"14.00\">gini = 0.0</text>\n",
       "<text text-anchor=\"middle\" x=\"1824\" y=\"-22.8\" font-family=\"helvetica\" font-size=\"14.00\">samples = 1</text>\n",
       "<text text-anchor=\"middle\" x=\"1824\" y=\"-7.8\" font-family=\"helvetica\" font-size=\"14.00\">value = [0, 0, 1, 0, 0]</text>\n",
       "</g>\n",
       "<!-- 29&#45;&gt;31 -->\n",
       "<g id=\"edge31\" class=\"edge\">\n",
       "<title>29&#45;&gt;31</title>\n",
       "<path fill=\"none\" stroke=\"black\" d=\"M1816.2,-88.95C1817.25,-80.62 1818.39,-71.65 1819.47,-63.2\"/>\n",
       "<polygon fill=\"black\" stroke=\"black\" points=\"1822.94,-63.6 1820.73,-53.24 1816,-62.72 1822.94,-63.6\"/>\n",
       "</g>\n",
       "<!-- 33 -->\n",
       "<g id=\"node34\" class=\"node\">\n",
       "<title>33</title>\n",
       "<path fill=\"#39e5c5\" stroke=\"black\" d=\"M2035.5,-149.5C2035.5,-149.5 1912.5,-149.5 1912.5,-149.5 1906.5,-149.5 1900.5,-143.5 1900.5,-137.5 1900.5,-137.5 1900.5,-108.5 1900.5,-108.5 1900.5,-102.5 1906.5,-96.5 1912.5,-96.5 1912.5,-96.5 2035.5,-96.5 2035.5,-96.5 2041.5,-96.5 2047.5,-102.5 2047.5,-108.5 2047.5,-108.5 2047.5,-137.5 2047.5,-137.5 2047.5,-143.5 2041.5,-149.5 2035.5,-149.5\"/>\n",
       "<text text-anchor=\"middle\" x=\"1974\" y=\"-134.3\" font-family=\"helvetica\" font-size=\"14.00\">gini = 0.0</text>\n",
       "<text text-anchor=\"middle\" x=\"1974\" y=\"-119.3\" font-family=\"helvetica\" font-size=\"14.00\">samples = 14</text>\n",
       "<text text-anchor=\"middle\" x=\"1974\" y=\"-104.3\" font-family=\"helvetica\" font-size=\"14.00\">value = [0, 0, 14, 0, 0]</text>\n",
       "</g>\n",
       "<!-- 32&#45;&gt;33 -->\n",
       "<g id=\"edge33\" class=\"edge\">\n",
       "<title>32&#45;&gt;33</title>\n",
       "<path fill=\"none\" stroke=\"black\" d=\"M2024.65,-192.88C2016.4,-181.67 2007.18,-169.13 1998.89,-157.85\"/>\n",
       "<polygon fill=\"black\" stroke=\"black\" points=\"2001.51,-155.5 1992.76,-149.52 1995.87,-159.65 2001.51,-155.5\"/>\n",
       "</g>\n",
       "<!-- 34 -->\n",
       "<g id=\"node35\" class=\"node\">\n",
       "<title>34</title>\n",
       "<path fill=\"#83efdb\" stroke=\"black\" d=\"M2194,-157C2194,-157 2078,-157 2078,-157 2072,-157 2066,-151 2066,-145 2066,-145 2066,-101 2066,-101 2066,-95 2072,-89 2078,-89 2078,-89 2194,-89 2194,-89 2200,-89 2206,-95 2206,-101 2206,-101 2206,-145 2206,-145 2206,-151 2200,-157 2194,-157\"/>\n",
       "<text text-anchor=\"middle\" x=\"2136\" y=\"-141.8\" font-family=\"helvetica\" font-size=\"14.00\">atpressure &lt;= 0.898</text>\n",
       "<text text-anchor=\"middle\" x=\"2136\" y=\"-126.8\" font-family=\"helvetica\" font-size=\"14.00\">gini = 0.397</text>\n",
       "<text text-anchor=\"middle\" x=\"2136\" y=\"-111.8\" font-family=\"helvetica\" font-size=\"14.00\">samples = 11</text>\n",
       "<text text-anchor=\"middle\" x=\"2136\" y=\"-96.8\" font-family=\"helvetica\" font-size=\"14.00\">value = [0, 0, 8, 3, 0]</text>\n",
       "</g>\n",
       "<!-- 32&#45;&gt;34 -->\n",
       "<g id=\"edge34\" class=\"edge\">\n",
       "<title>32&#45;&gt;34</title>\n",
       "<path fill=\"none\" stroke=\"black\" d=\"M2077.25,-192.88C2084.84,-183.98 2093.15,-174.24 2101.07,-164.96\"/>\n",
       "<polygon fill=\"black\" stroke=\"black\" points=\"2103.77,-167.18 2107.6,-157.3 2098.45,-162.64 2103.77,-167.18\"/>\n",
       "</g>\n",
       "<!-- 35 -->\n",
       "<g id=\"node36\" class=\"node\">\n",
       "<title>35</title>\n",
       "<path fill=\"#ffffff\" stroke=\"black\" d=\"M2040,-53C2040,-53 1924,-53 1924,-53 1918,-53 1912,-47 1912,-41 1912,-41 1912,-12 1912,-12 1912,-6 1918,0 1924,0 1924,0 2040,0 2040,0 2046,0 2052,-6 2052,-12 2052,-12 2052,-41 2052,-41 2052,-47 2046,-53 2040,-53\"/>\n",
       "<text text-anchor=\"middle\" x=\"1982\" y=\"-37.8\" font-family=\"helvetica\" font-size=\"14.00\">gini = 0.5</text>\n",
       "<text text-anchor=\"middle\" x=\"1982\" y=\"-22.8\" font-family=\"helvetica\" font-size=\"14.00\">samples = 6</text>\n",
       "<text text-anchor=\"middle\" x=\"1982\" y=\"-7.8\" font-family=\"helvetica\" font-size=\"14.00\">value = [0, 0, 3, 3, 0]</text>\n",
       "</g>\n",
       "<!-- 34&#45;&gt;35 -->\n",
       "<g id=\"edge35\" class=\"edge\">\n",
       "<title>34&#45;&gt;35</title>\n",
       "<path fill=\"none\" stroke=\"black\" d=\"M2082.14,-88.95C2066.04,-79.07 2048.45,-68.28 2032.57,-58.53\"/>\n",
       "<polygon fill=\"black\" stroke=\"black\" points=\"2034.3,-55.48 2023.94,-53.24 2030.63,-61.45 2034.3,-55.48\"/>\n",
       "</g>\n",
       "<!-- 36 -->\n",
       "<g id=\"node37\" class=\"node\">\n",
       "<title>36</title>\n",
       "<path fill=\"#39e5c5\" stroke=\"black\" d=\"M2198,-53C2198,-53 2082,-53 2082,-53 2076,-53 2070,-47 2070,-41 2070,-41 2070,-12 2070,-12 2070,-6 2076,0 2082,0 2082,0 2198,0 2198,0 2204,0 2210,-6 2210,-12 2210,-12 2210,-41 2210,-41 2210,-47 2204,-53 2198,-53\"/>\n",
       "<text text-anchor=\"middle\" x=\"2140\" y=\"-37.8\" font-family=\"helvetica\" font-size=\"14.00\">gini = 0.0</text>\n",
       "<text text-anchor=\"middle\" x=\"2140\" y=\"-22.8\" font-family=\"helvetica\" font-size=\"14.00\">samples = 5</text>\n",
       "<text text-anchor=\"middle\" x=\"2140\" y=\"-7.8\" font-family=\"helvetica\" font-size=\"14.00\">value = [0, 0, 5, 0, 0]</text>\n",
       "</g>\n",
       "<!-- 34&#45;&gt;36 -->\n",
       "<g id=\"edge36\" class=\"edge\">\n",
       "<title>34&#45;&gt;36</title>\n",
       "<path fill=\"none\" stroke=\"black\" d=\"M2137.4,-88.95C2137.75,-80.72 2138.12,-71.85 2138.48,-63.48\"/>\n",
       "<polygon fill=\"black\" stroke=\"black\" points=\"2141.98,-63.38 2138.91,-53.24 2134.99,-63.08 2141.98,-63.38\"/>\n",
       "</g>\n",
       "<!-- 38 -->\n",
       "<g id=\"node39\" class=\"node\">\n",
       "<title>38</title>\n",
       "<path fill=\"#7d7bee\" stroke=\"black\" d=\"M2436.5,-261C2436.5,-261 2313.5,-261 2313.5,-261 2307.5,-261 2301.5,-255 2301.5,-249 2301.5,-249 2301.5,-205 2301.5,-205 2301.5,-199 2307.5,-193 2313.5,-193 2313.5,-193 2436.5,-193 2436.5,-193 2442.5,-193 2448.5,-199 2448.5,-205 2448.5,-205 2448.5,-249 2448.5,-249 2448.5,-255 2442.5,-261 2436.5,-261\"/>\n",
       "<text text-anchor=\"middle\" x=\"2375\" y=\"-245.8\" font-family=\"helvetica\" font-size=\"14.00\">atpressure &lt;= &#45;3.393</text>\n",
       "<text text-anchor=\"middle\" x=\"2375\" y=\"-230.8\" font-family=\"helvetica\" font-size=\"14.00\">gini = 0.418</text>\n",
       "<text text-anchor=\"middle\" x=\"2375\" y=\"-215.8\" font-family=\"helvetica\" font-size=\"14.00\">samples = 15</text>\n",
       "<text text-anchor=\"middle\" x=\"2375\" y=\"-200.8\" font-family=\"helvetica\" font-size=\"14.00\">value = [0, 1, 3, 11, 0]</text>\n",
       "</g>\n",
       "<!-- 37&#45;&gt;38 -->\n",
       "<g id=\"edge38\" class=\"edge\">\n",
       "<title>37&#45;&gt;38</title>\n",
       "<path fill=\"none\" stroke=\"black\" d=\"M2375,-296.88C2375,-288.78 2375,-279.98 2375,-271.47\"/>\n",
       "<polygon fill=\"black\" stroke=\"black\" points=\"2378.5,-271.3 2375,-261.3 2371.5,-271.3 2378.5,-271.3\"/>\n",
       "</g>\n",
       "<!-- 43 -->\n",
       "<g id=\"node44\" class=\"node\">\n",
       "<title>43</title>\n",
       "<path fill=\"#e5fcf7\" stroke=\"black\" d=\"M2764.5,-261C2764.5,-261 2633.5,-261 2633.5,-261 2627.5,-261 2621.5,-255 2621.5,-249 2621.5,-249 2621.5,-205 2621.5,-205 2621.5,-199 2627.5,-193 2633.5,-193 2633.5,-193 2764.5,-193 2764.5,-193 2770.5,-193 2776.5,-199 2776.5,-205 2776.5,-205 2776.5,-249 2776.5,-249 2776.5,-255 2770.5,-261 2764.5,-261\"/>\n",
       "<text text-anchor=\"middle\" x=\"2699\" y=\"-245.8\" font-family=\"helvetica\" font-size=\"14.00\">atpressure &lt;= 0.22</text>\n",
       "<text text-anchor=\"middle\" x=\"2699\" y=\"-230.8\" font-family=\"helvetica\" font-size=\"14.00\">gini = 0.532</text>\n",
       "<text text-anchor=\"middle\" x=\"2699\" y=\"-215.8\" font-family=\"helvetica\" font-size=\"14.00\">samples = 27</text>\n",
       "<text text-anchor=\"middle\" x=\"2699\" y=\"-200.8\" font-family=\"helvetica\" font-size=\"14.00\">value = [0, 1, 14, 12, 0]</text>\n",
       "</g>\n",
       "<!-- 37&#45;&gt;43 -->\n",
       "<g id=\"edge43\" class=\"edge\">\n",
       "<title>37&#45;&gt;43</title>\n",
       "<path fill=\"none\" stroke=\"black\" d=\"M2452.61,-305.57C2500.52,-290.48 2562.1,-271.1 2611.71,-255.48\"/>\n",
       "<polygon fill=\"black\" stroke=\"black\" points=\"2612.98,-258.75 2621.47,-252.41 2610.88,-252.07 2612.98,-258.75\"/>\n",
       "</g>\n",
       "<!-- 39 -->\n",
       "<g id=\"node40\" class=\"node\">\n",
       "<title>39</title>\n",
       "<path fill=\"#39e5c5\" stroke=\"black\" d=\"M2352,-149.5C2352,-149.5 2236,-149.5 2236,-149.5 2230,-149.5 2224,-143.5 2224,-137.5 2224,-137.5 2224,-108.5 2224,-108.5 2224,-102.5 2230,-96.5 2236,-96.5 2236,-96.5 2352,-96.5 2352,-96.5 2358,-96.5 2364,-102.5 2364,-108.5 2364,-108.5 2364,-137.5 2364,-137.5 2364,-143.5 2358,-149.5 2352,-149.5\"/>\n",
       "<text text-anchor=\"middle\" x=\"2294\" y=\"-134.3\" font-family=\"helvetica\" font-size=\"14.00\">gini = 0.0</text>\n",
       "<text text-anchor=\"middle\" x=\"2294\" y=\"-119.3\" font-family=\"helvetica\" font-size=\"14.00\">samples = 1</text>\n",
       "<text text-anchor=\"middle\" x=\"2294\" y=\"-104.3\" font-family=\"helvetica\" font-size=\"14.00\">value = [0, 0, 1, 0, 0]</text>\n",
       "</g>\n",
       "<!-- 38&#45;&gt;39 -->\n",
       "<g id=\"edge39\" class=\"edge\">\n",
       "<title>38&#45;&gt;39</title>\n",
       "<path fill=\"none\" stroke=\"black\" d=\"M2348.7,-192.88C2339.71,-181.56 2329.64,-168.88 2320.62,-157.52\"/>\n",
       "<polygon fill=\"black\" stroke=\"black\" points=\"2323.23,-155.17 2314.27,-149.52 2317.74,-159.53 2323.23,-155.17\"/>\n",
       "</g>\n",
       "<!-- 40 -->\n",
       "<g id=\"node41\" class=\"node\">\n",
       "<title>40</title>\n",
       "<path fill=\"#6d6bec\" stroke=\"black\" d=\"M2517.5,-157C2517.5,-157 2394.5,-157 2394.5,-157 2388.5,-157 2382.5,-151 2382.5,-145 2382.5,-145 2382.5,-101 2382.5,-101 2382.5,-95 2388.5,-89 2394.5,-89 2394.5,-89 2517.5,-89 2517.5,-89 2523.5,-89 2529.5,-95 2529.5,-101 2529.5,-101 2529.5,-145 2529.5,-145 2529.5,-151 2523.5,-157 2517.5,-157\"/>\n",
       "<text text-anchor=\"middle\" x=\"2456\" y=\"-141.8\" font-family=\"helvetica\" font-size=\"14.00\">atpressure &lt;= &#45;0.909</text>\n",
       "<text text-anchor=\"middle\" x=\"2456\" y=\"-126.8\" font-family=\"helvetica\" font-size=\"14.00\">gini = 0.357</text>\n",
       "<text text-anchor=\"middle\" x=\"2456\" y=\"-111.8\" font-family=\"helvetica\" font-size=\"14.00\">samples = 14</text>\n",
       "<text text-anchor=\"middle\" x=\"2456\" y=\"-96.8\" font-family=\"helvetica\" font-size=\"14.00\">value = [0, 1, 2, 11, 0]</text>\n",
       "</g>\n",
       "<!-- 38&#45;&gt;40 -->\n",
       "<g id=\"edge40\" class=\"edge\">\n",
       "<title>38&#45;&gt;40</title>\n",
       "<path fill=\"none\" stroke=\"black\" d=\"M2401.3,-192.88C2408.3,-184.07 2415.95,-174.43 2423.25,-165.24\"/>\n",
       "<polygon fill=\"black\" stroke=\"black\" points=\"2426.08,-167.31 2429.56,-157.3 2420.6,-162.95 2426.08,-167.31\"/>\n",
       "</g>\n",
       "<!-- 41 -->\n",
       "<g id=\"node42\" class=\"node\">\n",
       "<title>41</title>\n",
       "<path fill=\"#3c39e5\" stroke=\"black\" d=\"M2356,-53C2356,-53 2240,-53 2240,-53 2234,-53 2228,-47 2228,-41 2228,-41 2228,-12 2228,-12 2228,-6 2234,0 2240,0 2240,0 2356,0 2356,0 2362,0 2368,-6 2368,-12 2368,-12 2368,-41 2368,-41 2368,-47 2362,-53 2356,-53\"/>\n",
       "<text text-anchor=\"middle\" x=\"2298\" y=\"-37.8\" font-family=\"helvetica\" font-size=\"14.00\">gini = 0.0</text>\n",
       "<text text-anchor=\"middle\" x=\"2298\" y=\"-22.8\" font-family=\"helvetica\" font-size=\"14.00\">samples = 6</text>\n",
       "<text text-anchor=\"middle\" x=\"2298\" y=\"-7.8\" font-family=\"helvetica\" font-size=\"14.00\">value = [0, 0, 0, 6, 0]</text>\n",
       "</g>\n",
       "<!-- 40&#45;&gt;41 -->\n",
       "<g id=\"edge41\" class=\"edge\">\n",
       "<title>40&#45;&gt;41</title>\n",
       "<path fill=\"none\" stroke=\"black\" d=\"M2400.74,-88.95C2384.15,-79.02 2366.01,-68.18 2349.66,-58.4\"/>\n",
       "<polygon fill=\"black\" stroke=\"black\" points=\"2351.16,-55.22 2340.78,-53.09 2347.57,-61.22 2351.16,-55.22\"/>\n",
       "</g>\n",
       "<!-- 42 -->\n",
       "<g id=\"node43\" class=\"node\">\n",
       "<title>42</title>\n",
       "<path fill=\"#9e9cf2\" stroke=\"black\" d=\"M2514,-53C2514,-53 2398,-53 2398,-53 2392,-53 2386,-47 2386,-41 2386,-41 2386,-12 2386,-12 2386,-6 2392,0 2398,0 2398,0 2514,0 2514,0 2520,0 2526,-6 2526,-12 2526,-12 2526,-41 2526,-41 2526,-47 2520,-53 2514,-53\"/>\n",
       "<text text-anchor=\"middle\" x=\"2456\" y=\"-37.8\" font-family=\"helvetica\" font-size=\"14.00\">gini = 0.531</text>\n",
       "<text text-anchor=\"middle\" x=\"2456\" y=\"-22.8\" font-family=\"helvetica\" font-size=\"14.00\">samples = 8</text>\n",
       "<text text-anchor=\"middle\" x=\"2456\" y=\"-7.8\" font-family=\"helvetica\" font-size=\"14.00\">value = [0, 1, 2, 5, 0]</text>\n",
       "</g>\n",
       "<!-- 40&#45;&gt;42 -->\n",
       "<g id=\"edge42\" class=\"edge\">\n",
       "<title>40&#45;&gt;42</title>\n",
       "<path fill=\"none\" stroke=\"black\" d=\"M2456,-88.95C2456,-80.72 2456,-71.85 2456,-63.48\"/>\n",
       "<polygon fill=\"black\" stroke=\"black\" points=\"2459.5,-63.24 2456,-53.24 2452.5,-63.24 2459.5,-63.24\"/>\n",
       "</g>\n",
       "<!-- 44 -->\n",
       "<g id=\"node45\" class=\"node\">\n",
       "<title>44</title>\n",
       "<path fill=\"#81eeda\" stroke=\"black\" d=\"M2760.5,-157C2760.5,-157 2637.5,-157 2637.5,-157 2631.5,-157 2625.5,-151 2625.5,-145 2625.5,-145 2625.5,-101 2625.5,-101 2625.5,-95 2631.5,-89 2637.5,-89 2637.5,-89 2760.5,-89 2760.5,-89 2766.5,-89 2772.5,-95 2772.5,-101 2772.5,-101 2772.5,-145 2772.5,-145 2772.5,-151 2766.5,-157 2760.5,-157\"/>\n",
       "<text text-anchor=\"middle\" x=\"2699\" y=\"-141.8\" font-family=\"helvetica\" font-size=\"14.00\">social &lt;= 0.892</text>\n",
       "<text text-anchor=\"middle\" x=\"2699\" y=\"-126.8\" font-family=\"helvetica\" font-size=\"14.00\">gini = 0.439</text>\n",
       "<text text-anchor=\"middle\" x=\"2699\" y=\"-111.8\" font-family=\"helvetica\" font-size=\"14.00\">samples = 14</text>\n",
       "<text text-anchor=\"middle\" x=\"2699\" y=\"-96.8\" font-family=\"helvetica\" font-size=\"14.00\">value = [0, 1, 10, 3, 0]</text>\n",
       "</g>\n",
       "<!-- 43&#45;&gt;44 -->\n",
       "<g id=\"edge44\" class=\"edge\">\n",
       "<title>43&#45;&gt;44</title>\n",
       "<path fill=\"none\" stroke=\"black\" d=\"M2699,-192.88C2699,-184.78 2699,-175.98 2699,-167.47\"/>\n",
       "<polygon fill=\"black\" stroke=\"black\" points=\"2702.5,-167.3 2699,-157.3 2695.5,-167.3 2702.5,-167.3\"/>\n",
       "</g>\n",
       "<!-- 47 -->\n",
       "<g id=\"node48\" class=\"node\">\n",
       "<title>47</title>\n",
       "<path fill=\"#9391f1\" stroke=\"black\" d=\"M2996,-157C2996,-157 2880,-157 2880,-157 2874,-157 2868,-151 2868,-145 2868,-145 2868,-101 2868,-101 2868,-95 2874,-89 2880,-89 2880,-89 2996,-89 2996,-89 3002,-89 3008,-95 3008,-101 3008,-101 3008,-145 3008,-145 3008,-151 3002,-157 2996,-157\"/>\n",
       "<text text-anchor=\"middle\" x=\"2938\" y=\"-141.8\" font-family=\"helvetica\" font-size=\"14.00\">refresh &lt;= 1.821</text>\n",
       "<text text-anchor=\"middle\" x=\"2938\" y=\"-126.8\" font-family=\"helvetica\" font-size=\"14.00\">gini = 0.426</text>\n",
       "<text text-anchor=\"middle\" x=\"2938\" y=\"-111.8\" font-family=\"helvetica\" font-size=\"14.00\">samples = 13</text>\n",
       "<text text-anchor=\"middle\" x=\"2938\" y=\"-96.8\" font-family=\"helvetica\" font-size=\"14.00\">value = [0, 0, 4, 9, 0]</text>\n",
       "</g>\n",
       "<!-- 43&#45;&gt;47 -->\n",
       "<g id=\"edge47\" class=\"edge\">\n",
       "<title>43&#45;&gt;47</title>\n",
       "<path fill=\"none\" stroke=\"black\" d=\"M2776.6,-192.88C2802.7,-181.74 2831.85,-169.3 2858.12,-158.09\"/>\n",
       "<polygon fill=\"black\" stroke=\"black\" points=\"2859.84,-161.16 2867.66,-154.02 2857.09,-154.73 2859.84,-161.16\"/>\n",
       "</g>\n",
       "<!-- 45 -->\n",
       "<g id=\"node46\" class=\"node\">\n",
       "<title>45</title>\n",
       "<path fill=\"#6fecd5\" stroke=\"black\" d=\"M2679.5,-53C2679.5,-53 2556.5,-53 2556.5,-53 2550.5,-53 2544.5,-47 2544.5,-41 2544.5,-41 2544.5,-12 2544.5,-12 2544.5,-6 2550.5,0 2556.5,0 2556.5,0 2679.5,0 2679.5,0 2685.5,0 2691.5,-6 2691.5,-12 2691.5,-12 2691.5,-41 2691.5,-41 2691.5,-47 2685.5,-53 2679.5,-53\"/>\n",
       "<text text-anchor=\"middle\" x=\"2618\" y=\"-37.8\" font-family=\"helvetica\" font-size=\"14.00\">gini = 0.379</text>\n",
       "<text text-anchor=\"middle\" x=\"2618\" y=\"-22.8\" font-family=\"helvetica\" font-size=\"14.00\">samples = 13</text>\n",
       "<text text-anchor=\"middle\" x=\"2618\" y=\"-7.8\" font-family=\"helvetica\" font-size=\"14.00\">value = [0, 1, 10, 2, 0]</text>\n",
       "</g>\n",
       "<!-- 44&#45;&gt;45 -->\n",
       "<g id=\"edge45\" class=\"edge\">\n",
       "<title>44&#45;&gt;45</title>\n",
       "<path fill=\"none\" stroke=\"black\" d=\"M2670.67,-88.95C2662.91,-79.89 2654.49,-70.07 2646.7,-60.99\"/>\n",
       "<polygon fill=\"black\" stroke=\"black\" points=\"2649.23,-58.55 2640.06,-53.24 2643.91,-63.11 2649.23,-58.55\"/>\n",
       "</g>\n",
       "<!-- 46 -->\n",
       "<g id=\"node47\" class=\"node\">\n",
       "<title>46</title>\n",
       "<path fill=\"#3c39e5\" stroke=\"black\" d=\"M2838,-53C2838,-53 2722,-53 2722,-53 2716,-53 2710,-47 2710,-41 2710,-41 2710,-12 2710,-12 2710,-6 2716,0 2722,0 2722,0 2838,0 2838,0 2844,0 2850,-6 2850,-12 2850,-12 2850,-41 2850,-41 2850,-47 2844,-53 2838,-53\"/>\n",
       "<text text-anchor=\"middle\" x=\"2780\" y=\"-37.8\" font-family=\"helvetica\" font-size=\"14.00\">gini = 0.0</text>\n",
       "<text text-anchor=\"middle\" x=\"2780\" y=\"-22.8\" font-family=\"helvetica\" font-size=\"14.00\">samples = 1</text>\n",
       "<text text-anchor=\"middle\" x=\"2780\" y=\"-7.8\" font-family=\"helvetica\" font-size=\"14.00\">value = [0, 0, 0, 1, 0]</text>\n",
       "</g>\n",
       "<!-- 44&#45;&gt;46 -->\n",
       "<g id=\"edge46\" class=\"edge\">\n",
       "<title>44&#45;&gt;46</title>\n",
       "<path fill=\"none\" stroke=\"black\" d=\"M2727.33,-88.95C2735.09,-79.89 2743.51,-70.07 2751.3,-60.99\"/>\n",
       "<polygon fill=\"black\" stroke=\"black\" points=\"2754.09,-63.11 2757.94,-53.24 2748.77,-58.55 2754.09,-63.11\"/>\n",
       "</g>\n",
       "<!-- 48 -->\n",
       "<g id=\"node49\" class=\"node\">\n",
       "<title>48</title>\n",
       "<path fill=\"#abaaf4\" stroke=\"black\" d=\"M2996,-53C2996,-53 2880,-53 2880,-53 2874,-53 2868,-47 2868,-41 2868,-41 2868,-12 2868,-12 2868,-6 2874,0 2880,0 2880,0 2996,0 2996,0 3002,0 3008,-6 3008,-12 3008,-12 3008,-41 3008,-41 3008,-47 3002,-53 2996,-53\"/>\n",
       "<text text-anchor=\"middle\" x=\"2938\" y=\"-37.8\" font-family=\"helvetica\" font-size=\"14.00\">gini = 0.463</text>\n",
       "<text text-anchor=\"middle\" x=\"2938\" y=\"-22.8\" font-family=\"helvetica\" font-size=\"14.00\">samples = 11</text>\n",
       "<text text-anchor=\"middle\" x=\"2938\" y=\"-7.8\" font-family=\"helvetica\" font-size=\"14.00\">value = [0, 0, 4, 7, 0]</text>\n",
       "</g>\n",
       "<!-- 47&#45;&gt;48 -->\n",
       "<g id=\"edge48\" class=\"edge\">\n",
       "<title>47&#45;&gt;48</title>\n",
       "<path fill=\"none\" stroke=\"black\" d=\"M2938,-88.95C2938,-80.72 2938,-71.85 2938,-63.48\"/>\n",
       "<polygon fill=\"black\" stroke=\"black\" points=\"2941.5,-63.24 2938,-53.24 2934.5,-63.24 2941.5,-63.24\"/>\n",
       "</g>\n",
       "<!-- 49 -->\n",
       "<g id=\"node50\" class=\"node\">\n",
       "<title>49</title>\n",
       "<path fill=\"#3c39e5\" stroke=\"black\" d=\"M3154,-53C3154,-53 3038,-53 3038,-53 3032,-53 3026,-47 3026,-41 3026,-41 3026,-12 3026,-12 3026,-6 3032,0 3038,0 3038,0 3154,0 3154,0 3160,0 3166,-6 3166,-12 3166,-12 3166,-41 3166,-41 3166,-47 3160,-53 3154,-53\"/>\n",
       "<text text-anchor=\"middle\" x=\"3096\" y=\"-37.8\" font-family=\"helvetica\" font-size=\"14.00\">gini = 0.0</text>\n",
       "<text text-anchor=\"middle\" x=\"3096\" y=\"-22.8\" font-family=\"helvetica\" font-size=\"14.00\">samples = 2</text>\n",
       "<text text-anchor=\"middle\" x=\"3096\" y=\"-7.8\" font-family=\"helvetica\" font-size=\"14.00\">value = [0, 0, 0, 2, 0]</text>\n",
       "</g>\n",
       "<!-- 47&#45;&gt;49 -->\n",
       "<g id=\"edge49\" class=\"edge\">\n",
       "<title>47&#45;&gt;49</title>\n",
       "<path fill=\"none\" stroke=\"black\" d=\"M2993.26,-88.95C3009.85,-79.02 3027.99,-68.18 3044.34,-58.4\"/>\n",
       "<polygon fill=\"black\" stroke=\"black\" points=\"3046.43,-61.22 3053.22,-53.09 3042.84,-55.22 3046.43,-61.22\"/>\n",
       "</g>\n",
       "<!-- 51 -->\n",
       "<g id=\"node52\" class=\"node\">\n",
       "<title>51</title>\n",
       "<path fill=\"#8887ef\" stroke=\"black\" d=\"M4286,-469C4286,-469 4140,-469 4140,-469 4134,-469 4128,-463 4128,-457 4128,-457 4128,-413 4128,-413 4128,-407 4134,-401 4140,-401 4140,-401 4286,-401 4286,-401 4292,-401 4298,-407 4298,-413 4298,-413 4298,-457 4298,-457 4298,-463 4292,-469 4286,-469\"/>\n",
       "<text text-anchor=\"middle\" x=\"4213\" y=\"-453.8\" font-family=\"helvetica\" font-size=\"14.00\">Relationship &lt;= 0.828</text>\n",
       "<text text-anchor=\"middle\" x=\"4213\" y=\"-438.8\" font-family=\"helvetica\" font-size=\"14.00\">gini = 0.472</text>\n",
       "<text text-anchor=\"middle\" x=\"4213\" y=\"-423.8\" font-family=\"helvetica\" font-size=\"14.00\">samples = 158</text>\n",
       "<text text-anchor=\"middle\" x=\"4213\" y=\"-408.8\" font-family=\"helvetica\" font-size=\"14.00\">value = [0, 2, 33, 109, 14]</text>\n",
       "</g>\n",
       "<!-- 50&#45;&gt;51 -->\n",
       "<g id=\"edge51\" class=\"edge\">\n",
       "<title>50&#45;&gt;51</title>\n",
       "<path fill=\"none\" stroke=\"black\" d=\"M4213,-504.88C4213,-496.78 4213,-487.98 4213,-479.47\"/>\n",
       "<polygon fill=\"black\" stroke=\"black\" points=\"4216.5,-479.3 4213,-469.3 4209.5,-479.3 4216.5,-479.3\"/>\n",
       "</g>\n",
       "<!-- 78 -->\n",
       "<g id=\"node79\" class=\"node\">\n",
       "<title>78</title>\n",
       "<path fill=\"#9e9cf2\" stroke=\"black\" d=\"M5757.5,-469C5757.5,-469 5626.5,-469 5626.5,-469 5620.5,-469 5614.5,-463 5614.5,-457 5614.5,-457 5614.5,-413 5614.5,-413 5614.5,-407 5620.5,-401 5626.5,-401 5626.5,-401 5757.5,-401 5757.5,-401 5763.5,-401 5769.5,-407 5769.5,-413 5769.5,-413 5769.5,-457 5769.5,-457 5769.5,-463 5763.5,-469 5757.5,-469\"/>\n",
       "<text text-anchor=\"middle\" x=\"5692\" y=\"-453.8\" font-family=\"helvetica\" font-size=\"14.00\">Relationship &lt;= 0.828</text>\n",
       "<text text-anchor=\"middle\" x=\"5692\" y=\"-438.8\" font-family=\"helvetica\" font-size=\"14.00\">gini = 0.498</text>\n",
       "<text text-anchor=\"middle\" x=\"5692\" y=\"-423.8\" font-family=\"helvetica\" font-size=\"14.00\">samples = 59</text>\n",
       "<text text-anchor=\"middle\" x=\"5692\" y=\"-408.8\" font-family=\"helvetica\" font-size=\"14.00\">value = [0, 0, 4, 38, 17]</text>\n",
       "</g>\n",
       "<!-- 50&#45;&gt;78 -->\n",
       "<g id=\"edge78\" class=\"edge\">\n",
       "<title>50&#45;&gt;78</title>\n",
       "<path fill=\"none\" stroke=\"black\" d=\"M4298.1,-532.13C4558.09,-514.2 5340.25,-460.26 5604.03,-442.07\"/>\n",
       "<polygon fill=\"black\" stroke=\"black\" points=\"5604.59,-445.54 5614.32,-441.36 5604.11,-438.55 5604.59,-445.54\"/>\n",
       "</g>\n",
       "<!-- 52 -->\n",
       "<g id=\"node53\" class=\"node\">\n",
       "<title>52</title>\n",
       "<path fill=\"#9391f1\" stroke=\"black\" d=\"M4191.5,-365C4191.5,-365 4060.5,-365 4060.5,-365 4054.5,-365 4048.5,-359 4048.5,-353 4048.5,-353 4048.5,-309 4048.5,-309 4048.5,-303 4054.5,-297 4060.5,-297 4060.5,-297 4191.5,-297 4191.5,-297 4197.5,-297 4203.5,-303 4203.5,-309 4203.5,-309 4203.5,-353 4203.5,-353 4203.5,-359 4197.5,-365 4191.5,-365\"/>\n",
       "<text text-anchor=\"middle\" x=\"4126\" y=\"-349.8\" font-family=\"helvetica\" font-size=\"14.00\">refresh &lt;= &#45;1.389</text>\n",
       "<text text-anchor=\"middle\" x=\"4126\" y=\"-334.8\" font-family=\"helvetica\" font-size=\"14.00\">gini = 0.45</text>\n",
       "<text text-anchor=\"middle\" x=\"4126\" y=\"-319.8\" font-family=\"helvetica\" font-size=\"14.00\">samples = 104</text>\n",
       "<text text-anchor=\"middle\" x=\"4126\" y=\"-304.8\" font-family=\"helvetica\" font-size=\"14.00\">value = [0, 2, 30, 71, 1]</text>\n",
       "</g>\n",
       "<!-- 51&#45;&gt;52 -->\n",
       "<g id=\"edge52\" class=\"edge\">\n",
       "<title>51&#45;&gt;52</title>\n",
       "<path fill=\"none\" stroke=\"black\" d=\"M4184.75,-400.88C4177.16,-391.98 4168.85,-382.24 4160.93,-372.96\"/>\n",
       "<polygon fill=\"black\" stroke=\"black\" points=\"4163.55,-370.64 4154.4,-365.3 4158.23,-375.18 4163.55,-370.64\"/>\n",
       "</g>\n",
       "<!-- 67 -->\n",
       "<g id=\"node68\" class=\"node\">\n",
       "<title>67</title>\n",
       "<path fill=\"#8886ef\" stroke=\"black\" d=\"M4527.5,-365C4527.5,-365 4396.5,-365 4396.5,-365 4390.5,-365 4384.5,-359 4384.5,-353 4384.5,-353 4384.5,-309 4384.5,-309 4384.5,-303 4390.5,-297 4396.5,-297 4396.5,-297 4527.5,-297 4527.5,-297 4533.5,-297 4539.5,-303 4539.5,-309 4539.5,-309 4539.5,-353 4539.5,-353 4539.5,-359 4533.5,-365 4527.5,-365\"/>\n",
       "<text text-anchor=\"middle\" x=\"4462\" y=\"-349.8\" font-family=\"helvetica\" font-size=\"14.00\">refresh &lt;= &#45;0.319</text>\n",
       "<text text-anchor=\"middle\" x=\"4462\" y=\"-334.8\" font-family=\"helvetica\" font-size=\"14.00\">gini = 0.444</text>\n",
       "<text text-anchor=\"middle\" x=\"4462\" y=\"-319.8\" font-family=\"helvetica\" font-size=\"14.00\">samples = 54</text>\n",
       "<text text-anchor=\"middle\" x=\"4462\" y=\"-304.8\" font-family=\"helvetica\" font-size=\"14.00\">value = [0, 0, 3, 38, 13]</text>\n",
       "</g>\n",
       "<!-- 51&#45;&gt;67 -->\n",
       "<g id=\"edge67\" class=\"edge\">\n",
       "<title>51&#45;&gt;67</title>\n",
       "<path fill=\"none\" stroke=\"black\" d=\"M4293.84,-400.88C4319.64,-390.31 4348.31,-378.57 4374.56,-367.82\"/>\n",
       "<polygon fill=\"black\" stroke=\"black\" points=\"4376.18,-370.94 4384.11,-363.91 4373.53,-364.46 4376.18,-370.94\"/>\n",
       "</g>\n",
       "<!-- 53 -->\n",
       "<g id=\"node54\" class=\"node\">\n",
       "<title>53</title>\n",
       "<path fill=\"#8ef0de\" stroke=\"black\" d=\"M3708,-261C3708,-261 3592,-261 3592,-261 3586,-261 3580,-255 3580,-249 3580,-249 3580,-205 3580,-205 3580,-199 3586,-193 3592,-193 3592,-193 3708,-193 3708,-193 3714,-193 3720,-199 3720,-205 3720,-205 3720,-249 3720,-249 3720,-255 3714,-261 3708,-261\"/>\n",
       "<text text-anchor=\"middle\" x=\"3650\" y=\"-245.8\" font-family=\"helvetica\" font-size=\"14.00\">atpressure &lt;= 0.672</text>\n",
       "<text text-anchor=\"middle\" x=\"3650\" y=\"-230.8\" font-family=\"helvetica\" font-size=\"14.00\">gini = 0.494</text>\n",
       "<text text-anchor=\"middle\" x=\"3650\" y=\"-215.8\" font-family=\"helvetica\" font-size=\"14.00\">samples = 9</text>\n",
       "<text text-anchor=\"middle\" x=\"3650\" y=\"-200.8\" font-family=\"helvetica\" font-size=\"14.00\">value = [0, 1, 6, 2, 0]</text>\n",
       "</g>\n",
       "<!-- 52&#45;&gt;53 -->\n",
       "<g id=\"edge53\" class=\"edge\">\n",
       "<title>52&#45;&gt;53</title>\n",
       "<path fill=\"none\" stroke=\"black\" d=\"M4048.46,-313.38C3960.82,-294.6 3818.85,-264.18 3730.14,-245.17\"/>\n",
       "<polygon fill=\"black\" stroke=\"black\" points=\"3730.64,-241.7 3720.13,-243.03 3729.18,-248.55 3730.64,-241.7\"/>\n",
       "</g>\n",
       "<!-- 60 -->\n",
       "<g id=\"node61\" class=\"node\">\n",
       "<title>60</title>\n",
       "<path fill=\"#8382ef\" stroke=\"black\" d=\"M4191.5,-261C4191.5,-261 4060.5,-261 4060.5,-261 4054.5,-261 4048.5,-255 4048.5,-249 4048.5,-249 4048.5,-205 4048.5,-205 4048.5,-199 4054.5,-193 4060.5,-193 4060.5,-193 4191.5,-193 4191.5,-193 4197.5,-193 4203.5,-199 4203.5,-205 4203.5,-205 4203.5,-249 4203.5,-249 4203.5,-255 4197.5,-261 4191.5,-261\"/>\n",
       "<text text-anchor=\"middle\" x=\"4126\" y=\"-245.8\" font-family=\"helvetica\" font-size=\"14.00\">atpressure &lt;= &#45;1.36</text>\n",
       "<text text-anchor=\"middle\" x=\"4126\" y=\"-230.8\" font-family=\"helvetica\" font-size=\"14.00\">gini = 0.408</text>\n",
       "<text text-anchor=\"middle\" x=\"4126\" y=\"-215.8\" font-family=\"helvetica\" font-size=\"14.00\">samples = 95</text>\n",
       "<text text-anchor=\"middle\" x=\"4126\" y=\"-200.8\" font-family=\"helvetica\" font-size=\"14.00\">value = [0, 1, 24, 69, 1]</text>\n",
       "</g>\n",
       "<!-- 52&#45;&gt;60 -->\n",
       "<g id=\"edge60\" class=\"edge\">\n",
       "<title>52&#45;&gt;60</title>\n",
       "<path fill=\"none\" stroke=\"black\" d=\"M4126,-296.88C4126,-288.78 4126,-279.98 4126,-271.47\"/>\n",
       "<polygon fill=\"black\" stroke=\"black\" points=\"4129.5,-271.3 4126,-261.3 4122.5,-271.3 4129.5,-271.3\"/>\n",
       "</g>\n",
       "<!-- 54 -->\n",
       "<g id=\"node55\" class=\"node\">\n",
       "<title>54</title>\n",
       "<path fill=\"#5ae9cf\" stroke=\"black\" d=\"M3471.5,-157C3471.5,-157 3352.5,-157 3352.5,-157 3346.5,-157 3340.5,-151 3340.5,-145 3340.5,-145 3340.5,-101 3340.5,-101 3340.5,-95 3346.5,-89 3352.5,-89 3352.5,-89 3471.5,-89 3471.5,-89 3477.5,-89 3483.5,-95 3483.5,-101 3483.5,-101 3483.5,-145 3483.5,-145 3483.5,-151 3477.5,-157 3471.5,-157\"/>\n",
       "<text text-anchor=\"middle\" x=\"3412\" y=\"-141.8\" font-family=\"helvetica\" font-size=\"14.00\">atpressure &lt;= &#45;0.683</text>\n",
       "<text text-anchor=\"middle\" x=\"3412\" y=\"-126.8\" font-family=\"helvetica\" font-size=\"14.00\">gini = 0.245</text>\n",
       "<text text-anchor=\"middle\" x=\"3412\" y=\"-111.8\" font-family=\"helvetica\" font-size=\"14.00\">samples = 7</text>\n",
       "<text text-anchor=\"middle\" x=\"3412\" y=\"-96.8\" font-family=\"helvetica\" font-size=\"14.00\">value = [0, 0, 6, 1, 0]</text>\n",
       "</g>\n",
       "<!-- 53&#45;&gt;54 -->\n",
       "<g id=\"edge54\" class=\"edge\">\n",
       "<title>53&#45;&gt;54</title>\n",
       "<path fill=\"none\" stroke=\"black\" d=\"M3579.88,-195.95C3552.65,-184.28 3521.3,-170.84 3493.11,-158.76\"/>\n",
       "<polygon fill=\"black\" stroke=\"black\" points=\"3494.25,-155.44 3483.68,-154.72 3491.49,-161.88 3494.25,-155.44\"/>\n",
       "</g>\n",
       "<!-- 57 -->\n",
       "<g id=\"node58\" class=\"node\">\n",
       "<title>57</title>\n",
       "<path fill=\"#ffffff\" stroke=\"black\" d=\"M3708,-157C3708,-157 3592,-157 3592,-157 3586,-157 3580,-151 3580,-145 3580,-145 3580,-101 3580,-101 3580,-95 3586,-89 3592,-89 3592,-89 3708,-89 3708,-89 3714,-89 3720,-95 3720,-101 3720,-101 3720,-145 3720,-145 3720,-151 3714,-157 3708,-157\"/>\n",
       "<text text-anchor=\"middle\" x=\"3650\" y=\"-141.8\" font-family=\"helvetica\" font-size=\"14.00\">social &lt;= 0.892</text>\n",
       "<text text-anchor=\"middle\" x=\"3650\" y=\"-126.8\" font-family=\"helvetica\" font-size=\"14.00\">gini = 0.5</text>\n",
       "<text text-anchor=\"middle\" x=\"3650\" y=\"-111.8\" font-family=\"helvetica\" font-size=\"14.00\">samples = 2</text>\n",
       "<text text-anchor=\"middle\" x=\"3650\" y=\"-96.8\" font-family=\"helvetica\" font-size=\"14.00\">value = [0, 1, 0, 1, 0]</text>\n",
       "</g>\n",
       "<!-- 53&#45;&gt;57 -->\n",
       "<g id=\"edge57\" class=\"edge\">\n",
       "<title>53&#45;&gt;57</title>\n",
       "<path fill=\"none\" stroke=\"black\" d=\"M3650,-192.88C3650,-184.78 3650,-175.98 3650,-167.47\"/>\n",
       "<polygon fill=\"black\" stroke=\"black\" points=\"3653.5,-167.3 3650,-157.3 3646.5,-167.3 3653.5,-167.3\"/>\n",
       "</g>\n",
       "<!-- 55 -->\n",
       "<g id=\"node56\" class=\"node\">\n",
       "<title>55</title>\n",
       "<path fill=\"#7beed8\" stroke=\"black\" d=\"M3312,-53C3312,-53 3196,-53 3196,-53 3190,-53 3184,-47 3184,-41 3184,-41 3184,-12 3184,-12 3184,-6 3190,0 3196,0 3196,0 3312,0 3312,0 3318,0 3324,-6 3324,-12 3324,-12 3324,-41 3324,-41 3324,-47 3318,-53 3312,-53\"/>\n",
       "<text text-anchor=\"middle\" x=\"3254\" y=\"-37.8\" font-family=\"helvetica\" font-size=\"14.00\">gini = 0.375</text>\n",
       "<text text-anchor=\"middle\" x=\"3254\" y=\"-22.8\" font-family=\"helvetica\" font-size=\"14.00\">samples = 4</text>\n",
       "<text text-anchor=\"middle\" x=\"3254\" y=\"-7.8\" font-family=\"helvetica\" font-size=\"14.00\">value = [0, 0, 3, 1, 0]</text>\n",
       "</g>\n",
       "<!-- 54&#45;&gt;55 -->\n",
       "<g id=\"edge55\" class=\"edge\">\n",
       "<title>54&#45;&gt;55</title>\n",
       "<path fill=\"none\" stroke=\"black\" d=\"M3356.74,-88.95C3340.15,-79.02 3322.01,-68.18 3305.66,-58.4\"/>\n",
       "<polygon fill=\"black\" stroke=\"black\" points=\"3307.16,-55.22 3296.78,-53.09 3303.57,-61.22 3307.16,-55.22\"/>\n",
       "</g>\n",
       "<!-- 56 -->\n",
       "<g id=\"node57\" class=\"node\">\n",
       "<title>56</title>\n",
       "<path fill=\"#39e5c5\" stroke=\"black\" d=\"M3470,-53C3470,-53 3354,-53 3354,-53 3348,-53 3342,-47 3342,-41 3342,-41 3342,-12 3342,-12 3342,-6 3348,0 3354,0 3354,0 3470,0 3470,0 3476,0 3482,-6 3482,-12 3482,-12 3482,-41 3482,-41 3482,-47 3476,-53 3470,-53\"/>\n",
       "<text text-anchor=\"middle\" x=\"3412\" y=\"-37.8\" font-family=\"helvetica\" font-size=\"14.00\">gini = 0.0</text>\n",
       "<text text-anchor=\"middle\" x=\"3412\" y=\"-22.8\" font-family=\"helvetica\" font-size=\"14.00\">samples = 3</text>\n",
       "<text text-anchor=\"middle\" x=\"3412\" y=\"-7.8\" font-family=\"helvetica\" font-size=\"14.00\">value = [0, 0, 3, 0, 0]</text>\n",
       "</g>\n",
       "<!-- 54&#45;&gt;56 -->\n",
       "<g id=\"edge56\" class=\"edge\">\n",
       "<title>54&#45;&gt;56</title>\n",
       "<path fill=\"none\" stroke=\"black\" d=\"M3412,-88.95C3412,-80.72 3412,-71.85 3412,-63.48\"/>\n",
       "<polygon fill=\"black\" stroke=\"black\" points=\"3415.5,-63.24 3412,-53.24 3408.5,-63.24 3415.5,-63.24\"/>\n",
       "</g>\n",
       "<!-- 58 -->\n",
       "<g id=\"node59\" class=\"node\">\n",
       "<title>58</title>\n",
       "<path fill=\"#7be539\" stroke=\"black\" d=\"M3628,-53C3628,-53 3512,-53 3512,-53 3506,-53 3500,-47 3500,-41 3500,-41 3500,-12 3500,-12 3500,-6 3506,0 3512,0 3512,0 3628,0 3628,0 3634,0 3640,-6 3640,-12 3640,-12 3640,-41 3640,-41 3640,-47 3634,-53 3628,-53\"/>\n",
       "<text text-anchor=\"middle\" x=\"3570\" y=\"-37.8\" font-family=\"helvetica\" font-size=\"14.00\">gini = 0.0</text>\n",
       "<text text-anchor=\"middle\" x=\"3570\" y=\"-22.8\" font-family=\"helvetica\" font-size=\"14.00\">samples = 1</text>\n",
       "<text text-anchor=\"middle\" x=\"3570\" y=\"-7.8\" font-family=\"helvetica\" font-size=\"14.00\">value = [0, 1, 0, 0, 0]</text>\n",
       "</g>\n",
       "<!-- 57&#45;&gt;58 -->\n",
       "<g id=\"edge58\" class=\"edge\">\n",
       "<title>57&#45;&gt;58</title>\n",
       "<path fill=\"none\" stroke=\"black\" d=\"M3622.02,-88.95C3614.35,-79.89 3606.04,-70.07 3598.35,-60.99\"/>\n",
       "<polygon fill=\"black\" stroke=\"black\" points=\"3600.92,-58.61 3591.79,-53.24 3595.58,-63.13 3600.92,-58.61\"/>\n",
       "</g>\n",
       "<!-- 59 -->\n",
       "<g id=\"node60\" class=\"node\">\n",
       "<title>59</title>\n",
       "<path fill=\"#3c39e5\" stroke=\"black\" d=\"M3786,-53C3786,-53 3670,-53 3670,-53 3664,-53 3658,-47 3658,-41 3658,-41 3658,-12 3658,-12 3658,-6 3664,0 3670,0 3670,0 3786,0 3786,0 3792,0 3798,-6 3798,-12 3798,-12 3798,-41 3798,-41 3798,-47 3792,-53 3786,-53\"/>\n",
       "<text text-anchor=\"middle\" x=\"3728\" y=\"-37.8\" font-family=\"helvetica\" font-size=\"14.00\">gini = 0.0</text>\n",
       "<text text-anchor=\"middle\" x=\"3728\" y=\"-22.8\" font-family=\"helvetica\" font-size=\"14.00\">samples = 1</text>\n",
       "<text text-anchor=\"middle\" x=\"3728\" y=\"-7.8\" font-family=\"helvetica\" font-size=\"14.00\">value = [0, 0, 0, 1, 0]</text>\n",
       "</g>\n",
       "<!-- 57&#45;&gt;59 -->\n",
       "<g id=\"edge59\" class=\"edge\">\n",
       "<title>57&#45;&gt;59</title>\n",
       "<path fill=\"none\" stroke=\"black\" d=\"M3677.28,-88.95C3684.76,-79.89 3692.86,-70.07 3700.36,-60.99\"/>\n",
       "<polygon fill=\"black\" stroke=\"black\" points=\"3703.09,-63.18 3706.76,-53.24 3697.69,-58.72 3703.09,-63.18\"/>\n",
       "</g>\n",
       "<!-- 61 -->\n",
       "<g id=\"node62\" class=\"node\">\n",
       "<title>61</title>\n",
       "<path fill=\"#9cf2e2\" stroke=\"black\" d=\"M4102.5,-157C4102.5,-157 3983.5,-157 3983.5,-157 3977.5,-157 3971.5,-151 3971.5,-145 3971.5,-145 3971.5,-101 3971.5,-101 3971.5,-95 3977.5,-89 3983.5,-89 3983.5,-89 4102.5,-89 4102.5,-89 4108.5,-89 4114.5,-95 4114.5,-101 4114.5,-101 4114.5,-145 4114.5,-145 4114.5,-151 4108.5,-157 4102.5,-157\"/>\n",
       "<text text-anchor=\"middle\" x=\"4043\" y=\"-141.8\" font-family=\"helvetica\" font-size=\"14.00\">atpressure &lt;= &#45;2.602</text>\n",
       "<text text-anchor=\"middle\" x=\"4043\" y=\"-126.8\" font-family=\"helvetica\" font-size=\"14.00\">gini = 0.56</text>\n",
       "<text text-anchor=\"middle\" x=\"4043\" y=\"-111.8\" font-family=\"helvetica\" font-size=\"14.00\">samples = 5</text>\n",
       "<text text-anchor=\"middle\" x=\"4043\" y=\"-96.8\" font-family=\"helvetica\" font-size=\"14.00\">value = [0, 1, 3, 1, 0]</text>\n",
       "</g>\n",
       "<!-- 60&#45;&gt;61 -->\n",
       "<g id=\"edge61\" class=\"edge\">\n",
       "<title>60&#45;&gt;61</title>\n",
       "<path fill=\"none\" stroke=\"black\" d=\"M4099.05,-192.88C4091.88,-184.07 4084.04,-174.43 4076.55,-165.24\"/>\n",
       "<polygon fill=\"black\" stroke=\"black\" points=\"4079.12,-162.85 4070.1,-157.3 4073.69,-167.26 4079.12,-162.85\"/>\n",
       "</g>\n",
       "<!-- 64 -->\n",
       "<g id=\"node65\" class=\"node\">\n",
       "<title>64</title>\n",
       "<path fill=\"#7a78ed\" stroke=\"black\" d=\"M4275.5,-157C4275.5,-157 4144.5,-157 4144.5,-157 4138.5,-157 4132.5,-151 4132.5,-145 4132.5,-145 4132.5,-101 4132.5,-101 4132.5,-95 4138.5,-89 4144.5,-89 4144.5,-89 4275.5,-89 4275.5,-89 4281.5,-89 4287.5,-95 4287.5,-101 4287.5,-101 4287.5,-145 4287.5,-145 4287.5,-151 4281.5,-157 4275.5,-157\"/>\n",
       "<text text-anchor=\"middle\" x=\"4210\" y=\"-141.8\" font-family=\"helvetica\" font-size=\"14.00\">social &lt;= 0.892</text>\n",
       "<text text-anchor=\"middle\" x=\"4210\" y=\"-126.8\" font-family=\"helvetica\" font-size=\"14.00\">gini = 0.375</text>\n",
       "<text text-anchor=\"middle\" x=\"4210\" y=\"-111.8\" font-family=\"helvetica\" font-size=\"14.00\">samples = 90</text>\n",
       "<text text-anchor=\"middle\" x=\"4210\" y=\"-96.8\" font-family=\"helvetica\" font-size=\"14.00\">value = [0, 0, 21, 68, 1]</text>\n",
       "</g>\n",
       "<!-- 60&#45;&gt;64 -->\n",
       "<g id=\"edge64\" class=\"edge\">\n",
       "<title>60&#45;&gt;64</title>\n",
       "<path fill=\"none\" stroke=\"black\" d=\"M4153.27,-192.88C4160.53,-184.07 4168.47,-174.43 4176.04,-165.24\"/>\n",
       "<polygon fill=\"black\" stroke=\"black\" points=\"4178.92,-167.24 4182.58,-157.3 4173.52,-162.79 4178.92,-167.24\"/>\n",
       "</g>\n",
       "<!-- 62 -->\n",
       "<g id=\"node63\" class=\"node\">\n",
       "<title>62</title>\n",
       "<path fill=\"#ffffff\" stroke=\"black\" d=\"M3944,-53C3944,-53 3828,-53 3828,-53 3822,-53 3816,-47 3816,-41 3816,-41 3816,-12 3816,-12 3816,-6 3822,0 3828,0 3828,0 3944,0 3944,0 3950,0 3956,-6 3956,-12 3956,-12 3956,-41 3956,-41 3956,-47 3950,-53 3944,-53\"/>\n",
       "<text text-anchor=\"middle\" x=\"3886\" y=\"-37.8\" font-family=\"helvetica\" font-size=\"14.00\">gini = 0.5</text>\n",
       "<text text-anchor=\"middle\" x=\"3886\" y=\"-22.8\" font-family=\"helvetica\" font-size=\"14.00\">samples = 2</text>\n",
       "<text text-anchor=\"middle\" x=\"3886\" y=\"-7.8\" font-family=\"helvetica\" font-size=\"14.00\">value = [0, 1, 0, 1, 0]</text>\n",
       "</g>\n",
       "<!-- 61&#45;&gt;62 -->\n",
       "<g id=\"edge62\" class=\"edge\">\n",
       "<title>61&#45;&gt;62</title>\n",
       "<path fill=\"none\" stroke=\"black\" d=\"M3988.09,-88.95C3971.67,-79.07 3953.74,-68.28 3937.55,-58.53\"/>\n",
       "<polygon fill=\"black\" stroke=\"black\" points=\"3939.13,-55.4 3928.76,-53.24 3935.52,-61.39 3939.13,-55.4\"/>\n",
       "</g>\n",
       "<!-- 63 -->\n",
       "<g id=\"node64\" class=\"node\">\n",
       "<title>63</title>\n",
       "<path fill=\"#39e5c5\" stroke=\"black\" d=\"M4102,-53C4102,-53 3986,-53 3986,-53 3980,-53 3974,-47 3974,-41 3974,-41 3974,-12 3974,-12 3974,-6 3980,0 3986,0 3986,0 4102,0 4102,0 4108,0 4114,-6 4114,-12 4114,-12 4114,-41 4114,-41 4114,-47 4108,-53 4102,-53\"/>\n",
       "<text text-anchor=\"middle\" x=\"4044\" y=\"-37.8\" font-family=\"helvetica\" font-size=\"14.00\">gini = 0.0</text>\n",
       "<text text-anchor=\"middle\" x=\"4044\" y=\"-22.8\" font-family=\"helvetica\" font-size=\"14.00\">samples = 3</text>\n",
       "<text text-anchor=\"middle\" x=\"4044\" y=\"-7.8\" font-family=\"helvetica\" font-size=\"14.00\">value = [0, 0, 3, 0, 0]</text>\n",
       "</g>\n",
       "<!-- 61&#45;&gt;63 -->\n",
       "<g id=\"edge63\" class=\"edge\">\n",
       "<title>61&#45;&gt;63</title>\n",
       "<path fill=\"none\" stroke=\"black\" d=\"M4043.35,-88.95C4043.44,-80.72 4043.53,-71.85 4043.62,-63.48\"/>\n",
       "<polygon fill=\"black\" stroke=\"black\" points=\"4047.12,-63.27 4043.73,-53.24 4040.12,-63.2 4047.12,-63.27\"/>\n",
       "</g>\n",
       "<!-- 65 -->\n",
       "<g id=\"node66\" class=\"node\">\n",
       "<title>65</title>\n",
       "<path fill=\"#8d8cf0\" stroke=\"black\" d=\"M4275.5,-53C4275.5,-53 4144.5,-53 4144.5,-53 4138.5,-53 4132.5,-47 4132.5,-41 4132.5,-41 4132.5,-12 4132.5,-12 4132.5,-6 4138.5,0 4144.5,0 4144.5,0 4275.5,0 4275.5,0 4281.5,0 4287.5,-6 4287.5,-12 4287.5,-12 4287.5,-41 4287.5,-41 4287.5,-47 4281.5,-53 4275.5,-53\"/>\n",
       "<text text-anchor=\"middle\" x=\"4210\" y=\"-37.8\" font-family=\"helvetica\" font-size=\"14.00\">gini = 0.427</text>\n",
       "<text text-anchor=\"middle\" x=\"4210\" y=\"-22.8\" font-family=\"helvetica\" font-size=\"14.00\">samples = 67</text>\n",
       "<text text-anchor=\"middle\" x=\"4210\" y=\"-7.8\" font-family=\"helvetica\" font-size=\"14.00\">value = [0, 0, 19, 47, 1]</text>\n",
       "</g>\n",
       "<!-- 64&#45;&gt;65 -->\n",
       "<g id=\"edge65\" class=\"edge\">\n",
       "<title>64&#45;&gt;65</title>\n",
       "<path fill=\"none\" stroke=\"black\" d=\"M4210,-88.95C4210,-80.72 4210,-71.85 4210,-63.48\"/>\n",
       "<polygon fill=\"black\" stroke=\"black\" points=\"4213.5,-63.24 4210,-53.24 4206.5,-63.24 4213.5,-63.24\"/>\n",
       "</g>\n",
       "<!-- 66 -->\n",
       "<g id=\"node67\" class=\"node\">\n",
       "<title>66</title>\n",
       "<path fill=\"#4f4ce7\" stroke=\"black\" d=\"M4440.5,-53C4440.5,-53 4317.5,-53 4317.5,-53 4311.5,-53 4305.5,-47 4305.5,-41 4305.5,-41 4305.5,-12 4305.5,-12 4305.5,-6 4311.5,0 4317.5,0 4317.5,0 4440.5,0 4440.5,0 4446.5,0 4452.5,-6 4452.5,-12 4452.5,-12 4452.5,-41 4452.5,-41 4452.5,-47 4446.5,-53 4440.5,-53\"/>\n",
       "<text text-anchor=\"middle\" x=\"4379\" y=\"-37.8\" font-family=\"helvetica\" font-size=\"14.00\">gini = 0.159</text>\n",
       "<text text-anchor=\"middle\" x=\"4379\" y=\"-22.8\" font-family=\"helvetica\" font-size=\"14.00\">samples = 23</text>\n",
       "<text text-anchor=\"middle\" x=\"4379\" y=\"-7.8\" font-family=\"helvetica\" font-size=\"14.00\">value = [0, 0, 2, 21, 0]</text>\n",
       "</g>\n",
       "<!-- 64&#45;&gt;66 -->\n",
       "<g id=\"edge66\" class=\"edge\">\n",
       "<title>64&#45;&gt;66</title>\n",
       "<path fill=\"none\" stroke=\"black\" d=\"M4269.11,-88.95C4287.02,-78.93 4306.61,-67.98 4324.23,-58.13\"/>\n",
       "<polygon fill=\"black\" stroke=\"black\" points=\"4326.22,-61.02 4333.24,-53.09 4322.81,-54.91 4326.22,-61.02\"/>\n",
       "</g>\n",
       "<!-- 68 -->\n",
       "<g id=\"node69\" class=\"node\">\n",
       "<title>68</title>\n",
       "<path fill=\"#6b69eb\" stroke=\"black\" d=\"M4523.5,-261C4523.5,-261 4400.5,-261 4400.5,-261 4394.5,-261 4388.5,-255 4388.5,-249 4388.5,-249 4388.5,-205 4388.5,-205 4388.5,-199 4394.5,-193 4400.5,-193 4400.5,-193 4523.5,-193 4523.5,-193 4529.5,-193 4535.5,-199 4535.5,-205 4535.5,-205 4535.5,-249 4535.5,-249 4535.5,-255 4529.5,-261 4523.5,-261\"/>\n",
       "<text text-anchor=\"middle\" x=\"4462\" y=\"-245.8\" font-family=\"helvetica\" font-size=\"14.00\">refresh &lt;= &#45;1.389</text>\n",
       "<text text-anchor=\"middle\" x=\"4462\" y=\"-230.8\" font-family=\"helvetica\" font-size=\"14.00\">gini = 0.344</text>\n",
       "<text text-anchor=\"middle\" x=\"4462\" y=\"-215.8\" font-family=\"helvetica\" font-size=\"14.00\">samples = 34</text>\n",
       "<text text-anchor=\"middle\" x=\"4462\" y=\"-200.8\" font-family=\"helvetica\" font-size=\"14.00\">value = [0, 0, 2, 27, 5]</text>\n",
       "</g>\n",
       "<!-- 67&#45;&gt;68 -->\n",
       "<g id=\"edge68\" class=\"edge\">\n",
       "<title>67&#45;&gt;68</title>\n",
       "<path fill=\"none\" stroke=\"black\" d=\"M4462,-296.88C4462,-288.78 4462,-279.98 4462,-271.47\"/>\n",
       "<polygon fill=\"black\" stroke=\"black\" points=\"4465.5,-271.3 4462,-261.3 4458.5,-271.3 4465.5,-271.3\"/>\n",
       "</g>\n",
       "<!-- 73 -->\n",
       "<g id=\"node74\" class=\"node\">\n",
       "<title>73</title>\n",
       "<path fill=\"#cecef8\" stroke=\"black\" d=\"M4767.5,-261C4767.5,-261 4644.5,-261 4644.5,-261 4638.5,-261 4632.5,-255 4632.5,-249 4632.5,-249 4632.5,-205 4632.5,-205 4632.5,-199 4638.5,-193 4644.5,-193 4644.5,-193 4767.5,-193 4767.5,-193 4773.5,-193 4779.5,-199 4779.5,-205 4779.5,-205 4779.5,-249 4779.5,-249 4779.5,-255 4773.5,-261 4767.5,-261\"/>\n",
       "<text text-anchor=\"middle\" x=\"4706\" y=\"-245.8\" font-family=\"helvetica\" font-size=\"14.00\">atpressure &lt;= &#45;0.683</text>\n",
       "<text text-anchor=\"middle\" x=\"4706\" y=\"-230.8\" font-family=\"helvetica\" font-size=\"14.00\">gini = 0.535</text>\n",
       "<text text-anchor=\"middle\" x=\"4706\" y=\"-215.8\" font-family=\"helvetica\" font-size=\"14.00\">samples = 20</text>\n",
       "<text text-anchor=\"middle\" x=\"4706\" y=\"-200.8\" font-family=\"helvetica\" font-size=\"14.00\">value = [0, 0, 1, 11, 8]</text>\n",
       "</g>\n",
       "<!-- 67&#45;&gt;73 -->\n",
       "<g id=\"edge73\" class=\"edge\">\n",
       "<title>67&#45;&gt;73</title>\n",
       "<path fill=\"none\" stroke=\"black\" d=\"M4539.54,-297.59C4566.13,-286.47 4595.98,-273.99 4622.98,-262.7\"/>\n",
       "<polygon fill=\"black\" stroke=\"black\" points=\"4624.53,-265.85 4632.41,-258.76 4621.83,-259.39 4624.53,-265.85\"/>\n",
       "</g>\n",
       "<!-- 69 -->\n",
       "<g id=\"node70\" class=\"node\">\n",
       "<title>69</title>\n",
       "<path fill=\"#3c39e5\" stroke=\"black\" d=\"M4440,-149.5C4440,-149.5 4324,-149.5 4324,-149.5 4318,-149.5 4312,-143.5 4312,-137.5 4312,-137.5 4312,-108.5 4312,-108.5 4312,-102.5 4318,-96.5 4324,-96.5 4324,-96.5 4440,-96.5 4440,-96.5 4446,-96.5 4452,-102.5 4452,-108.5 4452,-108.5 4452,-137.5 4452,-137.5 4452,-143.5 4446,-149.5 4440,-149.5\"/>\n",
       "<text text-anchor=\"middle\" x=\"4382\" y=\"-134.3\" font-family=\"helvetica\" font-size=\"14.00\">gini = 0.0</text>\n",
       "<text text-anchor=\"middle\" x=\"4382\" y=\"-119.3\" font-family=\"helvetica\" font-size=\"14.00\">samples = 4</text>\n",
       "<text text-anchor=\"middle\" x=\"4382\" y=\"-104.3\" font-family=\"helvetica\" font-size=\"14.00\">value = [0, 0, 0, 4, 0]</text>\n",
       "</g>\n",
       "<!-- 68&#45;&gt;69 -->\n",
       "<g id=\"edge69\" class=\"edge\">\n",
       "<title>68&#45;&gt;69</title>\n",
       "<path fill=\"none\" stroke=\"black\" d=\"M4436.03,-192.88C4427.14,-181.56 4417.2,-168.88 4408.29,-157.52\"/>\n",
       "<polygon fill=\"black\" stroke=\"black\" points=\"4410.94,-155.23 4402.02,-149.52 4405.43,-159.55 4410.94,-155.23\"/>\n",
       "</g>\n",
       "<!-- 70 -->\n",
       "<g id=\"node71\" class=\"node\">\n",
       "<title>70</title>\n",
       "<path fill=\"#7370ec\" stroke=\"black\" d=\"M4605.5,-157C4605.5,-157 4482.5,-157 4482.5,-157 4476.5,-157 4470.5,-151 4470.5,-145 4470.5,-145 4470.5,-101 4470.5,-101 4470.5,-95 4476.5,-89 4482.5,-89 4482.5,-89 4605.5,-89 4605.5,-89 4611.5,-89 4617.5,-95 4617.5,-101 4617.5,-101 4617.5,-145 4617.5,-145 4617.5,-151 4611.5,-157 4605.5,-157\"/>\n",
       "<text text-anchor=\"middle\" x=\"4544\" y=\"-141.8\" font-family=\"helvetica\" font-size=\"14.00\">atpressure &lt;= 0.672</text>\n",
       "<text text-anchor=\"middle\" x=\"4544\" y=\"-126.8\" font-family=\"helvetica\" font-size=\"14.00\">gini = 0.38</text>\n",
       "<text text-anchor=\"middle\" x=\"4544\" y=\"-111.8\" font-family=\"helvetica\" font-size=\"14.00\">samples = 30</text>\n",
       "<text text-anchor=\"middle\" x=\"4544\" y=\"-96.8\" font-family=\"helvetica\" font-size=\"14.00\">value = [0, 0, 2, 23, 5]</text>\n",
       "</g>\n",
       "<!-- 68&#45;&gt;70 -->\n",
       "<g id=\"edge70\" class=\"edge\">\n",
       "<title>68&#45;&gt;70</title>\n",
       "<path fill=\"none\" stroke=\"black\" d=\"M4488.62,-192.88C4495.71,-184.07 4503.46,-174.43 4510.85,-165.24\"/>\n",
       "<polygon fill=\"black\" stroke=\"black\" points=\"4513.69,-167.29 4517.23,-157.3 4508.24,-162.9 4513.69,-167.29\"/>\n",
       "</g>\n",
       "<!-- 71 -->\n",
       "<g id=\"node72\" class=\"node\">\n",
       "<title>71</title>\n",
       "<path fill=\"#5b58e9\" stroke=\"black\" d=\"M4605.5,-53C4605.5,-53 4482.5,-53 4482.5,-53 4476.5,-53 4470.5,-47 4470.5,-41 4470.5,-41 4470.5,-12 4470.5,-12 4470.5,-6 4476.5,0 4482.5,0 4482.5,0 4605.5,0 4605.5,0 4611.5,0 4617.5,-6 4617.5,-12 4617.5,-12 4617.5,-41 4617.5,-41 4617.5,-47 4611.5,-53 4605.5,-53\"/>\n",
       "<text text-anchor=\"middle\" x=\"4544\" y=\"-37.8\" font-family=\"helvetica\" font-size=\"14.00\">gini = 0.254</text>\n",
       "<text text-anchor=\"middle\" x=\"4544\" y=\"-22.8\" font-family=\"helvetica\" font-size=\"14.00\">samples = 21</text>\n",
       "<text text-anchor=\"middle\" x=\"4544\" y=\"-7.8\" font-family=\"helvetica\" font-size=\"14.00\">value = [0, 0, 1, 18, 2]</text>\n",
       "</g>\n",
       "<!-- 70&#45;&gt;71 -->\n",
       "<g id=\"edge71\" class=\"edge\">\n",
       "<title>70&#45;&gt;71</title>\n",
       "<path fill=\"none\" stroke=\"black\" d=\"M4544,-88.95C4544,-80.72 4544,-71.85 4544,-63.48\"/>\n",
       "<polygon fill=\"black\" stroke=\"black\" points=\"4547.5,-63.24 4544,-53.24 4540.5,-63.24 4547.5,-63.24\"/>\n",
       "</g>\n",
       "<!-- 72 -->\n",
       "<g id=\"node73\" class=\"node\">\n",
       "<title>72</title>\n",
       "<path fill=\"#bebdf6\" stroke=\"black\" d=\"M4764,-53C4764,-53 4648,-53 4648,-53 4642,-53 4636,-47 4636,-41 4636,-41 4636,-12 4636,-12 4636,-6 4642,0 4648,0 4648,0 4764,0 4764,0 4770,0 4776,-6 4776,-12 4776,-12 4776,-41 4776,-41 4776,-47 4770,-53 4764,-53\"/>\n",
       "<text text-anchor=\"middle\" x=\"4706\" y=\"-37.8\" font-family=\"helvetica\" font-size=\"14.00\">gini = 0.568</text>\n",
       "<text text-anchor=\"middle\" x=\"4706\" y=\"-22.8\" font-family=\"helvetica\" font-size=\"14.00\">samples = 9</text>\n",
       "<text text-anchor=\"middle\" x=\"4706\" y=\"-7.8\" font-family=\"helvetica\" font-size=\"14.00\">value = [0, 0, 1, 5, 3]</text>\n",
       "</g>\n",
       "<!-- 70&#45;&gt;72 -->\n",
       "<g id=\"edge72\" class=\"edge\">\n",
       "<title>70&#45;&gt;72</title>\n",
       "<path fill=\"none\" stroke=\"black\" d=\"M4600.66,-88.95C4617.83,-78.93 4636.61,-67.98 4653.5,-58.13\"/>\n",
       "<polygon fill=\"black\" stroke=\"black\" points=\"4655.26,-61.15 4662.14,-53.09 4651.74,-55.1 4655.26,-61.15\"/>\n",
       "</g>\n",
       "<!-- 74 -->\n",
       "<g id=\"node75\" class=\"node\">\n",
       "<title>74</title>\n",
       "<path fill=\"#3c39e5\" stroke=\"black\" d=\"M4764,-149.5C4764,-149.5 4648,-149.5 4648,-149.5 4642,-149.5 4636,-143.5 4636,-137.5 4636,-137.5 4636,-108.5 4636,-108.5 4636,-102.5 4642,-96.5 4648,-96.5 4648,-96.5 4764,-96.5 4764,-96.5 4770,-96.5 4776,-102.5 4776,-108.5 4776,-108.5 4776,-137.5 4776,-137.5 4776,-143.5 4770,-149.5 4764,-149.5\"/>\n",
       "<text text-anchor=\"middle\" x=\"4706\" y=\"-134.3\" font-family=\"helvetica\" font-size=\"14.00\">gini = 0.0</text>\n",
       "<text text-anchor=\"middle\" x=\"4706\" y=\"-119.3\" font-family=\"helvetica\" font-size=\"14.00\">samples = 2</text>\n",
       "<text text-anchor=\"middle\" x=\"4706\" y=\"-104.3\" font-family=\"helvetica\" font-size=\"14.00\">value = [0, 0, 0, 2, 0]</text>\n",
       "</g>\n",
       "<!-- 73&#45;&gt;74 -->\n",
       "<g id=\"edge74\" class=\"edge\">\n",
       "<title>73&#45;&gt;74</title>\n",
       "<path fill=\"none\" stroke=\"black\" d=\"M4706,-192.88C4706,-182.33 4706,-170.6 4706,-159.85\"/>\n",
       "<polygon fill=\"black\" stroke=\"black\" points=\"4709.5,-159.52 4706,-149.52 4702.5,-159.52 4709.5,-159.52\"/>\n",
       "</g>\n",
       "<!-- 75 -->\n",
       "<g id=\"node76\" class=\"node\">\n",
       "<title>75</title>\n",
       "<path fill=\"#ebebfc\" stroke=\"black\" d=\"M4922,-157C4922,-157 4806,-157 4806,-157 4800,-157 4794,-151 4794,-145 4794,-145 4794,-101 4794,-101 4794,-95 4800,-89 4806,-89 4806,-89 4922,-89 4922,-89 4928,-89 4934,-95 4934,-101 4934,-101 4934,-145 4934,-145 4934,-151 4928,-157 4922,-157\"/>\n",
       "<text text-anchor=\"middle\" x=\"4864\" y=\"-141.8\" font-family=\"helvetica\" font-size=\"14.00\">atpressure &lt;= 1.123</text>\n",
       "<text text-anchor=\"middle\" x=\"4864\" y=\"-126.8\" font-family=\"helvetica\" font-size=\"14.00\">gini = 0.549</text>\n",
       "<text text-anchor=\"middle\" x=\"4864\" y=\"-111.8\" font-family=\"helvetica\" font-size=\"14.00\">samples = 18</text>\n",
       "<text text-anchor=\"middle\" x=\"4864\" y=\"-96.8\" font-family=\"helvetica\" font-size=\"14.00\">value = [0, 0, 1, 9, 8]</text>\n",
       "</g>\n",
       "<!-- 73&#45;&gt;75 -->\n",
       "<g id=\"edge75\" class=\"edge\">\n",
       "<title>73&#45;&gt;75</title>\n",
       "<path fill=\"none\" stroke=\"black\" d=\"M4757.3,-192.88C4772.28,-183.21 4788.77,-172.56 4804.23,-162.59\"/>\n",
       "<polygon fill=\"black\" stroke=\"black\" points=\"4806.19,-165.49 4812.69,-157.12 4802.39,-159.61 4806.19,-165.49\"/>\n",
       "</g>\n",
       "<!-- 76 -->\n",
       "<g id=\"node77\" class=\"node\">\n",
       "<title>76</title>\n",
       "<path fill=\"#ffffff\" stroke=\"black\" d=\"M4922,-53C4922,-53 4806,-53 4806,-53 4800,-53 4794,-47 4794,-41 4794,-41 4794,-12 4794,-12 4794,-6 4800,0 4806,0 4806,0 4922,0 4922,0 4928,0 4934,-6 4934,-12 4934,-12 4934,-41 4934,-41 4934,-47 4928,-53 4922,-53\"/>\n",
       "<text text-anchor=\"middle\" x=\"4864\" y=\"-37.8\" font-family=\"helvetica\" font-size=\"14.00\">gini = 0.554</text>\n",
       "<text text-anchor=\"middle\" x=\"4864\" y=\"-22.8\" font-family=\"helvetica\" font-size=\"14.00\">samples = 17</text>\n",
       "<text text-anchor=\"middle\" x=\"4864\" y=\"-7.8\" font-family=\"helvetica\" font-size=\"14.00\">value = [0, 0, 1, 8, 8]</text>\n",
       "</g>\n",
       "<!-- 75&#45;&gt;76 -->\n",
       "<g id=\"edge76\" class=\"edge\">\n",
       "<title>75&#45;&gt;76</title>\n",
       "<path fill=\"none\" stroke=\"black\" d=\"M4864,-88.95C4864,-80.72 4864,-71.85 4864,-63.48\"/>\n",
       "<polygon fill=\"black\" stroke=\"black\" points=\"4867.5,-63.24 4864,-53.24 4860.5,-63.24 4867.5,-63.24\"/>\n",
       "</g>\n",
       "<!-- 77 -->\n",
       "<g id=\"node78\" class=\"node\">\n",
       "<title>77</title>\n",
       "<path fill=\"#3c39e5\" stroke=\"black\" d=\"M5080,-53C5080,-53 4964,-53 4964,-53 4958,-53 4952,-47 4952,-41 4952,-41 4952,-12 4952,-12 4952,-6 4958,0 4964,0 4964,0 5080,0 5080,0 5086,0 5092,-6 5092,-12 5092,-12 5092,-41 5092,-41 5092,-47 5086,-53 5080,-53\"/>\n",
       "<text text-anchor=\"middle\" x=\"5022\" y=\"-37.8\" font-family=\"helvetica\" font-size=\"14.00\">gini = 0.0</text>\n",
       "<text text-anchor=\"middle\" x=\"5022\" y=\"-22.8\" font-family=\"helvetica\" font-size=\"14.00\">samples = 1</text>\n",
       "<text text-anchor=\"middle\" x=\"5022\" y=\"-7.8\" font-family=\"helvetica\" font-size=\"14.00\">value = [0, 0, 0, 1, 0]</text>\n",
       "</g>\n",
       "<!-- 75&#45;&gt;77 -->\n",
       "<g id=\"edge77\" class=\"edge\">\n",
       "<title>75&#45;&gt;77</title>\n",
       "<path fill=\"none\" stroke=\"black\" d=\"M4919.26,-88.95C4935.85,-79.02 4953.99,-68.18 4970.34,-58.4\"/>\n",
       "<polygon fill=\"black\" stroke=\"black\" points=\"4972.43,-61.22 4979.22,-53.09 4968.84,-55.22 4972.43,-61.22\"/>\n",
       "</g>\n",
       "<!-- 79 -->\n",
       "<g id=\"node80\" class=\"node\">\n",
       "<title>79</title>\n",
       "<path fill=\"#615eea\" stroke=\"black\" d=\"M5753.5,-365C5753.5,-365 5630.5,-365 5630.5,-365 5624.5,-365 5618.5,-359 5618.5,-353 5618.5,-353 5618.5,-309 5618.5,-309 5618.5,-303 5624.5,-297 5630.5,-297 5630.5,-297 5753.5,-297 5753.5,-297 5759.5,-297 5765.5,-303 5765.5,-309 5765.5,-309 5765.5,-353 5765.5,-353 5765.5,-359 5759.5,-365 5753.5,-365\"/>\n",
       "<text text-anchor=\"middle\" x=\"5692\" y=\"-349.8\" font-family=\"helvetica\" font-size=\"14.00\">atpressure &lt;= 0.22</text>\n",
       "<text text-anchor=\"middle\" x=\"5692\" y=\"-334.8\" font-family=\"helvetica\" font-size=\"14.00\">gini = 0.29</text>\n",
       "<text text-anchor=\"middle\" x=\"5692\" y=\"-319.8\" font-family=\"helvetica\" font-size=\"14.00\">samples = 36</text>\n",
       "<text text-anchor=\"middle\" x=\"5692\" y=\"-304.8\" font-family=\"helvetica\" font-size=\"14.00\">value = [0, 0, 4, 30, 2]</text>\n",
       "</g>\n",
       "<!-- 78&#45;&gt;79 -->\n",
       "<g id=\"edge79\" class=\"edge\">\n",
       "<title>78&#45;&gt;79</title>\n",
       "<path fill=\"none\" stroke=\"black\" d=\"M5692,-400.88C5692,-392.78 5692,-383.98 5692,-375.47\"/>\n",
       "<polygon fill=\"black\" stroke=\"black\" points=\"5695.5,-375.3 5692,-365.3 5688.5,-375.3 5695.5,-375.3\"/>\n",
       "</g>\n",
       "<!-- 92 -->\n",
       "<g id=\"node93\" class=\"node\">\n",
       "<title>92</title>\n",
       "<path fill=\"#f3a3e2\" stroke=\"black\" d=\"M6422.5,-365C6422.5,-365 6299.5,-365 6299.5,-365 6293.5,-365 6287.5,-359 6287.5,-353 6287.5,-353 6287.5,-309 6287.5,-309 6287.5,-303 6293.5,-297 6299.5,-297 6299.5,-297 6422.5,-297 6422.5,-297 6428.5,-297 6434.5,-303 6434.5,-309 6434.5,-309 6434.5,-353 6434.5,-353 6434.5,-359 6428.5,-365 6422.5,-365\"/>\n",
       "<text text-anchor=\"middle\" x=\"6361\" y=\"-349.8\" font-family=\"helvetica\" font-size=\"14.00\">atpressure &lt;= 1.123</text>\n",
       "<text text-anchor=\"middle\" x=\"6361\" y=\"-334.8\" font-family=\"helvetica\" font-size=\"14.00\">gini = 0.454</text>\n",
       "<text text-anchor=\"middle\" x=\"6361\" y=\"-319.8\" font-family=\"helvetica\" font-size=\"14.00\">samples = 23</text>\n",
       "<text text-anchor=\"middle\" x=\"6361\" y=\"-304.8\" font-family=\"helvetica\" font-size=\"14.00\">value = [0, 0, 0, 8, 15]</text>\n",
       "</g>\n",
       "<!-- 78&#45;&gt;92 -->\n",
       "<g id=\"edge92\" class=\"edge\">\n",
       "<title>78&#45;&gt;92</title>\n",
       "<path fill=\"none\" stroke=\"black\" d=\"M5769.72,-422.15C5896.57,-402.81 6147,-364.63 6277.49,-344.73\"/>\n",
       "<polygon fill=\"black\" stroke=\"black\" points=\"6278.08,-348.18 6287.44,-343.22 6277.03,-341.26 6278.08,-348.18\"/>\n",
       "</g>\n",
       "<!-- 80 -->\n",
       "<g id=\"node81\" class=\"node\">\n",
       "<title>80</title>\n",
       "<path fill=\"#8280ee\" stroke=\"black\" d=\"M5634.5,-261C5634.5,-261 5511.5,-261 5511.5,-261 5505.5,-261 5499.5,-255 5499.5,-249 5499.5,-249 5499.5,-205 5499.5,-205 5499.5,-199 5505.5,-193 5511.5,-193 5511.5,-193 5634.5,-193 5634.5,-193 5640.5,-193 5646.5,-199 5646.5,-205 5646.5,-205 5646.5,-249 5646.5,-249 5646.5,-255 5640.5,-261 5634.5,-261\"/>\n",
       "<text text-anchor=\"middle\" x=\"5573\" y=\"-245.8\" font-family=\"helvetica\" font-size=\"14.00\">social &lt;= &#45;0.739</text>\n",
       "<text text-anchor=\"middle\" x=\"5573\" y=\"-230.8\" font-family=\"helvetica\" font-size=\"14.00\">gini = 0.426</text>\n",
       "<text text-anchor=\"middle\" x=\"5573\" y=\"-215.8\" font-family=\"helvetica\" font-size=\"14.00\">samples = 18</text>\n",
       "<text text-anchor=\"middle\" x=\"5573\" y=\"-200.8\" font-family=\"helvetica\" font-size=\"14.00\">value = [0, 0, 4, 13, 1]</text>\n",
       "</g>\n",
       "<!-- 79&#45;&gt;80 -->\n",
       "<g id=\"edge80\" class=\"edge\">\n",
       "<title>79&#45;&gt;80</title>\n",
       "<path fill=\"none\" stroke=\"black\" d=\"M5653.36,-296.88C5642.56,-287.62 5630.7,-277.45 5619.49,-267.85\"/>\n",
       "<polygon fill=\"black\" stroke=\"black\" points=\"5621.72,-265.15 5611.85,-261.3 5617.16,-270.46 5621.72,-265.15\"/>\n",
       "</g>\n",
       "<!-- 87 -->\n",
       "<g id=\"node88\" class=\"node\">\n",
       "<title>87</title>\n",
       "<path fill=\"#4745e7\" stroke=\"black\" d=\"M5873.5,-261C5873.5,-261 5750.5,-261 5750.5,-261 5744.5,-261 5738.5,-255 5738.5,-249 5738.5,-249 5738.5,-205 5738.5,-205 5738.5,-199 5744.5,-193 5750.5,-193 5750.5,-193 5873.5,-193 5873.5,-193 5879.5,-193 5885.5,-199 5885.5,-205 5885.5,-205 5885.5,-249 5885.5,-249 5885.5,-255 5879.5,-261 5873.5,-261\"/>\n",
       "<text text-anchor=\"middle\" x=\"5812\" y=\"-245.8\" font-family=\"helvetica\" font-size=\"14.00\">social &lt;= 0.892</text>\n",
       "<text text-anchor=\"middle\" x=\"5812\" y=\"-230.8\" font-family=\"helvetica\" font-size=\"14.00\">gini = 0.105</text>\n",
       "<text text-anchor=\"middle\" x=\"5812\" y=\"-215.8\" font-family=\"helvetica\" font-size=\"14.00\">samples = 18</text>\n",
       "<text text-anchor=\"middle\" x=\"5812\" y=\"-200.8\" font-family=\"helvetica\" font-size=\"14.00\">value = [0, 0, 0, 17, 1]</text>\n",
       "</g>\n",
       "<!-- 79&#45;&gt;87 -->\n",
       "<g id=\"edge87\" class=\"edge\">\n",
       "<title>79&#45;&gt;87</title>\n",
       "<path fill=\"none\" stroke=\"black\" d=\"M5730.96,-296.88C5741.86,-287.62 5753.82,-277.45 5765.12,-267.85\"/>\n",
       "<polygon fill=\"black\" stroke=\"black\" points=\"5767.47,-270.44 5772.82,-261.3 5762.94,-265.11 5767.47,-270.44\"/>\n",
       "</g>\n",
       "<!-- 81 -->\n",
       "<g id=\"node82\" class=\"node\">\n",
       "<title>81</title>\n",
       "<path fill=\"#ffffff\" stroke=\"black\" d=\"M5396,-157C5396,-157 5280,-157 5280,-157 5274,-157 5268,-151 5268,-145 5268,-145 5268,-101 5268,-101 5268,-95 5274,-89 5280,-89 5280,-89 5396,-89 5396,-89 5402,-89 5408,-95 5408,-101 5408,-101 5408,-145 5408,-145 5408,-151 5402,-157 5396,-157\"/>\n",
       "<text text-anchor=\"middle\" x=\"5338\" y=\"-141.8\" font-family=\"helvetica\" font-size=\"14.00\">atpressure &lt;= &#45;0.57</text>\n",
       "<text text-anchor=\"middle\" x=\"5338\" y=\"-126.8\" font-family=\"helvetica\" font-size=\"14.00\">gini = 0.612</text>\n",
       "<text text-anchor=\"middle\" x=\"5338\" y=\"-111.8\" font-family=\"helvetica\" font-size=\"14.00\">samples = 7</text>\n",
       "<text text-anchor=\"middle\" x=\"5338\" y=\"-96.8\" font-family=\"helvetica\" font-size=\"14.00\">value = [0, 0, 3, 3, 1]</text>\n",
       "</g>\n",
       "<!-- 80&#45;&gt;81 -->\n",
       "<g id=\"edge81\" class=\"edge\">\n",
       "<title>80&#45;&gt;81</title>\n",
       "<path fill=\"none\" stroke=\"black\" d=\"M5499.29,-194.01C5473.28,-182.72 5443.93,-169.98 5417.47,-158.49\"/>\n",
       "<polygon fill=\"black\" stroke=\"black\" points=\"5418.81,-155.26 5408.24,-154.49 5416.02,-161.68 5418.81,-155.26\"/>\n",
       "</g>\n",
       "<!-- 84 -->\n",
       "<g id=\"node85\" class=\"node\">\n",
       "<title>84</title>\n",
       "<path fill=\"#504de8\" stroke=\"black\" d=\"M5634.5,-157C5634.5,-157 5511.5,-157 5511.5,-157 5505.5,-157 5499.5,-151 5499.5,-145 5499.5,-145 5499.5,-101 5499.5,-101 5499.5,-95 5505.5,-89 5511.5,-89 5511.5,-89 5634.5,-89 5634.5,-89 5640.5,-89 5646.5,-95 5646.5,-101 5646.5,-101 5646.5,-145 5646.5,-145 5646.5,-151 5640.5,-157 5634.5,-157\"/>\n",
       "<text text-anchor=\"middle\" x=\"5573\" y=\"-141.8\" font-family=\"helvetica\" font-size=\"14.00\">atpressure &lt;= &#45;0.006</text>\n",
       "<text text-anchor=\"middle\" x=\"5573\" y=\"-126.8\" font-family=\"helvetica\" font-size=\"14.00\">gini = 0.165</text>\n",
       "<text text-anchor=\"middle\" x=\"5573\" y=\"-111.8\" font-family=\"helvetica\" font-size=\"14.00\">samples = 11</text>\n",
       "<text text-anchor=\"middle\" x=\"5573\" y=\"-96.8\" font-family=\"helvetica\" font-size=\"14.00\">value = [0, 0, 1, 10, 0]</text>\n",
       "</g>\n",
       "<!-- 80&#45;&gt;84 -->\n",
       "<g id=\"edge84\" class=\"edge\">\n",
       "<title>80&#45;&gt;84</title>\n",
       "<path fill=\"none\" stroke=\"black\" d=\"M5573,-192.88C5573,-184.78 5573,-175.98 5573,-167.47\"/>\n",
       "<polygon fill=\"black\" stroke=\"black\" points=\"5576.5,-167.3 5573,-157.3 5569.5,-167.3 5576.5,-167.3\"/>\n",
       "</g>\n",
       "<!-- 82 -->\n",
       "<g id=\"node83\" class=\"node\">\n",
       "<title>82</title>\n",
       "<path fill=\"#3c39e5\" stroke=\"black\" d=\"M5238,-53C5238,-53 5122,-53 5122,-53 5116,-53 5110,-47 5110,-41 5110,-41 5110,-12 5110,-12 5110,-6 5116,0 5122,0 5122,0 5238,0 5238,0 5244,0 5250,-6 5250,-12 5250,-12 5250,-41 5250,-41 5250,-47 5244,-53 5238,-53\"/>\n",
       "<text text-anchor=\"middle\" x=\"5180\" y=\"-37.8\" font-family=\"helvetica\" font-size=\"14.00\">gini = 0.0</text>\n",
       "<text text-anchor=\"middle\" x=\"5180\" y=\"-22.8\" font-family=\"helvetica\" font-size=\"14.00\">samples = 2</text>\n",
       "<text text-anchor=\"middle\" x=\"5180\" y=\"-7.8\" font-family=\"helvetica\" font-size=\"14.00\">value = [0, 0, 0, 2, 0]</text>\n",
       "</g>\n",
       "<!-- 81&#45;&gt;82 -->\n",
       "<g id=\"edge82\" class=\"edge\">\n",
       "<title>81&#45;&gt;82</title>\n",
       "<path fill=\"none\" stroke=\"black\" d=\"M5282.74,-88.95C5266.15,-79.02 5248.01,-68.18 5231.66,-58.4\"/>\n",
       "<polygon fill=\"black\" stroke=\"black\" points=\"5233.16,-55.22 5222.78,-53.09 5229.57,-61.22 5233.16,-55.22\"/>\n",
       "</g>\n",
       "<!-- 83 -->\n",
       "<g id=\"node84\" class=\"node\">\n",
       "<title>83</title>\n",
       "<path fill=\"#9cf2e2\" stroke=\"black\" d=\"M5396,-53C5396,-53 5280,-53 5280,-53 5274,-53 5268,-47 5268,-41 5268,-41 5268,-12 5268,-12 5268,-6 5274,0 5280,0 5280,0 5396,0 5396,0 5402,0 5408,-6 5408,-12 5408,-12 5408,-41 5408,-41 5408,-47 5402,-53 5396,-53\"/>\n",
       "<text text-anchor=\"middle\" x=\"5338\" y=\"-37.8\" font-family=\"helvetica\" font-size=\"14.00\">gini = 0.56</text>\n",
       "<text text-anchor=\"middle\" x=\"5338\" y=\"-22.8\" font-family=\"helvetica\" font-size=\"14.00\">samples = 5</text>\n",
       "<text text-anchor=\"middle\" x=\"5338\" y=\"-7.8\" font-family=\"helvetica\" font-size=\"14.00\">value = [0, 0, 3, 1, 1]</text>\n",
       "</g>\n",
       "<!-- 81&#45;&gt;83 -->\n",
       "<g id=\"edge83\" class=\"edge\">\n",
       "<title>81&#45;&gt;83</title>\n",
       "<path fill=\"none\" stroke=\"black\" d=\"M5338,-88.95C5338,-80.72 5338,-71.85 5338,-63.48\"/>\n",
       "<polygon fill=\"black\" stroke=\"black\" points=\"5341.5,-63.24 5338,-53.24 5334.5,-63.24 5341.5,-63.24\"/>\n",
       "</g>\n",
       "<!-- 85 -->\n",
       "<g id=\"node86\" class=\"node\">\n",
       "<title>85</title>\n",
       "<path fill=\"#6361ea\" stroke=\"black\" d=\"M5554,-53C5554,-53 5438,-53 5438,-53 5432,-53 5426,-47 5426,-41 5426,-41 5426,-12 5426,-12 5426,-6 5432,0 5438,0 5438,0 5554,0 5554,0 5560,0 5566,-6 5566,-12 5566,-12 5566,-41 5566,-41 5566,-47 5560,-53 5554,-53\"/>\n",
       "<text text-anchor=\"middle\" x=\"5496\" y=\"-37.8\" font-family=\"helvetica\" font-size=\"14.00\">gini = 0.278</text>\n",
       "<text text-anchor=\"middle\" x=\"5496\" y=\"-22.8\" font-family=\"helvetica\" font-size=\"14.00\">samples = 6</text>\n",
       "<text text-anchor=\"middle\" x=\"5496\" y=\"-7.8\" font-family=\"helvetica\" font-size=\"14.00\">value = [0, 0, 1, 5, 0]</text>\n",
       "</g>\n",
       "<!-- 84&#45;&gt;85 -->\n",
       "<g id=\"edge85\" class=\"edge\">\n",
       "<title>84&#45;&gt;85</title>\n",
       "<path fill=\"none\" stroke=\"black\" d=\"M5546.07,-88.95C5538.76,-79.98 5530.85,-70.27 5523.51,-61.26\"/>\n",
       "<polygon fill=\"black\" stroke=\"black\" points=\"5526,-58.78 5516.97,-53.24 5520.57,-63.2 5526,-58.78\"/>\n",
       "</g>\n",
       "<!-- 86 -->\n",
       "<g id=\"node87\" class=\"node\">\n",
       "<title>86</title>\n",
       "<path fill=\"#3c39e5\" stroke=\"black\" d=\"M5712,-53C5712,-53 5596,-53 5596,-53 5590,-53 5584,-47 5584,-41 5584,-41 5584,-12 5584,-12 5584,-6 5590,0 5596,0 5596,0 5712,0 5712,0 5718,0 5724,-6 5724,-12 5724,-12 5724,-41 5724,-41 5724,-47 5718,-53 5712,-53\"/>\n",
       "<text text-anchor=\"middle\" x=\"5654\" y=\"-37.8\" font-family=\"helvetica\" font-size=\"14.00\">gini = 0.0</text>\n",
       "<text text-anchor=\"middle\" x=\"5654\" y=\"-22.8\" font-family=\"helvetica\" font-size=\"14.00\">samples = 5</text>\n",
       "<text text-anchor=\"middle\" x=\"5654\" y=\"-7.8\" font-family=\"helvetica\" font-size=\"14.00\">value = [0, 0, 0, 5, 0]</text>\n",
       "</g>\n",
       "<!-- 84&#45;&gt;86 -->\n",
       "<g id=\"edge86\" class=\"edge\">\n",
       "<title>84&#45;&gt;86</title>\n",
       "<path fill=\"none\" stroke=\"black\" d=\"M5601.33,-88.95C5609.09,-79.89 5617.51,-70.07 5625.3,-60.99\"/>\n",
       "<polygon fill=\"black\" stroke=\"black\" points=\"5628.09,-63.11 5631.94,-53.24 5622.77,-58.55 5628.09,-63.11\"/>\n",
       "</g>\n",
       "<!-- 88 -->\n",
       "<g id=\"node89\" class=\"node\">\n",
       "<title>88</title>\n",
       "<path fill=\"#4a47e7\" stroke=\"black\" d=\"M5873.5,-157C5873.5,-157 5750.5,-157 5750.5,-157 5744.5,-157 5738.5,-151 5738.5,-145 5738.5,-145 5738.5,-101 5738.5,-101 5738.5,-95 5744.5,-89 5750.5,-89 5750.5,-89 5873.5,-89 5873.5,-89 5879.5,-89 5885.5,-95 5885.5,-101 5885.5,-101 5885.5,-145 5885.5,-145 5885.5,-151 5879.5,-157 5873.5,-157\"/>\n",
       "<text text-anchor=\"middle\" x=\"5812\" y=\"-141.8\" font-family=\"helvetica\" font-size=\"14.00\">atpressure &lt;= 0.898</text>\n",
       "<text text-anchor=\"middle\" x=\"5812\" y=\"-126.8\" font-family=\"helvetica\" font-size=\"14.00\">gini = 0.124</text>\n",
       "<text text-anchor=\"middle\" x=\"5812\" y=\"-111.8\" font-family=\"helvetica\" font-size=\"14.00\">samples = 15</text>\n",
       "<text text-anchor=\"middle\" x=\"5812\" y=\"-96.8\" font-family=\"helvetica\" font-size=\"14.00\">value = [0, 0, 0, 14, 1]</text>\n",
       "</g>\n",
       "<!-- 87&#45;&gt;88 -->\n",
       "<g id=\"edge88\" class=\"edge\">\n",
       "<title>87&#45;&gt;88</title>\n",
       "<path fill=\"none\" stroke=\"black\" d=\"M5812,-192.88C5812,-184.78 5812,-175.98 5812,-167.47\"/>\n",
       "<polygon fill=\"black\" stroke=\"black\" points=\"5815.5,-167.3 5812,-157.3 5808.5,-167.3 5815.5,-167.3\"/>\n",
       "</g>\n",
       "<!-- 91 -->\n",
       "<g id=\"node92\" class=\"node\">\n",
       "<title>91</title>\n",
       "<path fill=\"#3c39e5\" stroke=\"black\" d=\"M6032,-149.5C6032,-149.5 5916,-149.5 5916,-149.5 5910,-149.5 5904,-143.5 5904,-137.5 5904,-137.5 5904,-108.5 5904,-108.5 5904,-102.5 5910,-96.5 5916,-96.5 5916,-96.5 6032,-96.5 6032,-96.5 6038,-96.5 6044,-102.5 6044,-108.5 6044,-108.5 6044,-137.5 6044,-137.5 6044,-143.5 6038,-149.5 6032,-149.5\"/>\n",
       "<text text-anchor=\"middle\" x=\"5974\" y=\"-134.3\" font-family=\"helvetica\" font-size=\"14.00\">gini = 0.0</text>\n",
       "<text text-anchor=\"middle\" x=\"5974\" y=\"-119.3\" font-family=\"helvetica\" font-size=\"14.00\">samples = 3</text>\n",
       "<text text-anchor=\"middle\" x=\"5974\" y=\"-104.3\" font-family=\"helvetica\" font-size=\"14.00\">value = [0, 0, 0, 3, 0]</text>\n",
       "</g>\n",
       "<!-- 87&#45;&gt;91 -->\n",
       "<g id=\"edge91\" class=\"edge\">\n",
       "<title>87&#45;&gt;91</title>\n",
       "<path fill=\"none\" stroke=\"black\" d=\"M5864.6,-192.88C5883.99,-180.68 5905.86,-166.9 5924.93,-154.9\"/>\n",
       "<polygon fill=\"black\" stroke=\"black\" points=\"5926.87,-157.81 5933.47,-149.52 5923.14,-151.89 5926.87,-157.81\"/>\n",
       "</g>\n",
       "<!-- 89 -->\n",
       "<g id=\"node90\" class=\"node\">\n",
       "<title>89</title>\n",
       "<path fill=\"#3c39e5\" stroke=\"black\" d=\"M5870,-53C5870,-53 5754,-53 5754,-53 5748,-53 5742,-47 5742,-41 5742,-41 5742,-12 5742,-12 5742,-6 5748,0 5754,0 5754,0 5870,0 5870,0 5876,0 5882,-6 5882,-12 5882,-12 5882,-41 5882,-41 5882,-47 5876,-53 5870,-53\"/>\n",
       "<text text-anchor=\"middle\" x=\"5812\" y=\"-37.8\" font-family=\"helvetica\" font-size=\"14.00\">gini = 0.0</text>\n",
       "<text text-anchor=\"middle\" x=\"5812\" y=\"-22.8\" font-family=\"helvetica\" font-size=\"14.00\">samples = 9</text>\n",
       "<text text-anchor=\"middle\" x=\"5812\" y=\"-7.8\" font-family=\"helvetica\" font-size=\"14.00\">value = [0, 0, 0, 9, 0]</text>\n",
       "</g>\n",
       "<!-- 88&#45;&gt;89 -->\n",
       "<g id=\"edge89\" class=\"edge\">\n",
       "<title>88&#45;&gt;89</title>\n",
       "<path fill=\"none\" stroke=\"black\" d=\"M5812,-88.95C5812,-80.72 5812,-71.85 5812,-63.48\"/>\n",
       "<polygon fill=\"black\" stroke=\"black\" points=\"5815.5,-63.24 5812,-53.24 5808.5,-63.24 5815.5,-63.24\"/>\n",
       "</g>\n",
       "<!-- 90 -->\n",
       "<g id=\"node91\" class=\"node\">\n",
       "<title>90</title>\n",
       "<path fill=\"#6361ea\" stroke=\"black\" d=\"M6028,-53C6028,-53 5912,-53 5912,-53 5906,-53 5900,-47 5900,-41 5900,-41 5900,-12 5900,-12 5900,-6 5906,0 5912,0 5912,0 6028,0 6028,0 6034,0 6040,-6 6040,-12 6040,-12 6040,-41 6040,-41 6040,-47 6034,-53 6028,-53\"/>\n",
       "<text text-anchor=\"middle\" x=\"5970\" y=\"-37.8\" font-family=\"helvetica\" font-size=\"14.00\">gini = 0.278</text>\n",
       "<text text-anchor=\"middle\" x=\"5970\" y=\"-22.8\" font-family=\"helvetica\" font-size=\"14.00\">samples = 6</text>\n",
       "<text text-anchor=\"middle\" x=\"5970\" y=\"-7.8\" font-family=\"helvetica\" font-size=\"14.00\">value = [0, 0, 0, 5, 1]</text>\n",
       "</g>\n",
       "<!-- 88&#45;&gt;90 -->\n",
       "<g id=\"edge90\" class=\"edge\">\n",
       "<title>88&#45;&gt;90</title>\n",
       "<path fill=\"none\" stroke=\"black\" d=\"M5867.26,-88.95C5883.85,-79.02 5901.99,-68.18 5918.34,-58.4\"/>\n",
       "<polygon fill=\"black\" stroke=\"black\" points=\"5920.43,-61.22 5927.22,-53.09 5916.84,-55.22 5920.43,-61.22\"/>\n",
       "</g>\n",
       "<!-- 93 -->\n",
       "<g id=\"node94\" class=\"node\">\n",
       "<title>93</title>\n",
       "<path fill=\"#f08edb\" stroke=\"black\" d=\"M6422.5,-261C6422.5,-261 6299.5,-261 6299.5,-261 6293.5,-261 6287.5,-255 6287.5,-249 6287.5,-249 6287.5,-205 6287.5,-205 6287.5,-199 6293.5,-193 6299.5,-193 6299.5,-193 6422.5,-193 6422.5,-193 6428.5,-193 6434.5,-199 6434.5,-205 6434.5,-205 6434.5,-249 6434.5,-249 6434.5,-255 6428.5,-261 6422.5,-261\"/>\n",
       "<text text-anchor=\"middle\" x=\"6361\" y=\"-245.8\" font-family=\"helvetica\" font-size=\"14.00\">social &lt;= 0.892</text>\n",
       "<text text-anchor=\"middle\" x=\"6361\" y=\"-230.8\" font-family=\"helvetica\" font-size=\"14.00\">gini = 0.42</text>\n",
       "<text text-anchor=\"middle\" x=\"6361\" y=\"-215.8\" font-family=\"helvetica\" font-size=\"14.00\">samples = 20</text>\n",
       "<text text-anchor=\"middle\" x=\"6361\" y=\"-200.8\" font-family=\"helvetica\" font-size=\"14.00\">value = [0, 0, 0, 6, 14]</text>\n",
       "</g>\n",
       "<!-- 92&#45;&gt;93 -->\n",
       "<g id=\"edge93\" class=\"edge\">\n",
       "<title>92&#45;&gt;93</title>\n",
       "<path fill=\"none\" stroke=\"black\" d=\"M6361,-296.88C6361,-288.78 6361,-279.98 6361,-271.47\"/>\n",
       "<polygon fill=\"black\" stroke=\"black\" points=\"6364.5,-271.3 6361,-261.3 6357.5,-271.3 6364.5,-271.3\"/>\n",
       "</g>\n",
       "<!-- 100 -->\n",
       "<g id=\"node101\" class=\"node\">\n",
       "<title>100</title>\n",
       "<path fill=\"#9e9cf2\" stroke=\"black\" d=\"M6660,-261C6660,-261 6544,-261 6544,-261 6538,-261 6532,-255 6532,-249 6532,-249 6532,-205 6532,-205 6532,-199 6538,-193 6544,-193 6544,-193 6660,-193 6660,-193 6666,-193 6672,-199 6672,-205 6672,-205 6672,-249 6672,-249 6672,-255 6666,-261 6660,-261\"/>\n",
       "<text text-anchor=\"middle\" x=\"6602\" y=\"-245.8\" font-family=\"helvetica\" font-size=\"14.00\">atpressure &lt;= 1.349</text>\n",
       "<text text-anchor=\"middle\" x=\"6602\" y=\"-230.8\" font-family=\"helvetica\" font-size=\"14.00\">gini = 0.444</text>\n",
       "<text text-anchor=\"middle\" x=\"6602\" y=\"-215.8\" font-family=\"helvetica\" font-size=\"14.00\">samples = 3</text>\n",
       "<text text-anchor=\"middle\" x=\"6602\" y=\"-200.8\" font-family=\"helvetica\" font-size=\"14.00\">value = [0, 0, 0, 2, 1]</text>\n",
       "</g>\n",
       "<!-- 92&#45;&gt;100 -->\n",
       "<g id=\"edge100\" class=\"edge\">\n",
       "<title>92&#45;&gt;100</title>\n",
       "<path fill=\"none\" stroke=\"black\" d=\"M6434.62,-298.84C6462.35,-287.1 6494.01,-273.71 6522.28,-261.74\"/>\n",
       "<polygon fill=\"black\" stroke=\"black\" points=\"6523.88,-264.87 6531.72,-257.74 6521.15,-258.42 6523.88,-264.87\"/>\n",
       "</g>\n",
       "<!-- 94 -->\n",
       "<g id=\"node95\" class=\"node\">\n",
       "<title>94</title>\n",
       "<path fill=\"#ed74d3\" stroke=\"black\" d=\"M6343.5,-157C6343.5,-157 6220.5,-157 6220.5,-157 6214.5,-157 6208.5,-151 6208.5,-145 6208.5,-145 6208.5,-101 6208.5,-101 6208.5,-95 6214.5,-89 6220.5,-89 6220.5,-89 6343.5,-89 6343.5,-89 6349.5,-89 6355.5,-95 6355.5,-101 6355.5,-101 6355.5,-145 6355.5,-145 6355.5,-151 6349.5,-157 6343.5,-157\"/>\n",
       "<text text-anchor=\"middle\" x=\"6282\" y=\"-141.8\" font-family=\"helvetica\" font-size=\"14.00\">atpressure &lt;= &#45;0.457</text>\n",
       "<text text-anchor=\"middle\" x=\"6282\" y=\"-126.8\" font-family=\"helvetica\" font-size=\"14.00\">gini = 0.355</text>\n",
       "<text text-anchor=\"middle\" x=\"6282\" y=\"-111.8\" font-family=\"helvetica\" font-size=\"14.00\">samples = 13</text>\n",
       "<text text-anchor=\"middle\" x=\"6282\" y=\"-96.8\" font-family=\"helvetica\" font-size=\"14.00\">value = [0, 0, 0, 3, 10]</text>\n",
       "</g>\n",
       "<!-- 93&#45;&gt;94 -->\n",
       "<g id=\"edge94\" class=\"edge\">\n",
       "<title>93&#45;&gt;94</title>\n",
       "<path fill=\"none\" stroke=\"black\" d=\"M6335.35,-192.88C6328.52,-184.07 6321.06,-174.43 6313.94,-165.24\"/>\n",
       "<polygon fill=\"black\" stroke=\"black\" points=\"6316.68,-163.06 6307.79,-157.3 6311.15,-167.35 6316.68,-163.06\"/>\n",
       "</g>\n",
       "<!-- 97 -->\n",
       "<g id=\"node98\" class=\"node\">\n",
       "<title>97</title>\n",
       "<path fill=\"#f8ceef\" stroke=\"black\" d=\"M6502,-157C6502,-157 6386,-157 6386,-157 6380,-157 6374,-151 6374,-145 6374,-145 6374,-101 6374,-101 6374,-95 6380,-89 6386,-89 6386,-89 6502,-89 6502,-89 6508,-89 6514,-95 6514,-101 6514,-101 6514,-145 6514,-145 6514,-151 6508,-157 6502,-157\"/>\n",
       "<text text-anchor=\"middle\" x=\"6444\" y=\"-141.8\" font-family=\"helvetica\" font-size=\"14.00\">atpressure &lt;= 0.446</text>\n",
       "<text text-anchor=\"middle\" x=\"6444\" y=\"-126.8\" font-family=\"helvetica\" font-size=\"14.00\">gini = 0.49</text>\n",
       "<text text-anchor=\"middle\" x=\"6444\" y=\"-111.8\" font-family=\"helvetica\" font-size=\"14.00\">samples = 7</text>\n",
       "<text text-anchor=\"middle\" x=\"6444\" y=\"-96.8\" font-family=\"helvetica\" font-size=\"14.00\">value = [0, 0, 0, 3, 4]</text>\n",
       "</g>\n",
       "<!-- 93&#45;&gt;97 -->\n",
       "<g id=\"edge97\" class=\"edge\">\n",
       "<title>93&#45;&gt;97</title>\n",
       "<path fill=\"none\" stroke=\"black\" d=\"M6387.95,-192.88C6395.12,-184.07 6402.96,-174.43 6410.45,-165.24\"/>\n",
       "<polygon fill=\"black\" stroke=\"black\" points=\"6413.31,-167.26 6416.9,-157.3 6407.88,-162.85 6413.31,-167.26\"/>\n",
       "</g>\n",
       "<!-- 95 -->\n",
       "<g id=\"node96\" class=\"node\">\n",
       "<title>95</title>\n",
       "<path fill=\"#ffffff\" stroke=\"black\" d=\"M6186,-53C6186,-53 6070,-53 6070,-53 6064,-53 6058,-47 6058,-41 6058,-41 6058,-12 6058,-12 6058,-6 6064,0 6070,0 6070,0 6186,0 6186,0 6192,0 6198,-6 6198,-12 6198,-12 6198,-41 6198,-41 6198,-47 6192,-53 6186,-53\"/>\n",
       "<text text-anchor=\"middle\" x=\"6128\" y=\"-37.8\" font-family=\"helvetica\" font-size=\"14.00\">gini = 0.5</text>\n",
       "<text text-anchor=\"middle\" x=\"6128\" y=\"-22.8\" font-family=\"helvetica\" font-size=\"14.00\">samples = 6</text>\n",
       "<text text-anchor=\"middle\" x=\"6128\" y=\"-7.8\" font-family=\"helvetica\" font-size=\"14.00\">value = [0, 0, 0, 3, 3]</text>\n",
       "</g>\n",
       "<!-- 94&#45;&gt;95 -->\n",
       "<g id=\"edge95\" class=\"edge\">\n",
       "<title>94&#45;&gt;95</title>\n",
       "<path fill=\"none\" stroke=\"black\" d=\"M6228.14,-88.95C6212.04,-79.07 6194.45,-68.28 6178.57,-58.53\"/>\n",
       "<polygon fill=\"black\" stroke=\"black\" points=\"6180.3,-55.48 6169.94,-53.24 6176.63,-61.45 6180.3,-55.48\"/>\n",
       "</g>\n",
       "<!-- 96 -->\n",
       "<g id=\"node97\" class=\"node\">\n",
       "<title>96</title>\n",
       "<path fill=\"#e539c0\" stroke=\"black\" d=\"M6344,-53C6344,-53 6228,-53 6228,-53 6222,-53 6216,-47 6216,-41 6216,-41 6216,-12 6216,-12 6216,-6 6222,0 6228,0 6228,0 6344,0 6344,0 6350,0 6356,-6 6356,-12 6356,-12 6356,-41 6356,-41 6356,-47 6350,-53 6344,-53\"/>\n",
       "<text text-anchor=\"middle\" x=\"6286\" y=\"-37.8\" font-family=\"helvetica\" font-size=\"14.00\">gini = 0.0</text>\n",
       "<text text-anchor=\"middle\" x=\"6286\" y=\"-22.8\" font-family=\"helvetica\" font-size=\"14.00\">samples = 7</text>\n",
       "<text text-anchor=\"middle\" x=\"6286\" y=\"-7.8\" font-family=\"helvetica\" font-size=\"14.00\">value = [0, 0, 0, 0, 7]</text>\n",
       "</g>\n",
       "<!-- 94&#45;&gt;96 -->\n",
       "<g id=\"edge96\" class=\"edge\">\n",
       "<title>94&#45;&gt;96</title>\n",
       "<path fill=\"none\" stroke=\"black\" d=\"M6283.4,-88.95C6283.75,-80.72 6284.12,-71.85 6284.48,-63.48\"/>\n",
       "<polygon fill=\"black\" stroke=\"black\" points=\"6287.98,-63.38 6284.91,-53.24 6280.99,-63.08 6287.98,-63.38\"/>\n",
       "</g>\n",
       "<!-- 98 -->\n",
       "<g id=\"node99\" class=\"node\">\n",
       "<title>98</title>\n",
       "<path fill=\"#f29ce0\" stroke=\"black\" d=\"M6502,-53C6502,-53 6386,-53 6386,-53 6380,-53 6374,-47 6374,-41 6374,-41 6374,-12 6374,-12 6374,-6 6380,0 6386,0 6386,0 6502,0 6502,0 6508,0 6514,-6 6514,-12 6514,-12 6514,-41 6514,-41 6514,-47 6508,-53 6502,-53\"/>\n",
       "<text text-anchor=\"middle\" x=\"6444\" y=\"-37.8\" font-family=\"helvetica\" font-size=\"14.00\">gini = 0.444</text>\n",
       "<text text-anchor=\"middle\" x=\"6444\" y=\"-22.8\" font-family=\"helvetica\" font-size=\"14.00\">samples = 6</text>\n",
       "<text text-anchor=\"middle\" x=\"6444\" y=\"-7.8\" font-family=\"helvetica\" font-size=\"14.00\">value = [0, 0, 0, 2, 4]</text>\n",
       "</g>\n",
       "<!-- 97&#45;&gt;98 -->\n",
       "<g id=\"edge98\" class=\"edge\">\n",
       "<title>97&#45;&gt;98</title>\n",
       "<path fill=\"none\" stroke=\"black\" d=\"M6444,-88.95C6444,-80.72 6444,-71.85 6444,-63.48\"/>\n",
       "<polygon fill=\"black\" stroke=\"black\" points=\"6447.5,-63.24 6444,-53.24 6440.5,-63.24 6447.5,-63.24\"/>\n",
       "</g>\n",
       "<!-- 99 -->\n",
       "<g id=\"node100\" class=\"node\">\n",
       "<title>99</title>\n",
       "<path fill=\"#3c39e5\" stroke=\"black\" d=\"M6660,-53C6660,-53 6544,-53 6544,-53 6538,-53 6532,-47 6532,-41 6532,-41 6532,-12 6532,-12 6532,-6 6538,0 6544,0 6544,0 6660,0 6660,0 6666,0 6672,-6 6672,-12 6672,-12 6672,-41 6672,-41 6672,-47 6666,-53 6660,-53\"/>\n",
       "<text text-anchor=\"middle\" x=\"6602\" y=\"-37.8\" font-family=\"helvetica\" font-size=\"14.00\">gini = 0.0</text>\n",
       "<text text-anchor=\"middle\" x=\"6602\" y=\"-22.8\" font-family=\"helvetica\" font-size=\"14.00\">samples = 1</text>\n",
       "<text text-anchor=\"middle\" x=\"6602\" y=\"-7.8\" font-family=\"helvetica\" font-size=\"14.00\">value = [0, 0, 0, 1, 0]</text>\n",
       "</g>\n",
       "<!-- 97&#45;&gt;99 -->\n",
       "<g id=\"edge99\" class=\"edge\">\n",
       "<title>97&#45;&gt;99</title>\n",
       "<path fill=\"none\" stroke=\"black\" d=\"M6499.26,-88.95C6515.85,-79.02 6533.99,-68.18 6550.34,-58.4\"/>\n",
       "<polygon fill=\"black\" stroke=\"black\" points=\"6552.43,-61.22 6559.22,-53.09 6548.84,-55.22 6552.43,-61.22\"/>\n",
       "</g>\n",
       "<!-- 101 -->\n",
       "<g id=\"node102\" class=\"node\">\n",
       "<title>101</title>\n",
       "<path fill=\"#3c39e5\" stroke=\"black\" d=\"M6660,-149.5C6660,-149.5 6544,-149.5 6544,-149.5 6538,-149.5 6532,-143.5 6532,-137.5 6532,-137.5 6532,-108.5 6532,-108.5 6532,-102.5 6538,-96.5 6544,-96.5 6544,-96.5 6660,-96.5 6660,-96.5 6666,-96.5 6672,-102.5 6672,-108.5 6672,-108.5 6672,-137.5 6672,-137.5 6672,-143.5 6666,-149.5 6660,-149.5\"/>\n",
       "<text text-anchor=\"middle\" x=\"6602\" y=\"-134.3\" font-family=\"helvetica\" font-size=\"14.00\">gini = 0.0</text>\n",
       "<text text-anchor=\"middle\" x=\"6602\" y=\"-119.3\" font-family=\"helvetica\" font-size=\"14.00\">samples = 1</text>\n",
       "<text text-anchor=\"middle\" x=\"6602\" y=\"-104.3\" font-family=\"helvetica\" font-size=\"14.00\">value = [0, 0, 0, 1, 0]</text>\n",
       "</g>\n",
       "<!-- 100&#45;&gt;101 -->\n",
       "<g id=\"edge101\" class=\"edge\">\n",
       "<title>100&#45;&gt;101</title>\n",
       "<path fill=\"none\" stroke=\"black\" d=\"M6602,-192.88C6602,-182.33 6602,-170.6 6602,-159.85\"/>\n",
       "<polygon fill=\"black\" stroke=\"black\" points=\"6605.5,-159.52 6602,-149.52 6598.5,-159.52 6605.5,-159.52\"/>\n",
       "</g>\n",
       "<!-- 102 -->\n",
       "<g id=\"node103\" class=\"node\">\n",
       "<title>102</title>\n",
       "<path fill=\"#ffffff\" stroke=\"black\" d=\"M6818,-149.5C6818,-149.5 6702,-149.5 6702,-149.5 6696,-149.5 6690,-143.5 6690,-137.5 6690,-137.5 6690,-108.5 6690,-108.5 6690,-102.5 6696,-96.5 6702,-96.5 6702,-96.5 6818,-96.5 6818,-96.5 6824,-96.5 6830,-102.5 6830,-108.5 6830,-108.5 6830,-137.5 6830,-137.5 6830,-143.5 6824,-149.5 6818,-149.5\"/>\n",
       "<text text-anchor=\"middle\" x=\"6760\" y=\"-134.3\" font-family=\"helvetica\" font-size=\"14.00\">gini = 0.5</text>\n",
       "<text text-anchor=\"middle\" x=\"6760\" y=\"-119.3\" font-family=\"helvetica\" font-size=\"14.00\">samples = 2</text>\n",
       "<text text-anchor=\"middle\" x=\"6760\" y=\"-104.3\" font-family=\"helvetica\" font-size=\"14.00\">value = [0, 0, 0, 1, 1]</text>\n",
       "</g>\n",
       "<!-- 100&#45;&gt;102 -->\n",
       "<g id=\"edge102\" class=\"edge\">\n",
       "<title>100&#45;&gt;102</title>\n",
       "<path fill=\"none\" stroke=\"black\" d=\"M6653.3,-192.88C6672.12,-180.73 6693.35,-167.03 6711.89,-155.06\"/>\n",
       "<polygon fill=\"black\" stroke=\"black\" points=\"6713.97,-157.88 6720.47,-149.52 6710.17,-152 6713.97,-157.88\"/>\n",
       "</g>\n",
       "</g>\n",
       "</svg>\n"
      ],
      "text/plain": [
       "<graphviz.files.Source at 0x7f80bee79710>"
      ]
     },
     "execution_count": 63,
     "metadata": {},
     "output_type": "execute_result"
    }
   ],
   "source": [
    "from graphviz import Source\n",
    "\n",
    "Source.from_file(os.path.join(IMAGES_PATH, 'tree.dot'))"
   ]
  },
  {
   "cell_type": "code",
   "execution_count": 64,
   "id": "5f732d04",
   "metadata": {},
   "outputs": [
    {
     "data": {
      "text/plain": [
       "target\n",
       "4         179\n",
       "3         106\n",
       "2          43\n",
       "5          32\n",
       "1           2\n",
       "dtype: int64"
      ]
     },
     "execution_count": 64,
     "metadata": {},
     "output_type": "execute_result"
    }
   ],
   "source": [
    "df_numerical[['target']].value_counts()"
   ]
  },
  {
   "cell_type": "code",
   "execution_count": 65,
   "id": "d306f643",
   "metadata": {},
   "outputs": [],
   "source": [
    "!dot -Tpng ./images/tree.dot -o tree.png"
   ]
  },
  {
   "cell_type": "code",
   "execution_count": 66,
   "id": "9dab379e",
   "metadata": {},
   "outputs": [],
   "source": [
    "# y_pred = tree_reg.predict(X_train_prepared)\n",
    "# rmse = mean_squared_error(y_train, y_pred, squared=False)\n",
    "# rmse"
   ]
  },
  {
   "cell_type": "code",
   "execution_count": 67,
   "id": "9d17161f",
   "metadata": {
    "scrolled": true
   },
   "outputs": [],
   "source": [
    "# r2_score(y_train, y_pred)"
   ]
  },
  {
   "cell_type": "markdown",
   "id": "7c577634",
   "metadata": {},
   "source": [
    "**Better evaluation using cross validation**"
   ]
  },
  {
   "cell_type": "code",
   "execution_count": 68,
   "id": "148e371b",
   "metadata": {},
   "outputs": [
    {
     "name": "stderr",
     "output_type": "stream",
     "text": [
      "/home/amit/anaconda3/envs/tf2/lib/python3.7/site-packages/sklearn/model_selection/_split.py:668: UserWarning: The least populated class in y has only 2 members, which is less than n_splits=5.\n",
      "  % (min_groups, self.n_splits)), UserWarning)\n"
     ]
    }
   ],
   "source": [
    "from sklearn.model_selection import cross_val_score\n",
    "\n",
    "tree_scores = cross_val_score(tree_clf, X_train_prepared, y_train, scoring='f1_weighted', cv=5)"
   ]
  },
  {
   "cell_type": "code",
   "execution_count": 69,
   "id": "0f34ad5b",
   "metadata": {},
   "outputs": [
    {
     "name": "stdout",
     "output_type": "stream",
     "text": [
      "Scores [0.58478426 0.68946058 0.63087626 0.5805275  0.48406714]\n",
      "Mean: 0.5939431474113711\n",
      "Std: 0.0675636523662465\n"
     ]
    }
   ],
   "source": [
    "def display_scores(scores, model):\n",
    "    print('Scores', scores)\n",
    "    print('Mean:', scores.mean())\n",
    "    print('Std:', scores.std())\n",
    "    performance_test[model] = scores.mean()\n",
    "display_scores(tree_scores, 'decision_tree')"
   ]
  },
  {
   "cell_type": "markdown",
   "id": "ae4e2f43",
   "metadata": {},
   "source": [
    "### SVM"
   ]
  },
  {
   "cell_type": "code",
   "execution_count": 70,
   "id": "9383521c",
   "metadata": {},
   "outputs": [
    {
     "data": {
      "text/plain": [
       "SVC(C=1, probability=True)"
      ]
     },
     "execution_count": 70,
     "metadata": {},
     "output_type": "execute_result"
    }
   ],
   "source": [
    "from sklearn.svm import SVC\n",
    "\n",
    "svm_clf = SVC(C=1, probability=True)\n",
    "svm_clf.fit(X_train_prepared, y_train)"
   ]
  },
  {
   "cell_type": "code",
   "execution_count": 71,
   "id": "46e18b76",
   "metadata": {},
   "outputs": [
    {
     "data": {
      "text/plain": [
       "array([[-2.20533812,  0.07656027, -1.92393999, -0.11851183],\n",
       "       [-2.20533812,  0.07656027, -1.92393999,  0.10728439],\n",
       "       [ 0.39509315,  0.07656027, -1.92393999,  0.78467304],\n",
       "       ...,\n",
       "       [ 1.26190357,  0.07656027, -0.85409932,  1.01046926],\n",
       "       [ 1.26190357,  1.7068436 ,  1.28558202,  0.10728439],\n",
       "       [-1.3385277 , -1.55372307,  1.28558202,  0.33308061]])"
      ]
     },
     "execution_count": 71,
     "metadata": {},
     "output_type": "execute_result"
    }
   ],
   "source": [
    "svm_clf.support_vectors_"
   ]
  },
  {
   "cell_type": "code",
   "execution_count": 72,
   "id": "b564cc54",
   "metadata": {
    "scrolled": true
   },
   "outputs": [
    {
     "data": {
      "text/plain": [
       "362"
      ]
     },
     "execution_count": 72,
     "metadata": {},
     "output_type": "execute_result"
    }
   ],
   "source": [
    "len(svm_clf.decision_function(X_train_prepared))"
   ]
  },
  {
   "cell_type": "code",
   "execution_count": 73,
   "id": "d6401ae7",
   "metadata": {},
   "outputs": [
    {
     "data": {
      "text/plain": [
       "0.7078297973665484"
      ]
     },
     "execution_count": 73,
     "metadata": {},
     "output_type": "execute_result"
    }
   ],
   "source": [
    "y_pred = svm_clf.predict(X_train_prepared)\n",
    "f1_score(y_train, y_pred, average='weighted')"
   ]
  },
  {
   "cell_type": "code",
   "execution_count": 74,
   "id": "676e6782",
   "metadata": {},
   "outputs": [],
   "source": [
    "performance['SVM'] = svm_clf.score(X_train_prepared, y_train)"
   ]
  },
  {
   "cell_type": "markdown",
   "id": "d9351a63",
   "metadata": {},
   "source": [
    "**Better evaluation using cross validation**"
   ]
  },
  {
   "cell_type": "code",
   "execution_count": 75,
   "id": "c4e79402",
   "metadata": {
    "scrolled": true
   },
   "outputs": [
    {
     "name": "stdout",
     "output_type": "stream",
     "text": [
      "Scores [0.55439937 0.65055667 0.68465036 0.63055556 0.55913726]\n",
      "Mean: 0.6158598429044299\n",
      "Std: 0.051277304713360186\n"
     ]
    },
    {
     "name": "stderr",
     "output_type": "stream",
     "text": [
      "/home/amit/anaconda3/envs/tf2/lib/python3.7/site-packages/sklearn/model_selection/_split.py:668: UserWarning: The least populated class in y has only 2 members, which is less than n_splits=5.\n",
      "  % (min_groups, self.n_splits)), UserWarning)\n"
     ]
    }
   ],
   "source": [
    "from sklearn.model_selection import cross_val_score\n",
    "\n",
    "svc_scores = cross_val_score(svm_clf, X_train_prepared, y_train, scoring='f1_weighted', cv=5)\n",
    "display_scores(svc_scores, model='SVM')"
   ]
  },
  {
   "cell_type": "code",
   "execution_count": 76,
   "id": "bff8ad3b",
   "metadata": {},
   "outputs": [],
   "source": [
    "lin_scores = cross_val_score(lin_reg, X_train_prepared, y_train,\n",
    "                            scoring='neg_mean_squared_error', cv=10)\n",
    "lin_rmse_squares = np.sqrt(-lin_scores)\n",
    "# display_scores(lin_rmse_squares)"
   ]
  },
  {
   "cell_type": "code",
   "execution_count": 77,
   "id": "d763e7b5",
   "metadata": {},
   "outputs": [
    {
     "data": {
      "text/plain": [
       "RandomForestRegressor(max_depth=5, n_estimators=10, random_state=42)"
      ]
     },
     "execution_count": 77,
     "metadata": {},
     "output_type": "execute_result"
    }
   ],
   "source": [
    "from sklearn.ensemble import RandomForestRegressor\n",
    "\n",
    "forest_reg = RandomForestRegressor(random_state=42, n_estimators=10, max_depth=5)\n",
    "forest_reg.fit(X_train_prepared, y_train)"
   ]
  },
  {
   "cell_type": "code",
   "execution_count": 78,
   "id": "501e9cea",
   "metadata": {},
   "outputs": [
    {
     "data": {
      "text/plain": [
       "0.6932802423259857"
      ]
     },
     "execution_count": 78,
     "metadata": {},
     "output_type": "execute_result"
    }
   ],
   "source": [
    "forest_reg.score(X_train_prepared, y_train)"
   ]
  },
  {
   "cell_type": "markdown",
   "id": "7f679257",
   "metadata": {},
   "source": [
    "### Ensemble Learning"
   ]
  },
  {
   "cell_type": "code",
   "execution_count": 79,
   "id": "dfa71788",
   "metadata": {},
   "outputs": [
    {
     "data": {
      "text/plain": [
       "{'max_depth': 12, 'max_features': 2, 'n_estimators': 30}"
      ]
     },
     "execution_count": 79,
     "metadata": {},
     "output_type": "execute_result"
    }
   ],
   "source": [
    "{'max_depth': 12, 'max_features': 2, 'n_estimators': 30}"
   ]
  },
  {
   "cell_type": "code",
   "execution_count": 80,
   "id": "7b498d04",
   "metadata": {},
   "outputs": [
    {
     "data": {
      "text/plain": [
       "RandomForestClassifier(max_depth=12, max_features=2, n_estimators=30, n_jobs=-1,\n",
       "                       random_state=42)"
      ]
     },
     "execution_count": 80,
     "metadata": {},
     "output_type": "execute_result"
    }
   ],
   "source": [
    "from sklearn.ensemble import RandomForestClassifier\n",
    "\n",
    "forest_clf = RandomForestClassifier(random_state=42, n_estimators=30, max_depth=12, max_features=2, n_jobs=-1)\n",
    "forest_clf.fit(X_train_prepared, y_train)"
   ]
  },
  {
   "cell_type": "code",
   "execution_count": 81,
   "id": "6251d67e",
   "metadata": {
    "scrolled": true
   },
   "outputs": [
    {
     "data": {
      "text/plain": [
       "array([4, 2, 4, 3, 3, 3, 2, 3, 4, 4, 3, 3, 2, 3, 4, 5, 3, 2, 2, 3])"
      ]
     },
     "execution_count": 81,
     "metadata": {},
     "output_type": "execute_result"
    }
   ],
   "source": [
    "forest_clf.predict(some_data)"
   ]
  },
  {
   "cell_type": "code",
   "execution_count": 82,
   "id": "749e543e",
   "metadata": {
    "scrolled": true
   },
   "outputs": [
    {
     "data": {
      "text/plain": [
       "array([4, 2, 4, 3, 3, 3, 3, 3, 5, 4, 3, 3, 2, 3, 4, 5, 3, 4, 3, 3])"
      ]
     },
     "execution_count": 82,
     "metadata": {},
     "output_type": "execute_result"
    }
   ],
   "source": [
    "some_labels"
   ]
  },
  {
   "cell_type": "code",
   "execution_count": 83,
   "id": "db16e0f3",
   "metadata": {},
   "outputs": [],
   "source": [
    "performance['forest_clf'] = forest_clf.score(X_train_prepared, y_train)"
   ]
  },
  {
   "cell_type": "code",
   "execution_count": 84,
   "id": "9386621a",
   "metadata": {},
   "outputs": [
    {
     "data": {
      "text/plain": [
       "0.13259668508287292"
      ]
     },
     "execution_count": 84,
     "metadata": {},
     "output_type": "execute_result"
    }
   ],
   "source": [
    "y_pred = forest_clf.predict(X_train_prepared)\n",
    "forest_mae = mean_absolute_error(y_pred, y_train)\n",
    "forest_mae"
   ]
  },
  {
   "cell_type": "code",
   "execution_count": 85,
   "id": "deb6a265",
   "metadata": {
    "scrolled": true
   },
   "outputs": [
    {
     "data": {
      "text/plain": [
       "0.8815478992976504"
      ]
     },
     "execution_count": 85,
     "metadata": {},
     "output_type": "execute_result"
    }
   ],
   "source": [
    "f1_score(y_pred, y_train, average='weighted')"
   ]
  },
  {
   "cell_type": "code",
   "execution_count": 86,
   "id": "847ee6c4",
   "metadata": {},
   "outputs": [
    {
     "name": "stderr",
     "output_type": "stream",
     "text": [
      "/home/amit/anaconda3/envs/tf2/lib/python3.7/site-packages/sklearn/model_selection/_split.py:668: UserWarning: The least populated class in y has only 2 members, which is less than n_splits=5.\n",
      "  % (min_groups, self.n_splits)), UserWarning)\n"
     ]
    },
    {
     "name": "stdout",
     "output_type": "stream",
     "text": [
      "Scores [0.55903056 0.70375334 0.71435089 0.71014493 0.64769147]\n",
      "Mean: 0.6669942369764075\n",
      "Std: 0.05913479431549506\n"
     ]
    }
   ],
   "source": [
    "forest_scores = cross_val_score(forest_clf, X_train_prepared, y_train,\n",
    "                            scoring='f1_weighted', cv=5)\n",
    "# forest_rmse_squares = np.sqrt(-forest_scores)\n",
    "display_scores(forest_scores, model='forest_clf')"
   ]
  },
  {
   "cell_type": "code",
   "execution_count": 87,
   "id": "fe803bdf",
   "metadata": {
    "scrolled": true
   },
   "outputs": [
    {
     "data": {
      "text/plain": [
       "count    5.000000\n",
       "mean     0.666994\n",
       "std      0.066115\n",
       "min      0.559031\n",
       "25%      0.647691\n",
       "50%      0.703753\n",
       "75%      0.710145\n",
       "max      0.714351\n",
       "dtype: float64"
      ]
     },
     "execution_count": 87,
     "metadata": {},
     "output_type": "execute_result"
    }
   ],
   "source": [
    "pd.Series(forest_scores).describe()"
   ]
  },
  {
   "cell_type": "code",
   "execution_count": 88,
   "id": "069aca53",
   "metadata": {},
   "outputs": [
    {
     "data": {
      "text/plain": [
       "array([0.34726316, 0.1172614 , 0.16548715, 0.36998829])"
      ]
     },
     "execution_count": 88,
     "metadata": {},
     "output_type": "execute_result"
    }
   ],
   "source": [
    "forest_clf.feature_importances_"
   ]
  },
  {
   "cell_type": "code",
   "execution_count": 89,
   "id": "d5f57715",
   "metadata": {},
   "outputs": [
    {
     "data": {
      "text/plain": [
       "ExtraTreesClassifier(max_depth=12, max_features=2, n_estimators=30,\n",
       "                     random_state=42)"
      ]
     },
     "execution_count": 89,
     "metadata": {},
     "output_type": "execute_result"
    }
   ],
   "source": [
    "from sklearn.ensemble import ExtraTreesClassifier\n",
    "\n",
    "extra_trees_clf = ExtraTreesClassifier(max_depth=12, max_features=2, n_estimators=30, random_state=42)\n",
    "extra_trees_clf.fit(X_train_prepared, y_train)"
   ]
  },
  {
   "cell_type": "code",
   "execution_count": 90,
   "id": "3015f4e4",
   "metadata": {},
   "outputs": [
    {
     "data": {
      "text/plain": [
       "0.8812154696132597"
      ]
     },
     "execution_count": 90,
     "metadata": {},
     "output_type": "execute_result"
    }
   ],
   "source": [
    "extra_trees_clf.score(X_train_prepared, y_train)"
   ]
  },
  {
   "cell_type": "code",
   "execution_count": 91,
   "id": "66d685c5",
   "metadata": {},
   "outputs": [
    {
     "data": {
      "text/plain": [
       "array([4, 2, 4, 3, 3, 3, 2, 3, 4, 4, 3, 3, 2, 3, 4, 4, 3, 2, 2, 3])"
      ]
     },
     "execution_count": 91,
     "metadata": {},
     "output_type": "execute_result"
    }
   ],
   "source": [
    "extra_trees_clf.predict(some_data)"
   ]
  },
  {
   "cell_type": "code",
   "execution_count": 92,
   "id": "e5724852",
   "metadata": {},
   "outputs": [
    {
     "data": {
      "text/plain": [
       "array([4, 2, 4, 3, 3, 3, 3, 3, 5, 4, 3, 3, 2, 3, 4, 5, 3, 4, 3, 3])"
      ]
     },
     "execution_count": 92,
     "metadata": {},
     "output_type": "execute_result"
    }
   ],
   "source": [
    "some_labels"
   ]
  },
  {
   "cell_type": "code",
   "execution_count": 93,
   "id": "1e2508b1",
   "metadata": {},
   "outputs": [
    {
     "data": {
      "text/plain": [
       "0.1270718232044199"
      ]
     },
     "execution_count": 93,
     "metadata": {},
     "output_type": "execute_result"
    }
   ],
   "source": [
    "y_pred = extra_trees_clf.predict(X_train_prepared)\n",
    "extra_clf_mae = mean_absolute_error(y_pred, y_train)\n",
    "extra_clf_mae"
   ]
  },
  {
   "cell_type": "code",
   "execution_count": 94,
   "id": "078bd2c4",
   "metadata": {},
   "outputs": [
    {
     "data": {
      "text/plain": [
       "0.8842804398542886"
      ]
     },
     "execution_count": 94,
     "metadata": {},
     "output_type": "execute_result"
    }
   ],
   "source": [
    "f1_score(y_pred, y_train, average='weighted')"
   ]
  },
  {
   "cell_type": "code",
   "execution_count": 95,
   "id": "8b57337c",
   "metadata": {},
   "outputs": [
    {
     "name": "stderr",
     "output_type": "stream",
     "text": [
      "/home/amit/anaconda3/envs/tf2/lib/python3.7/site-packages/sklearn/model_selection/_split.py:668: UserWarning: The least populated class in y has only 2 members, which is less than n_splits=5.\n",
      "  % (min_groups, self.n_splits)), UserWarning)\n"
     ]
    }
   ],
   "source": [
    "grad_scores = cross_val_score(extra_trees_clf, X_train_prepared, y_train,\n",
    "                            scoring='f1_weighted', cv=5)\n",
    "# forest_rmse_squares = np.sqrt(-forest_scores)\n",
    "# display_scores(grad_scores)"
   ]
  },
  {
   "cell_type": "code",
   "execution_count": 96,
   "id": "ad4d6594",
   "metadata": {},
   "outputs": [],
   "source": [
    "# from sklearn.ensemble import VotingClassifier\n",
    "\n",
    "# voting_clf = VotingClassifier(\n",
    "#     estimators=[('rf', forest_clf), ('svc', svm_clf)],\n",
    "#     voting='soft'\n",
    "# )\n",
    "# voting_clf.fit(X_train_prepared, y_train)"
   ]
  },
  {
   "cell_type": "code",
   "execution_count": 97,
   "id": "89e209e9",
   "metadata": {},
   "outputs": [],
   "source": [
    "# from sklearn.metrics import accuracy_score\n",
    "# for clf in (log_clf, forest_clf, voting_clf):\n",
    "#     clf.fit(X_train_prepared, y_train)\n",
    "#     y_pred = clf.predict(X_train_prepared)\n",
    "#     print(clf.__class__.__name__, f1_score(y_train, y_pred, average='weighted'))"
   ]
  },
  {
   "cell_type": "code",
   "execution_count": 98,
   "id": "0396b391",
   "metadata": {},
   "outputs": [
    {
     "ename": "NameError",
     "evalue": "name 'BaggingClassifier' is not defined",
     "output_type": "error",
     "traceback": [
      "\u001b[0;31m---------------------------------------------------------------------------\u001b[0m",
      "\u001b[0;31mNameError\u001b[0m                                 Traceback (most recent call last)",
      "\u001b[0;32m<ipython-input-98-dbc4805686ca>\u001b[0m in \u001b[0;36m<module>\u001b[0;34m\u001b[0m\n\u001b[0;32m----> 1\u001b[0;31m BaggingClassifier(base_estimator=DecisionTreeClassifier(max_depth=10,\n\u001b[0m\u001b[1;32m      2\u001b[0m                                                         max_features=2),\n\u001b[1;32m      3\u001b[0m                   max_samples=0.9, n_estimators=20, n_jobs=-1, oob_score=True)\n",
      "\u001b[0;31mNameError\u001b[0m: name 'BaggingClassifier' is not defined"
     ]
    }
   ],
   "source": [
    "BaggingClassifier(base_estimator=DecisionTreeClassifier(max_depth=10,\n",
    "                                                        max_features=2),\n",
    "                  max_samples=0.9, n_estimators=20, n_jobs=-1, oob_score=True)"
   ]
  },
  {
   "cell_type": "code",
   "execution_count": 99,
   "id": "2cf1a300",
   "metadata": {
    "scrolled": true
   },
   "outputs": [],
   "source": [
    "from sklearn.ensemble import BaggingClassifier\n",
    "from sklearn.tree import DecisionTreeClassifier\n",
    "\n",
    "bag_clf = BaggingClassifier(\n",
    "    DecisionTreeClassifier(max_depth=10, max_features=2), n_estimators=20,\n",
    "    max_samples=0.8, bootstrap=True, n_jobs=-1, oob_score=True, \n",
    ")\n",
    "bag_clf.fit(X_train_prepared, y_train)\n",
    "y_pred = bag_clf.predict(X_train_prepared)"
   ]
  },
  {
   "cell_type": "code",
   "execution_count": 100,
   "id": "efdd37bf",
   "metadata": {},
   "outputs": [
    {
     "data": {
      "text/plain": [
       "0.6270718232044199"
      ]
     },
     "execution_count": 100,
     "metadata": {},
     "output_type": "execute_result"
    }
   ],
   "source": [
    "bag_clf.oob_score_"
   ]
  },
  {
   "cell_type": "code",
   "execution_count": 101,
   "id": "28f31337",
   "metadata": {},
   "outputs": [
    {
     "data": {
      "text/plain": [
       "array([[0.        , 0.        , 0.09090909, 0.65151515, 0.25757576],\n",
       "       [0.        , 0.        , 0.6       , 0.4       , 0.        ],\n",
       "       [0.        , 0.        , 0.08333333, 0.91666667, 0.        ],\n",
       "       ...,\n",
       "       [0.        , 0.54545455, 0.27272727, 0.18181818, 0.        ],\n",
       "       [0.        , 0.        , 0.2       , 0.725     , 0.075     ],\n",
       "       [0.        , 0.        , 1.        , 0.        , 0.        ]])"
      ]
     },
     "execution_count": 101,
     "metadata": {},
     "output_type": "execute_result"
    }
   ],
   "source": [
    "bag_clf.oob_decision_function_"
   ]
  },
  {
   "cell_type": "code",
   "execution_count": 102,
   "id": "166d3c5a",
   "metadata": {},
   "outputs": [],
   "source": [
    "performance['bag_clf'] = bag_clf.score(X_train_prepared, y_train)"
   ]
  },
  {
   "cell_type": "code",
   "execution_count": 103,
   "id": "82e65fd1",
   "metadata": {},
   "outputs": [
    {
     "name": "stdout",
     "output_type": "stream",
     "text": [
      "0.8591160220994475\n"
     ]
    }
   ],
   "source": [
    "from sklearn.metrics import accuracy_score\n",
    "print(accuracy_score(y_train, y_pred))"
   ]
  },
  {
   "cell_type": "code",
   "execution_count": 104,
   "id": "78ed2cb9",
   "metadata": {},
   "outputs": [
    {
     "data": {
      "text/plain": [
       "0.8581069631879741"
      ]
     },
     "execution_count": 104,
     "metadata": {},
     "output_type": "execute_result"
    }
   ],
   "source": [
    "f1_score(y_train, y_pred, average='weighted')"
   ]
  },
  {
   "cell_type": "code",
   "execution_count": 105,
   "id": "2ffbc5f7",
   "metadata": {},
   "outputs": [],
   "source": [
    "bag_svm_clf = BaggingClassifier(\n",
    "    SVC(), n_estimators=500,\n",
    "    max_samples=0.7, bootstrap=True,\n",
    ")\n",
    "bag_svm_clf.fit(X_train_prepared, y_train)\n",
    "y_pred = bag_svm_clf.predict(X_train_prepared)"
   ]
  },
  {
   "cell_type": "code",
   "execution_count": 106,
   "id": "4fc54ec4",
   "metadata": {},
   "outputs": [
    {
     "data": {
      "text/plain": [
       "0.7154696132596685"
      ]
     },
     "execution_count": 106,
     "metadata": {},
     "output_type": "execute_result"
    }
   ],
   "source": [
    "bag_svm_clf.score(X_train_prepared, y_train)"
   ]
  },
  {
   "cell_type": "code",
   "execution_count": 107,
   "id": "89256549",
   "metadata": {},
   "outputs": [],
   "source": [
    "from sklearn.ensemble import AdaBoostClassifier\n",
    "\n",
    "ada_clf = AdaBoostClassifier(\n",
    "    DecisionTreeClassifier(max_depth=12), n_estimators=30,\n",
    "    algorithm='SAMME.R', learning_rate = 0.4, random_state=42,\n",
    ")\n",
    "ada_clf.fit(X_train_prepared, y_train)\n",
    "y_pred = ada_clf.predict(X_train_prepared)"
   ]
  },
  {
   "cell_type": "code",
   "execution_count": 108,
   "id": "53c7548c",
   "metadata": {},
   "outputs": [],
   "source": [
    "performance['ada_clf'] = ada_clf.score(X_train_prepared, y_train)"
   ]
  },
  {
   "cell_type": "code",
   "execution_count": 109,
   "id": "8bafa1fc",
   "metadata": {},
   "outputs": [
    {
     "data": {
      "text/plain": [
       "0.8826412244216245"
      ]
     },
     "execution_count": 109,
     "metadata": {},
     "output_type": "execute_result"
    }
   ],
   "source": [
    "f1_score(y_pred, y_train, average='weighted')"
   ]
  },
  {
   "cell_type": "markdown",
   "id": "44ffaa46",
   "metadata": {},
   "source": [
    "Better evaluation using cross validation"
   ]
  },
  {
   "cell_type": "code",
   "execution_count": 110,
   "id": "1df3ff18",
   "metadata": {},
   "outputs": [
    {
     "name": "stderr",
     "output_type": "stream",
     "text": [
      "/home/amit/anaconda3/envs/tf2/lib/python3.7/site-packages/sklearn/model_selection/_split.py:668: UserWarning: The least populated class in y has only 2 members, which is less than n_splits=5.\n",
      "  % (min_groups, self.n_splits)), UserWarning)\n"
     ]
    }
   ],
   "source": [
    "bag_scores = cross_val_score(bag_svm_clf, X_train_prepared, y_train,\n",
    "                            scoring='f1_weighted', cv=5)\n",
    "# forest_rmse_squares = np.sqrt(-forest_scores)\n",
    "# display_scores(bag_scores)"
   ]
  },
  {
   "cell_type": "code",
   "execution_count": 111,
   "id": "dca0b786",
   "metadata": {},
   "outputs": [
    {
     "name": "stderr",
     "output_type": "stream",
     "text": [
      "/home/amit/anaconda3/envs/tf2/lib/python3.7/site-packages/sklearn/model_selection/_split.py:668: UserWarning: The least populated class in y has only 2 members, which is less than n_splits=10.\n",
      "  % (min_groups, self.n_splits)), UserWarning)\n"
     ]
    },
    {
     "name": "stdout",
     "output_type": "stream",
     "text": [
      "Scores [0.49175149 0.58861004 0.79801587 0.60171261 0.51881614 0.66229584\n",
      " 0.64871984 0.56448413 0.55873016 0.54134065]\n",
      "Mean: 0.5974476767642908\n",
      "Std: 0.0838130395026482\n"
     ]
    }
   ],
   "source": [
    "bag_scores = cross_val_score(bag_clf, X_train_prepared, y_train,\n",
    "                            scoring='f1_weighted', cv=10)\n",
    "# forest_rmse_squares = np.sqrt(-forest_scores)\n",
    "display_scores(bag_scores, 'bag_clf')"
   ]
  },
  {
   "cell_type": "code",
   "execution_count": 112,
   "id": "71630dfa",
   "metadata": {},
   "outputs": [
    {
     "name": "stderr",
     "output_type": "stream",
     "text": [
      "/home/amit/anaconda3/envs/tf2/lib/python3.7/site-packages/sklearn/model_selection/_split.py:668: UserWarning: The least populated class in y has only 2 members, which is less than n_splits=5.\n",
      "  % (min_groups, self.n_splits)), UserWarning)\n"
     ]
    },
    {
     "name": "stdout",
     "output_type": "stream",
     "text": [
      "Scores [0.54979311 0.6757118  0.58687424 0.67935862 0.60230634]\n",
      "Mean: 0.6188088183581799\n",
      "Std: 0.05091079365930409\n"
     ]
    }
   ],
   "source": [
    "ada_scores = cross_val_score(ada_clf, X_train_prepared, y_train,\n",
    "                            scoring='f1_weighted', cv=5)\n",
    "# forest_rmse_squares = np.sqrt(-forest_scores)\n",
    "display_scores(ada_scores, 'ada_clf')"
   ]
  },
  {
   "cell_type": "code",
   "execution_count": 113,
   "id": "344a06ec",
   "metadata": {},
   "outputs": [
    {
     "data": {
      "text/plain": [
       "{'learning_rate': 0.5, 'max_depth': 7, 'n_estimators': 300}"
      ]
     },
     "execution_count": 113,
     "metadata": {},
     "output_type": "execute_result"
    }
   ],
   "source": [
    "{'learning_rate': 0.5, 'max_depth': 7, 'n_estimators': 300}"
   ]
  },
  {
   "cell_type": "code",
   "execution_count": 114,
   "id": "034bbe5e",
   "metadata": {},
   "outputs": [],
   "source": [
    "from sklearn.ensemble import GradientBoostingClassifier\n",
    "\n",
    "grad_clf = GradientBoostingClassifier(max_depth=7, n_estimators=300, learning_rate=0.5, random_state=42)\n",
    "grad_clf.fit(X_train_prepared, y_train)\n",
    "y_pred = grad_clf.predict(X_train_prepared)"
   ]
  },
  {
   "cell_type": "code",
   "execution_count": 115,
   "id": "05b9e9fa",
   "metadata": {},
   "outputs": [],
   "source": [
    "from sklearn.ensemble import GradientBoostingRegressor\n",
    "\n",
    "grad_reg = GradientBoostingRegressor(max_depth=7, n_estimators=100, learning_rate=0.1, random_state=42)\n",
    "grad_reg.fit(X_train_prepared, y_train)\n",
    "y_pred_reg = grad_reg.predict(X_train_prepared)"
   ]
  },
  {
   "cell_type": "code",
   "execution_count": 116,
   "id": "33bf5f1c",
   "metadata": {},
   "outputs": [],
   "source": [
    "performance['grad_clf'] = grad_clf.score(X_train_prepared, y_train)"
   ]
  },
  {
   "cell_type": "code",
   "execution_count": 117,
   "id": "d55c4f00",
   "metadata": {},
   "outputs": [
    {
     "data": {
      "text/plain": [
       "0.872241720780704"
      ]
     },
     "execution_count": 117,
     "metadata": {},
     "output_type": "execute_result"
    }
   ],
   "source": [
    "grad_reg.score(X_train_prepared, y_train)"
   ]
  },
  {
   "cell_type": "code",
   "execution_count": 118,
   "id": "fcd673ec",
   "metadata": {},
   "outputs": [
    {
     "data": {
      "text/plain": [
       "0.8820541290341835"
      ]
     },
     "execution_count": 118,
     "metadata": {},
     "output_type": "execute_result"
    }
   ],
   "source": [
    "f1_score(y_pred, y_train, average='weighted')"
   ]
  },
  {
   "cell_type": "code",
   "execution_count": 119,
   "id": "1ad404d5",
   "metadata": {
    "scrolled": false
   },
   "outputs": [
    {
     "name": "stderr",
     "output_type": "stream",
     "text": [
      "/home/amit/anaconda3/envs/tf2/lib/python3.7/site-packages/sklearn/model_selection/_split.py:668: UserWarning: The least populated class in y has only 2 members, which is less than n_splits=5.\n",
      "  % (min_groups, self.n_splits)), UserWarning)\n"
     ]
    },
    {
     "name": "stdout",
     "output_type": "stream",
     "text": [
      "Scores [0.57738331 0.7494485  0.69706297 0.68252455 0.57057226]\n",
      "Mean: 0.6553983155362919\n",
      "Std: 0.07014130601031687\n"
     ]
    }
   ],
   "source": [
    "grad_scores = cross_val_score(grad_clf, X_train_prepared, y_train,\n",
    "                            scoring='f1_weighted', cv=5)\n",
    "# forest_rmse_squares = np.sqrt(-forest_scores)\n",
    "display_scores(grad_scores, 'grad_clf')"
   ]
  },
  {
   "cell_type": "code",
   "execution_count": 120,
   "id": "9d2ea7f6",
   "metadata": {},
   "outputs": [
    {
     "data": {
      "text/plain": [
       "array([4, 2, 4, 3, 3, 3, 2, 3, 4, 4, 3, 3, 2, 3, 5, 5, 3, 2, 2, 3])"
      ]
     },
     "execution_count": 120,
     "metadata": {},
     "output_type": "execute_result"
    }
   ],
   "source": [
    "grad_clf.predict(some_data)"
   ]
  },
  {
   "cell_type": "code",
   "execution_count": null,
   "id": "aba543fa",
   "metadata": {},
   "outputs": [],
   "source": [
    "grad_reg.predict(some_data)"
   ]
  },
  {
   "cell_type": "code",
   "execution_count": null,
   "id": "12ffb4b2",
   "metadata": {},
   "outputs": [],
   "source": [
    "some_labels"
   ]
  },
  {
   "cell_type": "code",
   "execution_count": null,
   "id": "c952097e",
   "metadata": {
    "scrolled": true
   },
   "outputs": [],
   "source": [
    "grad_clf.predict(X_test_prepared)"
   ]
  },
  {
   "cell_type": "code",
   "execution_count": null,
   "id": "d9dad53e",
   "metadata": {},
   "outputs": [],
   "source": [
    "grad_reg.predict(X_test_prepared)"
   ]
  },
  {
   "cell_type": "code",
   "execution_count": null,
   "id": "fa95f0b8",
   "metadata": {},
   "outputs": [],
   "source": [
    "ada_clf.predict(X_test_prepared)"
   ]
  },
  {
   "cell_type": "code",
   "execution_count": null,
   "id": "5c2ab0f7",
   "metadata": {},
   "outputs": [],
   "source": [
    "y_test"
   ]
  },
  {
   "cell_type": "markdown",
   "id": "0da8ae85",
   "metadata": {},
   "source": [
    "## Fine-tune Model"
   ]
  },
  {
   "cell_type": "markdown",
   "id": "8b7154a6",
   "metadata": {},
   "source": [
    "GridSearch"
   ]
  },
  {
   "cell_type": "code",
   "execution_count": 82,
   "id": "8a387c5d",
   "metadata": {},
   "outputs": [
    {
     "name": "stderr",
     "output_type": "stream",
     "text": [
      "/home/amit/anaconda3/envs/tf2/lib/python3.7/site-packages/sklearn/model_selection/_split.py:668: UserWarning: The least populated class in y has only 2 members, which is less than n_splits=5.\n",
      "  % (min_groups, self.n_splits)), UserWarning)\n"
     ]
    },
    {
     "data": {
      "text/plain": [
       "GridSearchCV(estimator=DecisionTreeClassifier(random_state=42),\n",
       "             param_grid=[{'max_depth': [2, 3, 4, 5, 6, 7, 8, 10, 12, 14, 16,\n",
       "                                        18],\n",
       "                          'max_features': [1, 2, 3, 4]}],\n",
       "             return_train_score=True, scoring='f1_weighted')"
      ]
     },
     "execution_count": 82,
     "metadata": {},
     "output_type": "execute_result"
    }
   ],
   "source": [
    "from sklearn.model_selection import GridSearchCV\n",
    "\n",
    "param_grid = [\n",
    "    {'max_features': [1, 2, 3, 4], 'max_depth': [2, 3, 4, 5, 6, 7, 8, 10, 12, 14, 16, 18]},\n",
    "]\n",
    "\n",
    "tree_clf = DecisionTreeClassifier(random_state=42)\n",
    "grid_search = GridSearchCV(tree_clf, param_grid,\n",
    "                          scoring='f1_weighted',\n",
    "                          return_train_score=True)\n",
    "grid_search.fit(X_train_prepared, y_train)"
   ]
  },
  {
   "cell_type": "code",
   "execution_count": 83,
   "id": "edfeb989",
   "metadata": {},
   "outputs": [
    {
     "data": {
      "text/plain": [
       "{'max_depth': 6, 'max_features': 3}"
      ]
     },
     "execution_count": 83,
     "metadata": {},
     "output_type": "execute_result"
    }
   ],
   "source": [
    "grid_search.best_params_"
   ]
  },
  {
   "cell_type": "code",
   "execution_count": 84,
   "id": "c05b5166",
   "metadata": {},
   "outputs": [
    {
     "data": {
      "text/plain": [
       "0.643161639635091"
      ]
     },
     "execution_count": 84,
     "metadata": {},
     "output_type": "execute_result"
    }
   ],
   "source": [
    "grid_search.best_score_"
   ]
  },
  {
   "cell_type": "code",
   "execution_count": 86,
   "id": "9e8440e7",
   "metadata": {},
   "outputs": [],
   "source": [
    "from sklearn.ensemble import RandomForestClassifier"
   ]
  },
  {
   "cell_type": "code",
   "execution_count": 87,
   "id": "93f1b696",
   "metadata": {},
   "outputs": [
    {
     "name": "stderr",
     "output_type": "stream",
     "text": [
      "/home/amit/anaconda3/envs/tf2/lib/python3.7/site-packages/sklearn/model_selection/_split.py:668: UserWarning: The least populated class in y has only 2 members, which is less than n_splits=5.\n",
      "  % (min_groups, self.n_splits)), UserWarning)\n"
     ]
    },
    {
     "data": {
      "text/plain": [
       "GridSearchCV(cv=5, estimator=RandomForestClassifier(random_state=42),\n",
       "             param_grid=[{'max_depth': [4, 6, 7, 8, 10, 12, 14, 18, 20],\n",
       "                          'max_features': [1, 2, 3, 4],\n",
       "                          'n_estimators': [5, 10, 20, 30, 60, 70, 80, 90, 100,\n",
       "                                           200, 300]}],\n",
       "             return_train_score=True, scoring='f1_weighted')"
      ]
     },
     "execution_count": 87,
     "metadata": {},
     "output_type": "execute_result"
    }
   ],
   "source": [
    "from sklearn.model_selection import GridSearchCV\n",
    "\n",
    "param_grid = [\n",
    "    {'n_estimators': [5, 10, 20, 30, 60, 70, 80, 90, 100, 200, 300], 'max_features': [1, 2, 3, 4], 'max_depth': [4, 6, 7, 8, 10, 12, 14, 18, 20]},\n",
    "]\n",
    "\n",
    "forest_clf = RandomForestClassifier(random_state=42)\n",
    "grid_search = GridSearchCV(forest_clf, param_grid,\n",
    "                          scoring='f1_weighted',\n",
    "                          return_train_score=True, cv=5)\n",
    "grid_search.fit(X_train_prepared, y_train)"
   ]
  },
  {
   "cell_type": "code",
   "execution_count": 88,
   "id": "7193a928",
   "metadata": {
    "scrolled": true
   },
   "outputs": [
    {
     "data": {
      "text/plain": [
       "{'max_depth': 12, 'max_features': 2, 'n_estimators': 30}"
      ]
     },
     "execution_count": 88,
     "metadata": {},
     "output_type": "execute_result"
    }
   ],
   "source": [
    "grid_search.best_params_"
   ]
  },
  {
   "cell_type": "code",
   "execution_count": 89,
   "id": "18f36fcd",
   "metadata": {},
   "outputs": [
    {
     "data": {
      "text/plain": [
       "0.6669942369764075"
      ]
     },
     "execution_count": 89,
     "metadata": {},
     "output_type": "execute_result"
    }
   ],
   "source": [
    "grid_search.best_score_"
   ]
  },
  {
   "cell_type": "code",
   "execution_count": null,
   "id": "11d86661",
   "metadata": {
    "scrolled": true
   },
   "outputs": [],
   "source": [
    "forest_clf.feature_importances_"
   ]
  },
  {
   "cell_type": "code",
   "execution_count": null,
   "id": "fd30658e",
   "metadata": {},
   "outputs": [],
   "source": [
    "param_grid = [\n",
    "    {'n_estimators': [60, 70, 80, 90, 100, 200], \n",
    "     'max_depth': [6, 7, 8, 10, 12],\n",
    "     'learning_rate': [1e-1, 1e-2, 5e-1]},\n",
    "]\n",
    "grad_clf = GradientBoostingClassifier(random_state=42)\n",
    "grid_search = GridSearchCV(grad_clf,\n",
    "                          param_grid=param_grid,\n",
    "                          scoring='f1_weighted', verbose=1)\n",
    "grid_search.fit(X_train_prepared, y_train)"
   ]
  },
  {
   "cell_type": "code",
   "execution_count": null,
   "id": "8433cc5e",
   "metadata": {},
   "outputs": [],
   "source": [
    "grid_search.best_params_"
   ]
  },
  {
   "cell_type": "code",
   "execution_count": null,
   "id": "b5e5a3bf",
   "metadata": {
    "scrolled": true
   },
   "outputs": [],
   "source": [
    "grid_search.best_score_"
   ]
  },
  {
   "cell_type": "code",
   "execution_count": null,
   "id": "9e00c94f",
   "metadata": {
    "scrolled": true
   },
   "outputs": [],
   "source": [
    "from sklearn.model_selection import GridSearchCV\n",
    "\n",
    "param_grid = [\n",
    "    {'n_estimators': [5, 10, 20, 30, 60, 70, 80, 90, 100, 200, 300], 'max_features': [1, 2, 3, 4], 'max_depth': [4, 6, 7, 8, 10, 12, 14]},\n",
    "]\n",
    "\n",
    "forest_clf = RandomForestClassifier(random_state=42)\n",
    "grid_search = GridSearchCV(forest_clf, param_grid,\n",
    "                          scoring='f1_weighted',\n",
    "                          return_train_score=True, cv=5)\n",
    "grid_search.fit(X_train_prepared, y_train)"
   ]
  },
  {
   "cell_type": "markdown",
   "id": "c9ae5e89",
   "metadata": {},
   "source": [
    "**Test set prediction**"
   ]
  },
  {
   "cell_type": "code",
   "execution_count": 186,
   "id": "d142497b",
   "metadata": {},
   "outputs": [
    {
     "data": {
      "text/plain": [
       "array([0.    , 0.    , 0.125 , 0.8125, 0.0625])"
      ]
     },
     "execution_count": 186,
     "metadata": {},
     "output_type": "execute_result"
    }
   ],
   "source": [
    "bag_clf.oob_decision_function_[0]"
   ]
  },
  {
   "cell_type": "code",
   "execution_count": 187,
   "id": "ce972a9c",
   "metadata": {},
   "outputs": [
    {
     "data": {
      "text/plain": [
       "0.5853658536585366"
      ]
     },
     "execution_count": 187,
     "metadata": {},
     "output_type": "execute_result"
    }
   ],
   "source": [
    "bag_clf.score(X_test_prepared, y_test)"
   ]
  },
  {
   "cell_type": "code",
   "execution_count": 188,
   "id": "c5585c4e",
   "metadata": {
    "scrolled": true
   },
   "outputs": [
    {
     "data": {
      "text/plain": [
       "0.6341463414634146"
      ]
     },
     "execution_count": 188,
     "metadata": {},
     "output_type": "execute_result"
    }
   ],
   "source": [
    "forest_clf.score(X_test_prepared, y_test)"
   ]
  },
  {
   "cell_type": "code",
   "execution_count": 189,
   "id": "24aa03ef",
   "metadata": {},
   "outputs": [
    {
     "data": {
      "text/plain": [
       "0.6341463414634146"
      ]
     },
     "execution_count": 189,
     "metadata": {},
     "output_type": "execute_result"
    }
   ],
   "source": [
    "grad_clf.score(X_test_prepared, y_test)"
   ]
  },
  {
   "cell_type": "code",
   "execution_count": 190,
   "id": "2ee31974",
   "metadata": {},
   "outputs": [
    {
     "data": {
      "text/plain": [
       "0.615567439096851"
      ]
     },
     "execution_count": 190,
     "metadata": {},
     "output_type": "execute_result"
    }
   ],
   "source": [
    "y_pred = forest_clf.predict(X_test_prepared)\n",
    "forest_test_score = f1_score(y_test, y_pred, average='weighted')\n",
    "forest_test_score"
   ]
  },
  {
   "cell_type": "code",
   "execution_count": 191,
   "id": "dec41622",
   "metadata": {},
   "outputs": [
    {
     "data": {
      "text/plain": [
       "array([4, 3, 4, 2, 4, 4, 5, 4, 4, 4, 3, 3, 2, 4, 5, 4, 4, 4, 2, 4, 4, 4,\n",
       "       3, 4, 4, 4, 4, 4, 4, 4, 4, 4, 4, 4, 4, 4, 3, 2, 4, 3, 3])"
      ]
     },
     "execution_count": 191,
     "metadata": {},
     "output_type": "execute_result"
    }
   ],
   "source": [
    "y_pred"
   ]
  },
  {
   "cell_type": "code",
   "execution_count": 192,
   "id": "8035a11f",
   "metadata": {},
   "outputs": [
    {
     "data": {
      "text/plain": [
       "array([4, 2, 3, 2, 4, 4, 5, 4, 4, 2, 4, 3, 2, 4, 4, 4, 5, 4, 2, 4, 4, 5,\n",
       "       4, 5, 4, 5, 4, 5, 4, 4, 4, 4, 5, 4, 4, 3, 3, 2, 4, 4, 2])"
      ]
     },
     "execution_count": 192,
     "metadata": {},
     "output_type": "execute_result"
    }
   ],
   "source": [
    "y_test"
   ]
  },
  {
   "cell_type": "markdown",
   "id": "03d33e75",
   "metadata": {},
   "source": [
    "# Let's work on environmental features and TARGET"
   ]
  },
  {
   "cell_type": "code",
   "execution_count": null,
   "id": "da19f272",
   "metadata": {
    "scrolled": false
   },
   "outputs": [],
   "source": [
    "train_set.columns"
   ]
  },
  {
   "cell_type": "code",
   "execution_count": null,
   "id": "2fdc0cde",
   "metadata": {},
   "outputs": [],
   "source": [
    "df.info()"
   ]
  },
  {
   "cell_type": "markdown",
   "id": "bdbd154e",
   "metadata": {},
   "source": [
    "We have no entry in rain column so not using that:"
   ]
  },
  {
   "cell_type": "code",
   "execution_count": null,
   "id": "953404fd",
   "metadata": {
    "scrolled": true
   },
   "outputs": [],
   "source": [
    "df_env = train_set[['lat', 'lon', 'temperature', 'atpressure', 'cloudiness', 'windspeed', 'target']]\n",
    "df_env.head()"
   ]
  },
  {
   "cell_type": "markdown",
   "id": "69ecb50e",
   "metadata": {},
   "source": [
    "## Visualize geographical data"
   ]
  },
  {
   "cell_type": "markdown",
   "id": "c216966b",
   "metadata": {},
   "source": [
    "visualizing target on lat and long spread in map"
   ]
  },
  {
   "cell_type": "code",
   "execution_count": null,
   "id": "c91c4b92",
   "metadata": {},
   "outputs": [],
   "source": [
    "df_env.describe()"
   ]
  },
  {
   "cell_type": "code",
   "execution_count": null,
   "id": "c93a6269",
   "metadata": {
    "scrolled": true
   },
   "outputs": [],
   "source": [
    "corr_matrix = df_env.corr()\n",
    "corr_matrix['target'].sort_values(ascending=False)"
   ]
  },
  {
   "cell_type": "code",
   "execution_count": null,
   "id": "e72f3d0d",
   "metadata": {
    "scrolled": true
   },
   "outputs": [],
   "source": [
    "sns.heatmap(corr_matrix.loc[['target']])\n",
    "plt.show()"
   ]
  },
  {
   "cell_type": "code",
   "execution_count": null,
   "id": "751e6bf3",
   "metadata": {},
   "outputs": [],
   "source": [
    "sns.heatmap(corr_matrix)\n",
    "plt.show()"
   ]
  },
  {
   "cell_type": "code",
   "execution_count": null,
   "id": "c88c8335",
   "metadata": {},
   "outputs": [],
   "source": [
    "sns.pairplot(df_env[['temperature', 'atpressure', 'cloudiness', 'windspeed', 'target']], diag_kind='kde')\n",
    "plt.show()"
   ]
  },
  {
   "cell_type": "code",
   "execution_count": null,
   "id": "cdf05150",
   "metadata": {},
   "outputs": [],
   "source": [
    "df.columns"
   ]
  },
  {
   "cell_type": "code",
   "execution_count": null,
   "id": "76a4abb6",
   "metadata": {},
   "outputs": [],
   "source": [
    "df.corr()['target']"
   ]
  },
  {
   "cell_type": "code",
   "execution_count": null,
   "id": "2512a5c7",
   "metadata": {},
   "outputs": [],
   "source": [
    "df.job"
   ]
  },
  {
   "cell_type": "code",
   "execution_count": null,
   "id": "b0f22ebb",
   "metadata": {},
   "outputs": [],
   "source": [
    "df.iloc[0]"
   ]
  },
  {
   "cell_type": "code",
   "execution_count": null,
   "id": "d8d0ddca",
   "metadata": {},
   "outputs": [],
   "source": [
    "df.info()"
   ]
  },
  {
   "cell_type": "code",
   "execution_count": null,
   "id": "abcf03aa",
   "metadata": {},
   "outputs": [],
   "source": [
    "df[['dow', 'date',\n",
    "       'day slot', 'Province', 'District', ' Previous 1 days',\n",
    "       ' Previous 3 days', ' Previous 6 days', ' Previous 10 days']]\n"
   ]
  },
  {
   "cell_type": "code",
   "execution_count": null,
   "id": "3bdbc4c7",
   "metadata": {},
   "outputs": [],
   "source": [
    "float(df[' Previous 10 days'][0].strip())"
   ]
  },
  {
   "cell_type": "markdown",
   "id": "88adb0b5",
   "metadata": {},
   "source": [
    "- Job would have mattered but we have a lot of null values in there"
   ]
  },
  {
   "cell_type": "code",
   "execution_count": null,
   "id": "e2aa63d4",
   "metadata": {},
   "outputs": [],
   "source": [
    "df[df['Total Sleep (minutes)'].notnull()].corr()['target']"
   ]
  },
  {
   "cell_type": "code",
   "execution_count": null,
   "id": "2472c5af",
   "metadata": {
    "scrolled": false
   },
   "outputs": [],
   "source": [
    "df[df['Total Sleep (minutes)'].isnull()].corr()['target']"
   ]
  },
  {
   "cell_type": "markdown",
   "id": "a9b3c15c",
   "metadata": {},
   "source": [
    "Highest test accuracy: 66.5%<br>\n",
    "Highest train accuracy: 90%"
   ]
  },
  {
   "cell_type": "markdown",
   "id": "95ada50d",
   "metadata": {},
   "source": [
    "# Timeseries Forecasting"
   ]
  },
  {
   "cell_type": "code",
   "execution_count": null,
   "id": "ba117c24",
   "metadata": {},
   "outputs": [],
   "source": []
  },
  {
   "cell_type": "markdown",
   "id": "870b1793",
   "metadata": {},
   "source": [
    "## Best model - `bag_clf`"
   ]
  },
  {
   "cell_type": "code",
   "execution_count": 49,
   "id": "778c83c7",
   "metadata": {},
   "outputs": [
    {
     "data": {
      "text/plain": [
       "Pipeline(steps=[('preparation',\n",
       "                 Pipeline(steps=[('std_scaler', StandardScaler())])),\n",
       "                ('final_model',\n",
       "                 RandomForestClassifier(max_depth=12, max_features=2,\n",
       "                                        n_estimators=30, n_jobs=-1,\n",
       "                                        random_state=42))])"
      ]
     },
     "execution_count": 49,
     "metadata": {},
     "output_type": "execute_result"
    }
   ],
   "source": [
    "full_pipeline_with_predictor = Pipeline([\n",
    "    ('preparation', pipeline),\n",
    "    ('final_model', final_model)\n",
    "])\n",
    "full_pipeline_with_predictor.fit(X_train, y_train)\n"
   ]
  },
  {
   "cell_type": "code",
   "execution_count": 50,
   "id": "bf758fb3",
   "metadata": {},
   "outputs": [],
   "source": [
    "with open('model.pkl', 'wb') as file:\n",
    "    pickle.dump(full_pipeline_with_predictor, file)"
   ]
  },
  {
   "cell_type": "code",
   "execution_count": 51,
   "id": "2d7b59c9",
   "metadata": {},
   "outputs": [
    {
     "data": {
      "text/plain": [
       "Pipeline(steps=[('preparation',\n",
       "                 Pipeline(steps=[('std_scaler', StandardScaler())])),\n",
       "                ('final_model',\n",
       "                 RandomForestClassifier(max_depth=12, max_features=2,\n",
       "                                        n_estimators=30, n_jobs=-1,\n",
       "                                        random_state=42))])"
      ]
     },
     "execution_count": 51,
     "metadata": {},
     "output_type": "execute_result"
    }
   ],
   "source": [
    "with open('model.pkl', 'rb') as file:\n",
    "    final_model = pickle.load(file)\n",
    "    \n",
    "final_model"
   ]
  },
  {
   "cell_type": "code",
   "execution_count": 55,
   "id": "a4d8e3f6",
   "metadata": {},
   "outputs": [
    {
     "data": {
      "text/plain": [
       "array([[   5,    3,    2, 1014]])"
      ]
     },
     "execution_count": 55,
     "metadata": {},
     "output_type": "execute_result"
    }
   ],
   "source": [
    "X_train[0][np.newaxis, :]"
   ]
  },
  {
   "cell_type": "code",
   "execution_count": 54,
   "id": "ae1b791d",
   "metadata": {},
   "outputs": [
    {
     "data": {
      "text/plain": [
       "array([4])"
      ]
     },
     "execution_count": 54,
     "metadata": {},
     "output_type": "execute_result"
    }
   ],
   "source": [
    "final_model.predict(X_train[0][np.newaxis, :])"
   ]
  },
  {
   "cell_type": "code",
   "execution_count": 3,
   "id": "6a889a33",
   "metadata": {},
   "outputs": [],
   "source": [
    "import pickle"
   ]
  },
  {
   "cell_type": "code",
   "execution_count": 2,
   "id": "780712fe",
   "metadata": {},
   "outputs": [],
   "source": [
    "filename = 'finalized_model.pkl'"
   ]
  },
  {
   "cell_type": "code",
   "execution_count": 131,
   "id": "59c93bef",
   "metadata": {},
   "outputs": [],
   "source": [
    "with open(filename, 'wb') as file:\n",
    "    pickle.dump(forest_clf, file)"
   ]
  },
  {
   "cell_type": "code",
   "execution_count": 4,
   "id": "44f28fc5",
   "metadata": {},
   "outputs": [
    {
     "data": {
      "text/plain": [
       "RandomForestClassifier(max_depth=12, max_features=2, n_estimators=30, n_jobs=-1,\n",
       "                       random_state=42)"
      ]
     },
     "execution_count": 4,
     "metadata": {},
     "output_type": "execute_result"
    }
   ],
   "source": [
    "with open(filename, 'rb') as file:\n",
    "    final_model = pickle.load(file)\n",
    "    \n",
    "final_model"
   ]
  },
  {
   "cell_type": "code",
   "execution_count": null,
   "id": "5467ac54",
   "metadata": {},
   "outputs": [],
   "source": [
    "X_tra"
   ]
  },
  {
   "cell_type": "code",
   "execution_count": 133,
   "id": "13d1fcfa",
   "metadata": {
    "scrolled": true
   },
   "outputs": [
    {
     "data": {
      "text/plain": [
       "0.6341463414634146"
      ]
     },
     "execution_count": 133,
     "metadata": {},
     "output_type": "execute_result"
    }
   ],
   "source": [
    "final_model.score(X_test_prepared, y_test)"
   ]
  },
  {
   "cell_type": "code",
   "execution_count": 134,
   "id": "75cc7ed2",
   "metadata": {},
   "outputs": [
    {
     "data": {
      "text/plain": [
       "array([4, 3, 4, 2, 4, 4, 5, 4, 4, 4, 3, 3, 2, 4, 5, 4, 4, 4, 2, 4, 4, 4,\n",
       "       3, 4, 4, 4, 4, 4, 4, 4, 4, 4, 4, 4, 4, 4, 3, 2, 4, 3, 3])"
      ]
     },
     "execution_count": 134,
     "metadata": {},
     "output_type": "execute_result"
    }
   ],
   "source": [
    "final_model.predict(X_test_prepared)"
   ]
  },
  {
   "cell_type": "code",
   "execution_count": 135,
   "id": "9611f560",
   "metadata": {},
   "outputs": [
    {
     "data": {
      "text/plain": [
       "array([4, 3, 4, 2, 4, 4, 5, 4, 4, 4, 3, 3, 2, 4, 5, 4, 4, 4, 2, 4, 4, 4,\n",
       "       3, 4, 4, 4, 4, 4, 4, 4, 4, 4, 4, 4, 4, 4, 3, 2, 4, 3, 3])"
      ]
     },
     "execution_count": 135,
     "metadata": {},
     "output_type": "execute_result"
    }
   ],
   "source": [
    "forest_clf.predict(X_test_prepared)"
   ]
  },
  {
   "cell_type": "code",
   "execution_count": 136,
   "id": "a79767f7",
   "metadata": {},
   "outputs": [
    {
     "data": {
      "text/plain": [
       "array([4, 2, 3, 2, 4, 4, 5, 4, 4, 2, 4, 3, 2, 4, 4, 4, 5, 4, 2, 4, 4, 5,\n",
       "       4, 5, 4, 5, 4, 5, 4, 4, 4, 4, 5, 4, 4, 3, 3, 2, 4, 4, 2])"
      ]
     },
     "execution_count": 136,
     "metadata": {},
     "output_type": "execute_result"
    }
   ],
   "source": [
    "y_test"
   ]
  },
  {
   "cell_type": "code",
   "execution_count": 137,
   "id": "5abac252",
   "metadata": {},
   "outputs": [],
   "source": [
    "performance['forest_clf'] = final_model.score(X_train_prepared, y_train)"
   ]
  },
  {
   "cell_type": "code",
   "execution_count": 138,
   "id": "a0997bb3",
   "metadata": {},
   "outputs": [
    {
     "data": {
      "text/plain": [
       "{'log_clf': 0.6850828729281768,\n",
       " 'decision_tree': 0.7624309392265194,\n",
       " 'SVM': 0.7265193370165746,\n",
       " 'forest_clf': 0.8812154696132597,\n",
       " 'bag_clf': 0.8453038674033149,\n",
       " 'ada_clf': 0.8812154696132597,\n",
       " 'grad_clf': 0.8812154696132597}"
      ]
     },
     "execution_count": 138,
     "metadata": {},
     "output_type": "execute_result"
    }
   ],
   "source": [
    "performance"
   ]
  },
  {
   "cell_type": "code",
   "execution_count": 139,
   "id": "fce901d7",
   "metadata": {},
   "outputs": [
    {
     "data": {
      "text/plain": [
       "{'log_clf': 0.5853658536585366,\n",
       " 'decision_tree': 0.5939431474113711,\n",
       " 'SVM': 0.6158598429044299,\n",
       " 'forest_clf': 0.6669942369764075,\n",
       " 'bag_clf': 0.5974476767642908,\n",
       " 'ada_clf': 0.6188088183581799,\n",
       " 'grad_clf': 0.6553983155362919}"
      ]
     },
     "execution_count": 139,
     "metadata": {},
     "output_type": "execute_result"
    }
   ],
   "source": [
    "performance_test"
   ]
  },
  {
   "cell_type": "code",
   "execution_count": 142,
   "id": "ecc9f070",
   "metadata": {},
   "outputs": [
    {
     "data": {
      "text/html": [
       "<div>\n",
       "<style scoped>\n",
       "    .dataframe tbody tr th:only-of-type {\n",
       "        vertical-align: middle;\n",
       "    }\n",
       "\n",
       "    .dataframe tbody tr th {\n",
       "        vertical-align: top;\n",
       "    }\n",
       "\n",
       "    .dataframe thead th {\n",
       "        text-align: right;\n",
       "    }\n",
       "</style>\n",
       "<table border=\"1\" class=\"dataframe\">\n",
       "  <thead>\n",
       "    <tr style=\"text-align: right;\">\n",
       "      <th></th>\n",
       "      <th>train set</th>\n",
       "      <th>test set</th>\n",
       "    </tr>\n",
       "  </thead>\n",
       "  <tbody>\n",
       "    <tr>\n",
       "      <th>log_clf</th>\n",
       "      <td>0.685083</td>\n",
       "      <td>0.585366</td>\n",
       "    </tr>\n",
       "    <tr>\n",
       "      <th>decision_tree</th>\n",
       "      <td>0.762431</td>\n",
       "      <td>0.593943</td>\n",
       "    </tr>\n",
       "    <tr>\n",
       "      <th>SVM</th>\n",
       "      <td>0.726519</td>\n",
       "      <td>0.615860</td>\n",
       "    </tr>\n",
       "    <tr>\n",
       "      <th>forest_clf</th>\n",
       "      <td>0.881215</td>\n",
       "      <td>0.666994</td>\n",
       "    </tr>\n",
       "    <tr>\n",
       "      <th>bag_clf</th>\n",
       "      <td>0.845304</td>\n",
       "      <td>0.597448</td>\n",
       "    </tr>\n",
       "    <tr>\n",
       "      <th>ada_clf</th>\n",
       "      <td>0.881215</td>\n",
       "      <td>0.618809</td>\n",
       "    </tr>\n",
       "    <tr>\n",
       "      <th>grad_clf</th>\n",
       "      <td>0.881215</td>\n",
       "      <td>0.655398</td>\n",
       "    </tr>\n",
       "  </tbody>\n",
       "</table>\n",
       "</div>"
      ],
      "text/plain": [
       "               train set  test set\n",
       "log_clf         0.685083  0.585366\n",
       "decision_tree   0.762431  0.593943\n",
       "SVM             0.726519  0.615860\n",
       "forest_clf      0.881215  0.666994\n",
       "bag_clf         0.845304  0.597448\n",
       "ada_clf         0.881215  0.618809\n",
       "grad_clf        0.881215  0.655398"
      ]
     },
     "execution_count": 142,
     "metadata": {},
     "output_type": "execute_result"
    }
   ],
   "source": [
    "pd.DataFrame(data={'train set': performance, 'test set': performance_test})"
   ]
  },
  {
   "cell_type": "code",
   "execution_count": 307,
   "id": "3d2319b6",
   "metadata": {
    "scrolled": true
   },
   "outputs": [
    {
     "data": {
      "text/plain": [
       "int"
      ]
     },
     "execution_count": 307,
     "metadata": {},
     "output_type": "execute_result"
    }
   ],
   "source": [
    "type(x)"
   ]
  },
  {
   "cell_type": "code",
   "execution_count": null,
   "id": "6f7bb5ab",
   "metadata": {},
   "outputs": [],
   "source": []
  },
  {
   "cell_type": "code",
   "execution_count": 310,
   "id": "8eede303",
   "metadata": {
    "collapsed": true
   },
   "outputs": [
    {
     "ename": "ValueError",
     "evalue": "too many values to unpack (expected 2)",
     "output_type": "error",
     "traceback": [
      "\u001b[0;31m---------------------------------------------------------------------------\u001b[0m",
      "\u001b[0;31mValueError\u001b[0m                                Traceback (most recent call last)",
      "\u001b[0;32m<ipython-input-310-a1f1592302fc>\u001b[0m in \u001b[0;36m<module>\u001b[0;34m\u001b[0m\n\u001b[0;32m----> 1\u001b[0;31m \u001b[0mtrain_score\u001b[0m \u001b[0;34m=\u001b[0m\u001b[0;34m[\u001b[0m \u001b[0mvalue\u001b[0m \u001b[0;32mfor\u001b[0m \u001b[0mkey\u001b[0m\u001b[0;34m,\u001b[0m \u001b[0mvalue\u001b[0m \u001b[0;32min\u001b[0m \u001b[0mperformance\u001b[0m\u001b[0;34m]\u001b[0m\u001b[0;34m\u001b[0m\u001b[0;34m\u001b[0m\u001b[0m\n\u001b[0m",
      "\u001b[0;32m<ipython-input-310-a1f1592302fc>\u001b[0m in \u001b[0;36m<listcomp>\u001b[0;34m(.0)\u001b[0m\n\u001b[0;32m----> 1\u001b[0;31m \u001b[0mtrain_score\u001b[0m \u001b[0;34m=\u001b[0m\u001b[0;34m[\u001b[0m \u001b[0mvalue\u001b[0m \u001b[0;32mfor\u001b[0m \u001b[0mkey\u001b[0m\u001b[0;34m,\u001b[0m \u001b[0mvalue\u001b[0m \u001b[0;32min\u001b[0m \u001b[0mperformance\u001b[0m\u001b[0;34m]\u001b[0m\u001b[0;34m\u001b[0m\u001b[0;34m\u001b[0m\u001b[0m\n\u001b[0m",
      "\u001b[0;31mValueError\u001b[0m: too many values to unpack (expected 2)"
     ]
    }
   ],
   "source": [
    "train_score =[ value for key, value in performance]"
   ]
  },
  {
   "cell_type": "code",
   "execution_count": 314,
   "id": "b7c896b3",
   "metadata": {},
   "outputs": [
    {
     "name": "stdout",
     "output_type": "stream",
     "text": [
      "Saving figure Performance of each model for prediction\n"
     ]
    },
    {
     "data": {
      "image/png": "[encoded data removed]",
      "text/plain": [
       "<Figure size 432x288 with 1 Axes>"
      ]
     },
     "metadata": {
      "needs_background": "light"
     },
     "output_type": "display_data"
    }
   ],
   "source": [
    "x = np.arange(len(performance))\n",
    "width = 0.3\n",
    "plt.ylabel('F1 score')\n",
    "plt.bar(x - 0.17, performance.values(), width, label='Train')\n",
    "plt.bar(x + 0.17, performance_test.values(), width, label='Test')\n",
    "plt.xticks(ticks=x, labels=performance.keys(), rotation=45)\n",
    "_ = plt.legend()\n",
    "\n",
    "save_fig('Performance of each model for prediction')"
   ]
  },
  {
   "cell_type": "code",
   "execution_count": null,
   "id": "63b29f8b",
   "metadata": {},
   "outputs": [],
   "source": [
    "x = np.arange(len(performance))\n",
    "width = 0.3\n",
    "metric_name = 'mean_absolute_error'\n",
    "metric_index = lstm_model.metrics_names.index('mean_absolute_error')\n",
    "val_mae = [v[metric_index] for v in val_performance.values()]\n",
    "test_mae = [v[metric_index] for v in performance.values()]\n",
    "print(val_mae)\n",
    "print(test_mae)\n",
    "plt.ylabel('mean_absolute_error [Target]')\n",
    "plt.bar(x - 0.17, val_mae, width, label='Validation')\n",
    "plt.bar(x + 0.17, test_mae, width, label='Test')\n",
    "plt.xticks(ticks=x, labels=performance.keys(),\n",
    "           rotation=45)\n",
    "_ = plt.legend()\n",
    "\n",
    "save_fig('Performance of each model')"
   ]
  },
  {
   "cell_type": "markdown",
   "id": "ac4b81af",
   "metadata": {},
   "source": [
    "## Forecasting"
   ]
  },
  {
   "cell_type": "code",
   "execution_count": null,
   "id": "e3807c15",
   "metadata": {},
   "outputs": [],
   "source": [
    "X_train_prepared.shape"
   ]
  },
  {
   "cell_type": "code",
   "execution_count": null,
   "id": "9acfa8bf",
   "metadata": {
    "scrolled": true
   },
   "outputs": [],
   "source": [
    "np.random.seed(42)\n",
    "tf.random.set_seed(42)\n",
    "\n",
    "model = keras.models.Sequential([\n",
    "    keras.layers.Flatten(input_shape=[2, 4]),\n",
    "    keras.layers.Dense(1)\n",
    "])\n",
    "\n",
    "model.compile(loss=\"mse\", optimizer=\"adam\")\n",
    "history = model.fit(X_train_prepared, y_train, epochs=20,\n",
    "                    validation_data=(X_valid, y_valid))"
   ]
  }
 ],
 "metadata": {
  "kernelspec": {
   "display_name": "Python 3",
   "language": "python",
   "name": "python3"
  },
  "language_info": {
   "codemirror_mode": {
    "name": "ipython",
    "version": 3
   },
   "file_extension": ".py",
   "mimetype": "text/x-python",
   "name": "python",
   "nbconvert_exporter": "python",
   "pygments_lexer": "ipython3",
   "version": "3.7.10"
  }
 },
 "nbformat": 4,
 "nbformat_minor": 5
}
